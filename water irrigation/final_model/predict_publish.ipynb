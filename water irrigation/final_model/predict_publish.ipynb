{
 "cells": [
  {
   "cell_type": "code",
   "execution_count": 19,
   "metadata": {},
   "outputs": [],
   "source": [
    "import pandas as pd\n",
    "from dependancies import *"
   ]
  },
  {
   "cell_type": "code",
   "execution_count": 20,
   "metadata": {},
   "outputs": [],
   "source": [
    "mp = MoiturePrediction()"
   ]
  },
  {
   "cell_type": "code",
   "execution_count": 21,
   "metadata": {},
   "outputs": [],
   "source": [
    "DATA_FORMAT = [\n",
    "    \"ST_4\",\n",
    "    \"temp\",\n",
    "    \"humidity\",\n",
    "    \"precip\",\n",
    "    \"windspeed\",\n",
    "    \"cloudcover\",\n",
    "    \"conditions\",\n",
    "]"
   ]
  },
  {
   "cell_type": "code",
   "execution_count": 22,
   "metadata": {},
   "outputs": [],
   "source": [
    "dataset = pd.read_csv(\n",
    "    \"C:/Users/ganes/OneDrive/Documents/GitHub/Project_LISA/water irrigation/storage_dataset/prototype_final_dataset.csv\"\n",
    ")"
   ]
  },
  {
   "cell_type": "code",
   "execution_count": 23,
   "metadata": {},
   "outputs": [],
   "source": [
    "dataset = dataset[DATA_FORMAT]"
   ]
  },
  {
   "cell_type": "code",
   "execution_count": 24,
   "metadata": {},
   "outputs": [
    {
     "data": {
      "text/html": [
       "<div>\n",
       "<style scoped>\n",
       "    .dataframe tbody tr th:only-of-type {\n",
       "        vertical-align: middle;\n",
       "    }\n",
       "\n",
       "    .dataframe tbody tr th {\n",
       "        vertical-align: top;\n",
       "    }\n",
       "\n",
       "    .dataframe thead th {\n",
       "        text-align: right;\n",
       "    }\n",
       "</style>\n",
       "<table border=\"1\" class=\"dataframe\">\n",
       "  <thead>\n",
       "    <tr style=\"text-align: right;\">\n",
       "      <th></th>\n",
       "      <th>ST_4</th>\n",
       "      <th>temp</th>\n",
       "      <th>humidity</th>\n",
       "      <th>precip</th>\n",
       "      <th>windspeed</th>\n",
       "      <th>cloudcover</th>\n",
       "      <th>conditions</th>\n",
       "    </tr>\n",
       "  </thead>\n",
       "  <tbody>\n",
       "    <tr>\n",
       "      <th>0</th>\n",
       "      <td>15.5</td>\n",
       "      <td>21.6</td>\n",
       "      <td>84.50</td>\n",
       "      <td>0.0</td>\n",
       "      <td>22.3</td>\n",
       "      <td>100.0</td>\n",
       "      <td>Overcast</td>\n",
       "    </tr>\n",
       "    <tr>\n",
       "      <th>1</th>\n",
       "      <td>15.6</td>\n",
       "      <td>21.6</td>\n",
       "      <td>84.97</td>\n",
       "      <td>0.0</td>\n",
       "      <td>27.7</td>\n",
       "      <td>91.7</td>\n",
       "      <td>Overcast</td>\n",
       "    </tr>\n",
       "    <tr>\n",
       "      <th>2</th>\n",
       "      <td>15.6</td>\n",
       "      <td>21.2</td>\n",
       "      <td>86.87</td>\n",
       "      <td>0.0</td>\n",
       "      <td>22.8</td>\n",
       "      <td>62.7</td>\n",
       "      <td>Partially cloudy</td>\n",
       "    </tr>\n",
       "    <tr>\n",
       "      <th>3</th>\n",
       "      <td>15.7</td>\n",
       "      <td>21.2</td>\n",
       "      <td>86.66</td>\n",
       "      <td>0.0</td>\n",
       "      <td>22.8</td>\n",
       "      <td>91.7</td>\n",
       "      <td>Overcast</td>\n",
       "    </tr>\n",
       "    <tr>\n",
       "      <th>4</th>\n",
       "      <td>15.7</td>\n",
       "      <td>21.6</td>\n",
       "      <td>84.50</td>\n",
       "      <td>0.0</td>\n",
       "      <td>19.8</td>\n",
       "      <td>100.0</td>\n",
       "      <td>Overcast</td>\n",
       "    </tr>\n",
       "    <tr>\n",
       "      <th>...</th>\n",
       "      <td>...</td>\n",
       "      <td>...</td>\n",
       "      <td>...</td>\n",
       "      <td>...</td>\n",
       "      <td>...</td>\n",
       "      <td>...</td>\n",
       "      <td>...</td>\n",
       "    </tr>\n",
       "    <tr>\n",
       "      <th>8756</th>\n",
       "      <td>10.0</td>\n",
       "      <td>12.5</td>\n",
       "      <td>90.76</td>\n",
       "      <td>0.0</td>\n",
       "      <td>4.0</td>\n",
       "      <td>36.2</td>\n",
       "      <td>Partially cloudy</td>\n",
       "    </tr>\n",
       "    <tr>\n",
       "      <th>8757</th>\n",
       "      <td>9.9</td>\n",
       "      <td>11.4</td>\n",
       "      <td>93.88</td>\n",
       "      <td>0.0</td>\n",
       "      <td>5.6</td>\n",
       "      <td>20.4</td>\n",
       "      <td>Partially cloudy</td>\n",
       "    </tr>\n",
       "    <tr>\n",
       "      <th>8758</th>\n",
       "      <td>9.7</td>\n",
       "      <td>10.7</td>\n",
       "      <td>96.47</td>\n",
       "      <td>0.0</td>\n",
       "      <td>0.0</td>\n",
       "      <td>37.3</td>\n",
       "      <td>Partially cloudy</td>\n",
       "    </tr>\n",
       "    <tr>\n",
       "      <th>8759</th>\n",
       "      <td>9.6</td>\n",
       "      <td>10.1</td>\n",
       "      <td>99.41</td>\n",
       "      <td>0.0</td>\n",
       "      <td>7.0</td>\n",
       "      <td>79.0</td>\n",
       "      <td>Partially cloudy</td>\n",
       "    </tr>\n",
       "    <tr>\n",
       "      <th>8760</th>\n",
       "      <td>NaN</td>\n",
       "      <td>10.5</td>\n",
       "      <td>96.71</td>\n",
       "      <td>0.0</td>\n",
       "      <td>5.6</td>\n",
       "      <td>87.3</td>\n",
       "      <td>Partially cloudy</td>\n",
       "    </tr>\n",
       "  </tbody>\n",
       "</table>\n",
       "<p>8761 rows × 7 columns</p>\n",
       "</div>"
      ],
      "text/plain": [
       "      ST_4  temp  humidity  precip  windspeed  cloudcover        conditions\n",
       "0     15.5  21.6     84.50     0.0       22.3       100.0          Overcast\n",
       "1     15.6  21.6     84.97     0.0       27.7        91.7          Overcast\n",
       "2     15.6  21.2     86.87     0.0       22.8        62.7  Partially cloudy\n",
       "3     15.7  21.2     86.66     0.0       22.8        91.7          Overcast\n",
       "4     15.7  21.6     84.50     0.0       19.8       100.0          Overcast\n",
       "...    ...   ...       ...     ...        ...         ...               ...\n",
       "8756  10.0  12.5     90.76     0.0        4.0        36.2  Partially cloudy\n",
       "8757   9.9  11.4     93.88     0.0        5.6        20.4  Partially cloudy\n",
       "8758   9.7  10.7     96.47     0.0        0.0        37.3  Partially cloudy\n",
       "8759   9.6  10.1     99.41     0.0        7.0        79.0  Partially cloudy\n",
       "8760   NaN  10.5     96.71     0.0        5.6        87.3  Partially cloudy\n",
       "\n",
       "[8761 rows x 7 columns]"
      ]
     },
     "execution_count": 24,
     "metadata": {},
     "output_type": "execute_result"
    }
   ],
   "source": [
    "dataset"
   ]
  },
  {
   "cell_type": "code",
   "execution_count": 25,
   "metadata": {},
   "outputs": [],
   "source": [
    "dataset.dropna(inplace=True)"
   ]
  },
  {
   "cell_type": "code",
   "execution_count": 26,
   "metadata": {},
   "outputs": [],
   "source": [
    "dataset = dataset.iloc[3000:3002, :]"
   ]
  },
  {
   "cell_type": "code",
   "execution_count": 28,
   "metadata": {},
   "outputs": [
    {
     "name": "stdout",
     "output_type": "stream",
     "text": [
      "0 -> Sent {\"SM_4\": 39.0249996185, \"ST_4\": 20.6, \"temp\": 19.2, \"humidity\": 99.13, \"precip\": 2.793, \"windspeed\": 0.5, \"cloudcover\": 72.5, \"conditions\": \"Rain, Partially cloudy\"} to topic test69\n",
      "1 -> Sent {\"SM_4\": 26.2250002623, \"ST_4\": 20.5, \"temp\": 19.1, \"humidity\": 98.35, \"precip\": 0.0, \"windspeed\": 9.3, \"cloudcover\": 96.1, \"conditions\": \"Overcast\"} to topic test69\n"
     ]
    }
   ],
   "source": [
    "for idx, i in enumerate(dataset.iterrows()):\n",
    "    print(idx, end=\" -> \")\n",
    "    mp.Predict(pd.DataFrame(i[1]).T)"
   ]
  },
  {
   "cell_type": "code",
   "execution_count": null,
   "metadata": {},
   "outputs": [],
   "source": []
  }
 ],
 "metadata": {
  "kernelspec": {
   "display_name": "Python 3",
   "language": "python",
   "name": "python3"
  },
  "language_info": {
   "codemirror_mode": {
    "name": "ipython",
    "version": 3
   },
   "file_extension": ".py",
   "mimetype": "text/x-python",
   "name": "python",
   "nbconvert_exporter": "python",
   "pygments_lexer": "ipython3",
   "version": "3.11.6"
  }
 },
 "nbformat": 4,
 "nbformat_minor": 2
}
