{
  "cells": [
    {
      "cell_type": "code",
      "execution_count": 1,
      "metadata": {
        "id": "UjDqu0FX9c3d"
      },
      "outputs": [
        {
          "name": "stdout",
          "output_type": "stream",
          "text": [
            "WARNING:tensorflow:From c:\\Users\\ganes\\AppData\\Local\\Programs\\Python\\Python311\\Lib\\site-packages\\keras\\src\\losses.py:2976: The name tf.losses.sparse_softmax_cross_entropy is deprecated. Please use tf.compat.v1.losses.sparse_softmax_cross_entropy instead.\n",
            "\n"
          ]
        }
      ],
      "source": [
        "import numpy as np\n",
        "import pandas as pd\n",
        "import matplotlib.pyplot as plt\n",
        "import tensorflow as tf\n",
        "from tensorflow import keras\n",
        "from sklearn.model_selection import train_test_split\n",
        "from keras.callbacks import EarlyStopping"
      ]
    },
    {
      "cell_type": "code",
      "execution_count": 2,
      "metadata": {
        "colab": {
          "base_uri": "https://localhost:8080/",
          "height": 790
        },
        "id": "8tYvK1DK9c3e",
        "outputId": "1c0343ff-83ca-4018-aa1b-354e5cbb1ab3"
      },
      "outputs": [
        {
          "data": {
            "text/html": [
              "<div>\n",
              "<style scoped>\n",
              "    .dataframe tbody tr th:only-of-type {\n",
              "        vertical-align: middle;\n",
              "    }\n",
              "\n",
              "    .dataframe tbody tr th {\n",
              "        vertical-align: top;\n",
              "    }\n",
              "\n",
              "    .dataframe thead th {\n",
              "        text-align: right;\n",
              "    }\n",
              "</style>\n",
              "<table border=\"1\" class=\"dataframe\">\n",
              "  <thead>\n",
              "    <tr style=\"text-align: right;\">\n",
              "      <th></th>\n",
              "      <th>Date</th>\n",
              "      <th>Time</th>\n",
              "      <th>SM_2</th>\n",
              "      <th>SM_4</th>\n",
              "      <th>SM_8</th>\n",
              "      <th>SM_20</th>\n",
              "      <th>SM_40</th>\n",
              "      <th>ST_2</th>\n",
              "      <th>ST_4</th>\n",
              "      <th>ST_8</th>\n",
              "      <th>...</th>\n",
              "      <th>sealevelpressure</th>\n",
              "      <th>cloudcover</th>\n",
              "      <th>visibility</th>\n",
              "      <th>solarradiation</th>\n",
              "      <th>solarenergy</th>\n",
              "      <th>uvindex</th>\n",
              "      <th>severerisk</th>\n",
              "      <th>conditions</th>\n",
              "      <th>icon</th>\n",
              "      <th>stations</th>\n",
              "    </tr>\n",
              "  </thead>\n",
              "  <tbody>\n",
              "    <tr>\n",
              "      <th>0</th>\n",
              "      <td>01-01-2022</td>\n",
              "      <td>00:00</td>\n",
              "      <td>38.2</td>\n",
              "      <td>35.9</td>\n",
              "      <td>31.0</td>\n",
              "      <td>36.9</td>\n",
              "      <td>34.0</td>\n",
              "      <td>15.9</td>\n",
              "      <td>15.5</td>\n",
              "      <td>15.5</td>\n",
              "      <td>...</td>\n",
              "      <td>1009.4</td>\n",
              "      <td>100.0</td>\n",
              "      <td>16.0</td>\n",
              "      <td>0.0</td>\n",
              "      <td>0.0</td>\n",
              "      <td>0.0</td>\n",
              "      <td>NaN</td>\n",
              "      <td>Overcast</td>\n",
              "      <td>cloudy</td>\n",
              "      <td>KHSV,72323003856,72030763804,KMDQ,AAMA1</td>\n",
              "    </tr>\n",
              "    <tr>\n",
              "      <th>1</th>\n",
              "      <td>01-01-2022</td>\n",
              "      <td>01:00</td>\n",
              "      <td>38.2</td>\n",
              "      <td>36.0</td>\n",
              "      <td>30.9</td>\n",
              "      <td>36.7</td>\n",
              "      <td>34.1</td>\n",
              "      <td>16.0</td>\n",
              "      <td>15.6</td>\n",
              "      <td>15.6</td>\n",
              "      <td>...</td>\n",
              "      <td>1009.3</td>\n",
              "      <td>91.7</td>\n",
              "      <td>16.0</td>\n",
              "      <td>0.0</td>\n",
              "      <td>0.0</td>\n",
              "      <td>0.0</td>\n",
              "      <td>NaN</td>\n",
              "      <td>Overcast</td>\n",
              "      <td>cloudy</td>\n",
              "      <td>KHSV,72323003856,72030763804,KMDQ,AAMA1</td>\n",
              "    </tr>\n",
              "    <tr>\n",
              "      <th>2</th>\n",
              "      <td>01-01-2022</td>\n",
              "      <td>02:00</td>\n",
              "      <td>38.3</td>\n",
              "      <td>36.0</td>\n",
              "      <td>31.0</td>\n",
              "      <td>36.7</td>\n",
              "      <td>33.9</td>\n",
              "      <td>16.0</td>\n",
              "      <td>15.6</td>\n",
              "      <td>15.6</td>\n",
              "      <td>...</td>\n",
              "      <td>1009.3</td>\n",
              "      <td>62.7</td>\n",
              "      <td>16.0</td>\n",
              "      <td>0.0</td>\n",
              "      <td>0.0</td>\n",
              "      <td>0.0</td>\n",
              "      <td>NaN</td>\n",
              "      <td>Partially cloudy</td>\n",
              "      <td>partly-cloudy-night</td>\n",
              "      <td>KHSV,72323003856,72030763804,KMDQ,AAMA1</td>\n",
              "    </tr>\n",
              "    <tr>\n",
              "      <th>3</th>\n",
              "      <td>01-01-2022</td>\n",
              "      <td>03:00</td>\n",
              "      <td>38.3</td>\n",
              "      <td>35.8</td>\n",
              "      <td>30.9</td>\n",
              "      <td>36.7</td>\n",
              "      <td>33.9</td>\n",
              "      <td>16.1</td>\n",
              "      <td>15.7</td>\n",
              "      <td>15.6</td>\n",
              "      <td>...</td>\n",
              "      <td>1009.3</td>\n",
              "      <td>91.7</td>\n",
              "      <td>16.0</td>\n",
              "      <td>0.0</td>\n",
              "      <td>0.0</td>\n",
              "      <td>0.0</td>\n",
              "      <td>NaN</td>\n",
              "      <td>Overcast</td>\n",
              "      <td>cloudy</td>\n",
              "      <td>KHSV,72323003856,72030763804,KMDQ,AAMA1</td>\n",
              "    </tr>\n",
              "    <tr>\n",
              "      <th>4</th>\n",
              "      <td>01-01-2022</td>\n",
              "      <td>04:00</td>\n",
              "      <td>38.3</td>\n",
              "      <td>35.9</td>\n",
              "      <td>30.9</td>\n",
              "      <td>36.7</td>\n",
              "      <td>33.9</td>\n",
              "      <td>16.2</td>\n",
              "      <td>15.7</td>\n",
              "      <td>15.7</td>\n",
              "      <td>...</td>\n",
              "      <td>1009.6</td>\n",
              "      <td>100.0</td>\n",
              "      <td>16.0</td>\n",
              "      <td>0.0</td>\n",
              "      <td>0.0</td>\n",
              "      <td>0.0</td>\n",
              "      <td>NaN</td>\n",
              "      <td>Overcast</td>\n",
              "      <td>cloudy</td>\n",
              "      <td>KHSV,72323003856,72030763804,KMDQ</td>\n",
              "    </tr>\n",
              "    <tr>\n",
              "      <th>...</th>\n",
              "      <td>...</td>\n",
              "      <td>...</td>\n",
              "      <td>...</td>\n",
              "      <td>...</td>\n",
              "      <td>...</td>\n",
              "      <td>...</td>\n",
              "      <td>...</td>\n",
              "      <td>...</td>\n",
              "      <td>...</td>\n",
              "      <td>...</td>\n",
              "      <td>...</td>\n",
              "      <td>...</td>\n",
              "      <td>...</td>\n",
              "      <td>...</td>\n",
              "      <td>...</td>\n",
              "      <td>...</td>\n",
              "      <td>...</td>\n",
              "      <td>...</td>\n",
              "      <td>...</td>\n",
              "      <td>...</td>\n",
              "      <td>...</td>\n",
              "    </tr>\n",
              "    <tr>\n",
              "      <th>8756</th>\n",
              "      <td>31-12-2022</td>\n",
              "      <td>20:00</td>\n",
              "      <td>36.7</td>\n",
              "      <td>36.2</td>\n",
              "      <td>30.5</td>\n",
              "      <td>34.7</td>\n",
              "      <td>31.8</td>\n",
              "      <td>10.2</td>\n",
              "      <td>10.0</td>\n",
              "      <td>9.9</td>\n",
              "      <td>...</td>\n",
              "      <td>1015.1</td>\n",
              "      <td>36.2</td>\n",
              "      <td>16.0</td>\n",
              "      <td>0.0</td>\n",
              "      <td>0.0</td>\n",
              "      <td>0.0</td>\n",
              "      <td>10.0</td>\n",
              "      <td>Partially cloudy</td>\n",
              "      <td>partly-cloudy-night</td>\n",
              "      <td>KHSV,72323003856,72030763804,KMDQ</td>\n",
              "    </tr>\n",
              "    <tr>\n",
              "      <th>8757</th>\n",
              "      <td>31-12-2022</td>\n",
              "      <td>21:00</td>\n",
              "      <td>36.5</td>\n",
              "      <td>36.1</td>\n",
              "      <td>30.3</td>\n",
              "      <td>34.9</td>\n",
              "      <td>31.8</td>\n",
              "      <td>9.9</td>\n",
              "      <td>9.9</td>\n",
              "      <td>9.8</td>\n",
              "      <td>...</td>\n",
              "      <td>1015.6</td>\n",
              "      <td>20.4</td>\n",
              "      <td>16.0</td>\n",
              "      <td>0.0</td>\n",
              "      <td>0.0</td>\n",
              "      <td>0.0</td>\n",
              "      <td>10.0</td>\n",
              "      <td>Partially cloudy</td>\n",
              "      <td>partly-cloudy-night</td>\n",
              "      <td>KHSV,72323003856,72030763804,KMDQ</td>\n",
              "    </tr>\n",
              "    <tr>\n",
              "      <th>8758</th>\n",
              "      <td>31-12-2022</td>\n",
              "      <td>22:00</td>\n",
              "      <td>36.5</td>\n",
              "      <td>36.1</td>\n",
              "      <td>30.3</td>\n",
              "      <td>34.8</td>\n",
              "      <td>32.0</td>\n",
              "      <td>9.7</td>\n",
              "      <td>9.7</td>\n",
              "      <td>9.8</td>\n",
              "      <td>...</td>\n",
              "      <td>1016.1</td>\n",
              "      <td>37.3</td>\n",
              "      <td>12.7</td>\n",
              "      <td>0.0</td>\n",
              "      <td>0.0</td>\n",
              "      <td>0.0</td>\n",
              "      <td>10.0</td>\n",
              "      <td>Partially cloudy</td>\n",
              "      <td>partly-cloudy-night</td>\n",
              "      <td>KHSV,72323003856,72030763804,KMDQ</td>\n",
              "    </tr>\n",
              "    <tr>\n",
              "      <th>8759</th>\n",
              "      <td>31-12-2022</td>\n",
              "      <td>23:00</td>\n",
              "      <td>37.2</td>\n",
              "      <td>36.0</td>\n",
              "      <td>30.3</td>\n",
              "      <td>34.8</td>\n",
              "      <td>32.0</td>\n",
              "      <td>9.4</td>\n",
              "      <td>9.6</td>\n",
              "      <td>9.7</td>\n",
              "      <td>...</td>\n",
              "      <td>1015.9</td>\n",
              "      <td>79.0</td>\n",
              "      <td>14.0</td>\n",
              "      <td>0.0</td>\n",
              "      <td>0.0</td>\n",
              "      <td>0.0</td>\n",
              "      <td>10.0</td>\n",
              "      <td>Partially cloudy</td>\n",
              "      <td>partly-cloudy-night</td>\n",
              "      <td>KHSV,72323003856,72030763804,KMDQ</td>\n",
              "    </tr>\n",
              "    <tr>\n",
              "      <th>8760</th>\n",
              "      <td>NaN</td>\n",
              "      <td>NaN</td>\n",
              "      <td>NaN</td>\n",
              "      <td>NaN</td>\n",
              "      <td>NaN</td>\n",
              "      <td>NaN</td>\n",
              "      <td>NaN</td>\n",
              "      <td>NaN</td>\n",
              "      <td>NaN</td>\n",
              "      <td>NaN</td>\n",
              "      <td>...</td>\n",
              "      <td>1015.9</td>\n",
              "      <td>87.3</td>\n",
              "      <td>16.0</td>\n",
              "      <td>0.0</td>\n",
              "      <td>0.0</td>\n",
              "      <td>0.0</td>\n",
              "      <td>10.0</td>\n",
              "      <td>Partially cloudy</td>\n",
              "      <td>partly-cloudy-night</td>\n",
              "      <td>KHSV,72323003856,72030763804,KMDQ</td>\n",
              "    </tr>\n",
              "  </tbody>\n",
              "</table>\n",
              "<p>8761 rows × 34 columns</p>\n",
              "</div>"
            ],
            "text/plain": [
              "            Date   Time  SM_2  SM_4  SM_8  SM_20  SM_40  ST_2  ST_4  ST_8  \\\n",
              "0     01-01-2022  00:00  38.2  35.9  31.0   36.9   34.0  15.9  15.5  15.5   \n",
              "1     01-01-2022  01:00  38.2  36.0  30.9   36.7   34.1  16.0  15.6  15.6   \n",
              "2     01-01-2022  02:00  38.3  36.0  31.0   36.7   33.9  16.0  15.6  15.6   \n",
              "3     01-01-2022  03:00  38.3  35.8  30.9   36.7   33.9  16.1  15.7  15.6   \n",
              "4     01-01-2022  04:00  38.3  35.9  30.9   36.7   33.9  16.2  15.7  15.7   \n",
              "...          ...    ...   ...   ...   ...    ...    ...   ...   ...   ...   \n",
              "8756  31-12-2022  20:00  36.7  36.2  30.5   34.7   31.8  10.2  10.0   9.9   \n",
              "8757  31-12-2022  21:00  36.5  36.1  30.3   34.9   31.8   9.9   9.9   9.8   \n",
              "8758  31-12-2022  22:00  36.5  36.1  30.3   34.8   32.0   9.7   9.7   9.8   \n",
              "8759  31-12-2022  23:00  37.2  36.0  30.3   34.8   32.0   9.4   9.6   9.7   \n",
              "8760         NaN    NaN   NaN   NaN   NaN    NaN    NaN   NaN   NaN   NaN   \n",
              "\n",
              "      ...  sealevelpressure  cloudcover  visibility  solarradiation  \\\n",
              "0     ...            1009.4       100.0        16.0             0.0   \n",
              "1     ...            1009.3        91.7        16.0             0.0   \n",
              "2     ...            1009.3        62.7        16.0             0.0   \n",
              "3     ...            1009.3        91.7        16.0             0.0   \n",
              "4     ...            1009.6       100.0        16.0             0.0   \n",
              "...   ...               ...         ...         ...             ...   \n",
              "8756  ...            1015.1        36.2        16.0             0.0   \n",
              "8757  ...            1015.6        20.4        16.0             0.0   \n",
              "8758  ...            1016.1        37.3        12.7             0.0   \n",
              "8759  ...            1015.9        79.0        14.0             0.0   \n",
              "8760  ...            1015.9        87.3        16.0             0.0   \n",
              "\n",
              "      solarenergy  uvindex  severerisk        conditions                 icon  \\\n",
              "0             0.0      0.0         NaN          Overcast               cloudy   \n",
              "1             0.0      0.0         NaN          Overcast               cloudy   \n",
              "2             0.0      0.0         NaN  Partially cloudy  partly-cloudy-night   \n",
              "3             0.0      0.0         NaN          Overcast               cloudy   \n",
              "4             0.0      0.0         NaN          Overcast               cloudy   \n",
              "...           ...      ...         ...               ...                  ...   \n",
              "8756          0.0      0.0        10.0  Partially cloudy  partly-cloudy-night   \n",
              "8757          0.0      0.0        10.0  Partially cloudy  partly-cloudy-night   \n",
              "8758          0.0      0.0        10.0  Partially cloudy  partly-cloudy-night   \n",
              "8759          0.0      0.0        10.0  Partially cloudy  partly-cloudy-night   \n",
              "8760          0.0      0.0        10.0  Partially cloudy  partly-cloudy-night   \n",
              "\n",
              "                                     stations  \n",
              "0     KHSV,72323003856,72030763804,KMDQ,AAMA1  \n",
              "1     KHSV,72323003856,72030763804,KMDQ,AAMA1  \n",
              "2     KHSV,72323003856,72030763804,KMDQ,AAMA1  \n",
              "3     KHSV,72323003856,72030763804,KMDQ,AAMA1  \n",
              "4           KHSV,72323003856,72030763804,KMDQ  \n",
              "...                                       ...  \n",
              "8756        KHSV,72323003856,72030763804,KMDQ  \n",
              "8757        KHSV,72323003856,72030763804,KMDQ  \n",
              "8758        KHSV,72323003856,72030763804,KMDQ  \n",
              "8759        KHSV,72323003856,72030763804,KMDQ  \n",
              "8760        KHSV,72323003856,72030763804,KMDQ  \n",
              "\n",
              "[8761 rows x 34 columns]"
            ]
          },
          "execution_count": 2,
          "metadata": {},
          "output_type": "execute_result"
        }
      ],
      "source": [
        "dataset = pd.read_csv(\"datasets/prototype_final_dataset.csv\")\n",
        "dataset"
      ]
    },
    {
      "cell_type": "code",
      "execution_count": 3,
      "metadata": {
        "colab": {
          "base_uri": "https://localhost:8080/"
        },
        "id": "u9r0EEyA9c3f",
        "outputId": "fe79ea9c-d574-4b99-c2cc-e9832c1b08c6"
      },
      "outputs": [
        {
          "data": {
            "text/plain": [
              "Index(['Date', 'Time', 'SM_2', 'SM_4', 'SM_8', 'SM_20', 'SM_40', 'ST_2',\n",
              "       'ST_4', 'ST_8', 'ST_20', 'ST_40', 'temp', 'feelslike', 'dew',\n",
              "       'humidity', 'precip', 'precipprob', 'preciptype', 'snow', 'snowdepth',\n",
              "       'windgust', 'windspeed', 'winddir', 'sealevelpressure', 'cloudcover',\n",
              "       'visibility', 'solarradiation', 'solarenergy', 'uvindex', 'severerisk',\n",
              "       'conditions', 'icon', 'stations'],\n",
              "      dtype='object')"
            ]
          },
          "execution_count": 3,
          "metadata": {},
          "output_type": "execute_result"
        }
      ],
      "source": [
        "dataset.columns"
      ]
    },
    {
      "cell_type": "code",
      "execution_count": 4,
      "metadata": {
        "colab": {
          "base_uri": "https://localhost:8080/"
        },
        "id": "o9BYvYs39c3f",
        "outputId": "322a444b-70f6-417f-c336-f5e6ddc92715"
      },
      "outputs": [
        {
          "data": {
            "text/plain": [
              "8761"
            ]
          },
          "execution_count": 4,
          "metadata": {},
          "output_type": "execute_result"
        }
      ],
      "source": [
        "dataset.__len__()"
      ]
    },
    {
      "cell_type": "code",
      "execution_count": 5,
      "metadata": {
        "colab": {
          "base_uri": "https://localhost:8080/"
        },
        "id": "s6G4shkt9c3f",
        "outputId": "4d68ae60-e769-4a1e-be9b-07d36c4a2ef7"
      },
      "outputs": [
        {
          "name": "stdout",
          "output_type": "stream",
          "text": [
            "<class 'pandas.core.frame.DataFrame'>\n",
            "RangeIndex: 8761 entries, 0 to 8760\n",
            "Data columns (total 34 columns):\n",
            " #   Column            Non-Null Count  Dtype  \n",
            "---  ------            --------------  -----  \n",
            " 0   Date              8760 non-null   object \n",
            " 1   Time              8760 non-null   object \n",
            " 2   SM_2              8760 non-null   float64\n",
            " 3   SM_4              8760 non-null   float64\n",
            " 4   SM_8              8760 non-null   float64\n",
            " 5   SM_20             8760 non-null   float64\n",
            " 6   SM_40             8760 non-null   float64\n",
            " 7   ST_2              8760 non-null   float64\n",
            " 8   ST_4              8760 non-null   float64\n",
            " 9   ST_8              8760 non-null   float64\n",
            " 10  ST_20             8760 non-null   float64\n",
            " 11  ST_40             8760 non-null   float64\n",
            " 12  temp              8760 non-null   float64\n",
            " 13  feelslike         8760 non-null   float64\n",
            " 14  dew               8760 non-null   float64\n",
            " 15  humidity          8760 non-null   float64\n",
            " 16  precip            8760 non-null   float64\n",
            " 17  precipprob        8760 non-null   float64\n",
            " 18  preciptype        786 non-null    object \n",
            " 19  snow              8681 non-null   float64\n",
            " 20  snowdepth         8760 non-null   float64\n",
            " 21  windgust          8172 non-null   float64\n",
            " 22  windspeed         8760 non-null   float64\n",
            " 23  winddir           8760 non-null   float64\n",
            " 24  sealevelpressure  8760 non-null   float64\n",
            " 25  cloudcover        8760 non-null   float64\n",
            " 26  visibility        8760 non-null   float64\n",
            " 27  solarradiation    8760 non-null   float64\n",
            " 28  solarenergy       8760 non-null   float64\n",
            " 29  uvindex           8760 non-null   float64\n",
            " 30  severerisk        8016 non-null   float64\n",
            " 31  conditions        8760 non-null   object \n",
            " 32  icon              8760 non-null   object \n",
            " 33  stations          8760 non-null   object \n",
            "dtypes: float64(28), object(6)\n",
            "memory usage: 2.3+ MB\n"
          ]
        }
      ],
      "source": [
        "dataset.info()"
      ]
    },
    {
      "cell_type": "code",
      "execution_count": 6,
      "metadata": {
        "colab": {
          "base_uri": "https://localhost:8080/"
        },
        "id": "vEIXuk2Y9c3f",
        "outputId": "0bc95970-2eec-4f02-febe-bcf683581270"
      },
      "outputs": [
        {
          "data": {
            "text/plain": [
              "8761"
            ]
          },
          "execution_count": 6,
          "metadata": {},
          "output_type": "execute_result"
        }
      ],
      "source": [
        "dataset.__len__()"
      ]
    },
    {
      "cell_type": "code",
      "execution_count": 7,
      "metadata": {
        "colab": {
          "base_uri": "https://localhost:8080/",
          "height": 790
        },
        "id": "vLiMVf919c3f",
        "outputId": "68b9319d-5218-469c-fee0-e8d6a18017ba"
      },
      "outputs": [
        {
          "data": {
            "text/html": [
              "<div>\n",
              "<style scoped>\n",
              "    .dataframe tbody tr th:only-of-type {\n",
              "        vertical-align: middle;\n",
              "    }\n",
              "\n",
              "    .dataframe tbody tr th {\n",
              "        vertical-align: top;\n",
              "    }\n",
              "\n",
              "    .dataframe thead th {\n",
              "        text-align: right;\n",
              "    }\n",
              "</style>\n",
              "<table border=\"1\" class=\"dataframe\">\n",
              "  <thead>\n",
              "    <tr style=\"text-align: right;\">\n",
              "      <th></th>\n",
              "      <th>Date</th>\n",
              "      <th>Time</th>\n",
              "      <th>SM_2</th>\n",
              "      <th>SM_4</th>\n",
              "      <th>SM_8</th>\n",
              "      <th>SM_20</th>\n",
              "      <th>SM_40</th>\n",
              "      <th>ST_2</th>\n",
              "      <th>ST_4</th>\n",
              "      <th>ST_8</th>\n",
              "      <th>...</th>\n",
              "      <th>sealevelpressure</th>\n",
              "      <th>cloudcover</th>\n",
              "      <th>visibility</th>\n",
              "      <th>solarradiation</th>\n",
              "      <th>solarenergy</th>\n",
              "      <th>uvindex</th>\n",
              "      <th>severerisk</th>\n",
              "      <th>conditions</th>\n",
              "      <th>icon</th>\n",
              "      <th>stations</th>\n",
              "    </tr>\n",
              "  </thead>\n",
              "  <tbody>\n",
              "    <tr>\n",
              "      <th>0</th>\n",
              "      <td>01-01-2022</td>\n",
              "      <td>00:00</td>\n",
              "      <td>38.2</td>\n",
              "      <td>35.9</td>\n",
              "      <td>31.0</td>\n",
              "      <td>36.9</td>\n",
              "      <td>34.0</td>\n",
              "      <td>15.9</td>\n",
              "      <td>15.5</td>\n",
              "      <td>15.5</td>\n",
              "      <td>...</td>\n",
              "      <td>1009.4</td>\n",
              "      <td>100.0</td>\n",
              "      <td>16.0</td>\n",
              "      <td>0.0</td>\n",
              "      <td>0.0</td>\n",
              "      <td>0.0</td>\n",
              "      <td>NaN</td>\n",
              "      <td>Overcast</td>\n",
              "      <td>cloudy</td>\n",
              "      <td>KHSV,72323003856,72030763804,KMDQ,AAMA1</td>\n",
              "    </tr>\n",
              "    <tr>\n",
              "      <th>1</th>\n",
              "      <td>01-01-2022</td>\n",
              "      <td>01:00</td>\n",
              "      <td>38.2</td>\n",
              "      <td>36.0</td>\n",
              "      <td>30.9</td>\n",
              "      <td>36.7</td>\n",
              "      <td>34.1</td>\n",
              "      <td>16.0</td>\n",
              "      <td>15.6</td>\n",
              "      <td>15.6</td>\n",
              "      <td>...</td>\n",
              "      <td>1009.3</td>\n",
              "      <td>91.7</td>\n",
              "      <td>16.0</td>\n",
              "      <td>0.0</td>\n",
              "      <td>0.0</td>\n",
              "      <td>0.0</td>\n",
              "      <td>NaN</td>\n",
              "      <td>Overcast</td>\n",
              "      <td>cloudy</td>\n",
              "      <td>KHSV,72323003856,72030763804,KMDQ,AAMA1</td>\n",
              "    </tr>\n",
              "    <tr>\n",
              "      <th>2</th>\n",
              "      <td>01-01-2022</td>\n",
              "      <td>02:00</td>\n",
              "      <td>38.3</td>\n",
              "      <td>36.0</td>\n",
              "      <td>31.0</td>\n",
              "      <td>36.7</td>\n",
              "      <td>33.9</td>\n",
              "      <td>16.0</td>\n",
              "      <td>15.6</td>\n",
              "      <td>15.6</td>\n",
              "      <td>...</td>\n",
              "      <td>1009.3</td>\n",
              "      <td>62.7</td>\n",
              "      <td>16.0</td>\n",
              "      <td>0.0</td>\n",
              "      <td>0.0</td>\n",
              "      <td>0.0</td>\n",
              "      <td>NaN</td>\n",
              "      <td>Partially cloudy</td>\n",
              "      <td>partly-cloudy-night</td>\n",
              "      <td>KHSV,72323003856,72030763804,KMDQ,AAMA1</td>\n",
              "    </tr>\n",
              "    <tr>\n",
              "      <th>3</th>\n",
              "      <td>01-01-2022</td>\n",
              "      <td>03:00</td>\n",
              "      <td>38.3</td>\n",
              "      <td>35.8</td>\n",
              "      <td>30.9</td>\n",
              "      <td>36.7</td>\n",
              "      <td>33.9</td>\n",
              "      <td>16.1</td>\n",
              "      <td>15.7</td>\n",
              "      <td>15.6</td>\n",
              "      <td>...</td>\n",
              "      <td>1009.3</td>\n",
              "      <td>91.7</td>\n",
              "      <td>16.0</td>\n",
              "      <td>0.0</td>\n",
              "      <td>0.0</td>\n",
              "      <td>0.0</td>\n",
              "      <td>NaN</td>\n",
              "      <td>Overcast</td>\n",
              "      <td>cloudy</td>\n",
              "      <td>KHSV,72323003856,72030763804,KMDQ,AAMA1</td>\n",
              "    </tr>\n",
              "    <tr>\n",
              "      <th>4</th>\n",
              "      <td>01-01-2022</td>\n",
              "      <td>04:00</td>\n",
              "      <td>38.3</td>\n",
              "      <td>35.9</td>\n",
              "      <td>30.9</td>\n",
              "      <td>36.7</td>\n",
              "      <td>33.9</td>\n",
              "      <td>16.2</td>\n",
              "      <td>15.7</td>\n",
              "      <td>15.7</td>\n",
              "      <td>...</td>\n",
              "      <td>1009.6</td>\n",
              "      <td>100.0</td>\n",
              "      <td>16.0</td>\n",
              "      <td>0.0</td>\n",
              "      <td>0.0</td>\n",
              "      <td>0.0</td>\n",
              "      <td>NaN</td>\n",
              "      <td>Overcast</td>\n",
              "      <td>cloudy</td>\n",
              "      <td>KHSV,72323003856,72030763804,KMDQ</td>\n",
              "    </tr>\n",
              "    <tr>\n",
              "      <th>...</th>\n",
              "      <td>...</td>\n",
              "      <td>...</td>\n",
              "      <td>...</td>\n",
              "      <td>...</td>\n",
              "      <td>...</td>\n",
              "      <td>...</td>\n",
              "      <td>...</td>\n",
              "      <td>...</td>\n",
              "      <td>...</td>\n",
              "      <td>...</td>\n",
              "      <td>...</td>\n",
              "      <td>...</td>\n",
              "      <td>...</td>\n",
              "      <td>...</td>\n",
              "      <td>...</td>\n",
              "      <td>...</td>\n",
              "      <td>...</td>\n",
              "      <td>...</td>\n",
              "      <td>...</td>\n",
              "      <td>...</td>\n",
              "      <td>...</td>\n",
              "    </tr>\n",
              "    <tr>\n",
              "      <th>8756</th>\n",
              "      <td>31-12-2022</td>\n",
              "      <td>20:00</td>\n",
              "      <td>36.7</td>\n",
              "      <td>36.2</td>\n",
              "      <td>30.5</td>\n",
              "      <td>34.7</td>\n",
              "      <td>31.8</td>\n",
              "      <td>10.2</td>\n",
              "      <td>10.0</td>\n",
              "      <td>9.9</td>\n",
              "      <td>...</td>\n",
              "      <td>1015.1</td>\n",
              "      <td>36.2</td>\n",
              "      <td>16.0</td>\n",
              "      <td>0.0</td>\n",
              "      <td>0.0</td>\n",
              "      <td>0.0</td>\n",
              "      <td>10.0</td>\n",
              "      <td>Partially cloudy</td>\n",
              "      <td>partly-cloudy-night</td>\n",
              "      <td>KHSV,72323003856,72030763804,KMDQ</td>\n",
              "    </tr>\n",
              "    <tr>\n",
              "      <th>8757</th>\n",
              "      <td>31-12-2022</td>\n",
              "      <td>21:00</td>\n",
              "      <td>36.5</td>\n",
              "      <td>36.1</td>\n",
              "      <td>30.3</td>\n",
              "      <td>34.9</td>\n",
              "      <td>31.8</td>\n",
              "      <td>9.9</td>\n",
              "      <td>9.9</td>\n",
              "      <td>9.8</td>\n",
              "      <td>...</td>\n",
              "      <td>1015.6</td>\n",
              "      <td>20.4</td>\n",
              "      <td>16.0</td>\n",
              "      <td>0.0</td>\n",
              "      <td>0.0</td>\n",
              "      <td>0.0</td>\n",
              "      <td>10.0</td>\n",
              "      <td>Partially cloudy</td>\n",
              "      <td>partly-cloudy-night</td>\n",
              "      <td>KHSV,72323003856,72030763804,KMDQ</td>\n",
              "    </tr>\n",
              "    <tr>\n",
              "      <th>8758</th>\n",
              "      <td>31-12-2022</td>\n",
              "      <td>22:00</td>\n",
              "      <td>36.5</td>\n",
              "      <td>36.1</td>\n",
              "      <td>30.3</td>\n",
              "      <td>34.8</td>\n",
              "      <td>32.0</td>\n",
              "      <td>9.7</td>\n",
              "      <td>9.7</td>\n",
              "      <td>9.8</td>\n",
              "      <td>...</td>\n",
              "      <td>1016.1</td>\n",
              "      <td>37.3</td>\n",
              "      <td>12.7</td>\n",
              "      <td>0.0</td>\n",
              "      <td>0.0</td>\n",
              "      <td>0.0</td>\n",
              "      <td>10.0</td>\n",
              "      <td>Partially cloudy</td>\n",
              "      <td>partly-cloudy-night</td>\n",
              "      <td>KHSV,72323003856,72030763804,KMDQ</td>\n",
              "    </tr>\n",
              "    <tr>\n",
              "      <th>8759</th>\n",
              "      <td>31-12-2022</td>\n",
              "      <td>23:00</td>\n",
              "      <td>37.2</td>\n",
              "      <td>36.0</td>\n",
              "      <td>30.3</td>\n",
              "      <td>34.8</td>\n",
              "      <td>32.0</td>\n",
              "      <td>9.4</td>\n",
              "      <td>9.6</td>\n",
              "      <td>9.7</td>\n",
              "      <td>...</td>\n",
              "      <td>1015.9</td>\n",
              "      <td>79.0</td>\n",
              "      <td>14.0</td>\n",
              "      <td>0.0</td>\n",
              "      <td>0.0</td>\n",
              "      <td>0.0</td>\n",
              "      <td>10.0</td>\n",
              "      <td>Partially cloudy</td>\n",
              "      <td>partly-cloudy-night</td>\n",
              "      <td>KHSV,72323003856,72030763804,KMDQ</td>\n",
              "    </tr>\n",
              "    <tr>\n",
              "      <th>8760</th>\n",
              "      <td>NaN</td>\n",
              "      <td>NaN</td>\n",
              "      <td>NaN</td>\n",
              "      <td>NaN</td>\n",
              "      <td>NaN</td>\n",
              "      <td>NaN</td>\n",
              "      <td>NaN</td>\n",
              "      <td>NaN</td>\n",
              "      <td>NaN</td>\n",
              "      <td>NaN</td>\n",
              "      <td>...</td>\n",
              "      <td>1015.9</td>\n",
              "      <td>87.3</td>\n",
              "      <td>16.0</td>\n",
              "      <td>0.0</td>\n",
              "      <td>0.0</td>\n",
              "      <td>0.0</td>\n",
              "      <td>10.0</td>\n",
              "      <td>Partially cloudy</td>\n",
              "      <td>partly-cloudy-night</td>\n",
              "      <td>KHSV,72323003856,72030763804,KMDQ</td>\n",
              "    </tr>\n",
              "  </tbody>\n",
              "</table>\n",
              "<p>8761 rows × 34 columns</p>\n",
              "</div>"
            ],
            "text/plain": [
              "            Date   Time  SM_2  SM_4  SM_8  SM_20  SM_40  ST_2  ST_4  ST_8  \\\n",
              "0     01-01-2022  00:00  38.2  35.9  31.0   36.9   34.0  15.9  15.5  15.5   \n",
              "1     01-01-2022  01:00  38.2  36.0  30.9   36.7   34.1  16.0  15.6  15.6   \n",
              "2     01-01-2022  02:00  38.3  36.0  31.0   36.7   33.9  16.0  15.6  15.6   \n",
              "3     01-01-2022  03:00  38.3  35.8  30.9   36.7   33.9  16.1  15.7  15.6   \n",
              "4     01-01-2022  04:00  38.3  35.9  30.9   36.7   33.9  16.2  15.7  15.7   \n",
              "...          ...    ...   ...   ...   ...    ...    ...   ...   ...   ...   \n",
              "8756  31-12-2022  20:00  36.7  36.2  30.5   34.7   31.8  10.2  10.0   9.9   \n",
              "8757  31-12-2022  21:00  36.5  36.1  30.3   34.9   31.8   9.9   9.9   9.8   \n",
              "8758  31-12-2022  22:00  36.5  36.1  30.3   34.8   32.0   9.7   9.7   9.8   \n",
              "8759  31-12-2022  23:00  37.2  36.0  30.3   34.8   32.0   9.4   9.6   9.7   \n",
              "8760         NaN    NaN   NaN   NaN   NaN    NaN    NaN   NaN   NaN   NaN   \n",
              "\n",
              "      ...  sealevelpressure  cloudcover  visibility  solarradiation  \\\n",
              "0     ...            1009.4       100.0        16.0             0.0   \n",
              "1     ...            1009.3        91.7        16.0             0.0   \n",
              "2     ...            1009.3        62.7        16.0             0.0   \n",
              "3     ...            1009.3        91.7        16.0             0.0   \n",
              "4     ...            1009.6       100.0        16.0             0.0   \n",
              "...   ...               ...         ...         ...             ...   \n",
              "8756  ...            1015.1        36.2        16.0             0.0   \n",
              "8757  ...            1015.6        20.4        16.0             0.0   \n",
              "8758  ...            1016.1        37.3        12.7             0.0   \n",
              "8759  ...            1015.9        79.0        14.0             0.0   \n",
              "8760  ...            1015.9        87.3        16.0             0.0   \n",
              "\n",
              "      solarenergy  uvindex  severerisk        conditions                 icon  \\\n",
              "0             0.0      0.0         NaN          Overcast               cloudy   \n",
              "1             0.0      0.0         NaN          Overcast               cloudy   \n",
              "2             0.0      0.0         NaN  Partially cloudy  partly-cloudy-night   \n",
              "3             0.0      0.0         NaN          Overcast               cloudy   \n",
              "4             0.0      0.0         NaN          Overcast               cloudy   \n",
              "...           ...      ...         ...               ...                  ...   \n",
              "8756          0.0      0.0        10.0  Partially cloudy  partly-cloudy-night   \n",
              "8757          0.0      0.0        10.0  Partially cloudy  partly-cloudy-night   \n",
              "8758          0.0      0.0        10.0  Partially cloudy  partly-cloudy-night   \n",
              "8759          0.0      0.0        10.0  Partially cloudy  partly-cloudy-night   \n",
              "8760          0.0      0.0        10.0  Partially cloudy  partly-cloudy-night   \n",
              "\n",
              "                                     stations  \n",
              "0     KHSV,72323003856,72030763804,KMDQ,AAMA1  \n",
              "1     KHSV,72323003856,72030763804,KMDQ,AAMA1  \n",
              "2     KHSV,72323003856,72030763804,KMDQ,AAMA1  \n",
              "3     KHSV,72323003856,72030763804,KMDQ,AAMA1  \n",
              "4           KHSV,72323003856,72030763804,KMDQ  \n",
              "...                                       ...  \n",
              "8756        KHSV,72323003856,72030763804,KMDQ  \n",
              "8757        KHSV,72323003856,72030763804,KMDQ  \n",
              "8758        KHSV,72323003856,72030763804,KMDQ  \n",
              "8759        KHSV,72323003856,72030763804,KMDQ  \n",
              "8760        KHSV,72323003856,72030763804,KMDQ  \n",
              "\n",
              "[8761 rows x 34 columns]"
            ]
          },
          "execution_count": 7,
          "metadata": {},
          "output_type": "execute_result"
        }
      ],
      "source": [
        "dataset"
      ]
    },
    {
      "cell_type": "code",
      "execution_count": 8,
      "metadata": {
        "id": "n4oAbZVI9c3f"
      },
      "outputs": [],
      "source": [
        "dataset.drop(\n",
        "    [\n",
        "        \"Date\",\n",
        "        \"SM_2\",\n",
        "        \"SM_8\",\n",
        "        \"SM_20\",\n",
        "        \"SM_40\",\n",
        "        \"ST_2\",\n",
        "        \"ST_8\",\n",
        "        \"ST_20\",\n",
        "        \"ST_40\",\n",
        "        \"solarenergy\",\n",
        "        \"precipprob\",\n",
        "        \"preciptype\",\n",
        "        \"snow\",\n",
        "        \"snowdepth\",\n",
        "        \"windgust\",\n",
        "        \"winddir\",\n",
        "        \"sealevelpressure\",\n",
        "        \"visibility\",\n",
        "        \"solarenergy\",\n",
        "        \"uvindex\",\n",
        "        \"severerisk\",\n",
        "        \"icon\",\n",
        "        \"stations\",\n",
        "        \"dew\",\n",
        "        \"solarradiation\",\n",
        "        \"Time\",\n",
        "        # \"cloudcover\",\n",
        "        \"feelslike\",\n",
        "        # \"windspeed\",\n",
        "    ],\n",
        "    inplace=True,\n",
        "    axis=1,\n",
        ")"
      ]
    },
    {
      "cell_type": "code",
      "execution_count": 9,
      "metadata": {
        "colab": {
          "base_uri": "https://localhost:8080/",
          "height": 423
        },
        "id": "UyLecQH29c3f",
        "outputId": "0b11f842-b33a-49ea-9fef-b0bf8e22d24a"
      },
      "outputs": [
        {
          "data": {
            "text/html": [
              "<div>\n",
              "<style scoped>\n",
              "    .dataframe tbody tr th:only-of-type {\n",
              "        vertical-align: middle;\n",
              "    }\n",
              "\n",
              "    .dataframe tbody tr th {\n",
              "        vertical-align: top;\n",
              "    }\n",
              "\n",
              "    .dataframe thead th {\n",
              "        text-align: right;\n",
              "    }\n",
              "</style>\n",
              "<table border=\"1\" class=\"dataframe\">\n",
              "  <thead>\n",
              "    <tr style=\"text-align: right;\">\n",
              "      <th></th>\n",
              "      <th>SM_4</th>\n",
              "      <th>ST_4</th>\n",
              "      <th>temp</th>\n",
              "      <th>humidity</th>\n",
              "      <th>precip</th>\n",
              "      <th>windspeed</th>\n",
              "      <th>cloudcover</th>\n",
              "      <th>conditions</th>\n",
              "    </tr>\n",
              "  </thead>\n",
              "  <tbody>\n",
              "    <tr>\n",
              "      <th>0</th>\n",
              "      <td>35.9</td>\n",
              "      <td>15.5</td>\n",
              "      <td>21.6</td>\n",
              "      <td>84.50</td>\n",
              "      <td>0.0</td>\n",
              "      <td>22.3</td>\n",
              "      <td>100.0</td>\n",
              "      <td>Overcast</td>\n",
              "    </tr>\n",
              "    <tr>\n",
              "      <th>1</th>\n",
              "      <td>36.0</td>\n",
              "      <td>15.6</td>\n",
              "      <td>21.6</td>\n",
              "      <td>84.97</td>\n",
              "      <td>0.0</td>\n",
              "      <td>27.7</td>\n",
              "      <td>91.7</td>\n",
              "      <td>Overcast</td>\n",
              "    </tr>\n",
              "    <tr>\n",
              "      <th>2</th>\n",
              "      <td>36.0</td>\n",
              "      <td>15.6</td>\n",
              "      <td>21.2</td>\n",
              "      <td>86.87</td>\n",
              "      <td>0.0</td>\n",
              "      <td>22.8</td>\n",
              "      <td>62.7</td>\n",
              "      <td>Partially cloudy</td>\n",
              "    </tr>\n",
              "    <tr>\n",
              "      <th>3</th>\n",
              "      <td>35.8</td>\n",
              "      <td>15.7</td>\n",
              "      <td>21.2</td>\n",
              "      <td>86.66</td>\n",
              "      <td>0.0</td>\n",
              "      <td>22.8</td>\n",
              "      <td>91.7</td>\n",
              "      <td>Overcast</td>\n",
              "    </tr>\n",
              "    <tr>\n",
              "      <th>4</th>\n",
              "      <td>35.9</td>\n",
              "      <td>15.7</td>\n",
              "      <td>21.6</td>\n",
              "      <td>84.50</td>\n",
              "      <td>0.0</td>\n",
              "      <td>19.8</td>\n",
              "      <td>100.0</td>\n",
              "      <td>Overcast</td>\n",
              "    </tr>\n",
              "    <tr>\n",
              "      <th>...</th>\n",
              "      <td>...</td>\n",
              "      <td>...</td>\n",
              "      <td>...</td>\n",
              "      <td>...</td>\n",
              "      <td>...</td>\n",
              "      <td>...</td>\n",
              "      <td>...</td>\n",
              "      <td>...</td>\n",
              "    </tr>\n",
              "    <tr>\n",
              "      <th>8756</th>\n",
              "      <td>36.2</td>\n",
              "      <td>10.0</td>\n",
              "      <td>12.5</td>\n",
              "      <td>90.76</td>\n",
              "      <td>0.0</td>\n",
              "      <td>4.0</td>\n",
              "      <td>36.2</td>\n",
              "      <td>Partially cloudy</td>\n",
              "    </tr>\n",
              "    <tr>\n",
              "      <th>8757</th>\n",
              "      <td>36.1</td>\n",
              "      <td>9.9</td>\n",
              "      <td>11.4</td>\n",
              "      <td>93.88</td>\n",
              "      <td>0.0</td>\n",
              "      <td>5.6</td>\n",
              "      <td>20.4</td>\n",
              "      <td>Partially cloudy</td>\n",
              "    </tr>\n",
              "    <tr>\n",
              "      <th>8758</th>\n",
              "      <td>36.1</td>\n",
              "      <td>9.7</td>\n",
              "      <td>10.7</td>\n",
              "      <td>96.47</td>\n",
              "      <td>0.0</td>\n",
              "      <td>0.0</td>\n",
              "      <td>37.3</td>\n",
              "      <td>Partially cloudy</td>\n",
              "    </tr>\n",
              "    <tr>\n",
              "      <th>8759</th>\n",
              "      <td>36.0</td>\n",
              "      <td>9.6</td>\n",
              "      <td>10.1</td>\n",
              "      <td>99.41</td>\n",
              "      <td>0.0</td>\n",
              "      <td>7.0</td>\n",
              "      <td>79.0</td>\n",
              "      <td>Partially cloudy</td>\n",
              "    </tr>\n",
              "    <tr>\n",
              "      <th>8760</th>\n",
              "      <td>NaN</td>\n",
              "      <td>NaN</td>\n",
              "      <td>10.5</td>\n",
              "      <td>96.71</td>\n",
              "      <td>0.0</td>\n",
              "      <td>5.6</td>\n",
              "      <td>87.3</td>\n",
              "      <td>Partially cloudy</td>\n",
              "    </tr>\n",
              "  </tbody>\n",
              "</table>\n",
              "<p>8761 rows × 8 columns</p>\n",
              "</div>"
            ],
            "text/plain": [
              "      SM_4  ST_4  temp  humidity  precip  windspeed  cloudcover  \\\n",
              "0     35.9  15.5  21.6     84.50     0.0       22.3       100.0   \n",
              "1     36.0  15.6  21.6     84.97     0.0       27.7        91.7   \n",
              "2     36.0  15.6  21.2     86.87     0.0       22.8        62.7   \n",
              "3     35.8  15.7  21.2     86.66     0.0       22.8        91.7   \n",
              "4     35.9  15.7  21.6     84.50     0.0       19.8       100.0   \n",
              "...    ...   ...   ...       ...     ...        ...         ...   \n",
              "8756  36.2  10.0  12.5     90.76     0.0        4.0        36.2   \n",
              "8757  36.1   9.9  11.4     93.88     0.0        5.6        20.4   \n",
              "8758  36.1   9.7  10.7     96.47     0.0        0.0        37.3   \n",
              "8759  36.0   9.6  10.1     99.41     0.0        7.0        79.0   \n",
              "8760   NaN   NaN  10.5     96.71     0.0        5.6        87.3   \n",
              "\n",
              "            conditions  \n",
              "0             Overcast  \n",
              "1             Overcast  \n",
              "2     Partially cloudy  \n",
              "3             Overcast  \n",
              "4             Overcast  \n",
              "...                ...  \n",
              "8756  Partially cloudy  \n",
              "8757  Partially cloudy  \n",
              "8758  Partially cloudy  \n",
              "8759  Partially cloudy  \n",
              "8760  Partially cloudy  \n",
              "\n",
              "[8761 rows x 8 columns]"
            ]
          },
          "execution_count": 9,
          "metadata": {},
          "output_type": "execute_result"
        }
      ],
      "source": [
        "dataset"
      ]
    },
    {
      "cell_type": "code",
      "execution_count": 10,
      "metadata": {
        "colab": {
          "base_uri": "https://localhost:8080/"
        },
        "id": "L8Uf4PVr9c3g",
        "outputId": "9b888e60-d727-40ba-840e-90786c1ddd3c"
      },
      "outputs": [
        {
          "name": "stdout",
          "output_type": "stream",
          "text": [
            "<class 'pandas.core.frame.DataFrame'>\n",
            "RangeIndex: 8761 entries, 0 to 8760\n",
            "Data columns (total 8 columns):\n",
            " #   Column      Non-Null Count  Dtype  \n",
            "---  ------      --------------  -----  \n",
            " 0   SM_4        8760 non-null   float64\n",
            " 1   ST_4        8760 non-null   float64\n",
            " 2   temp        8760 non-null   float64\n",
            " 3   humidity    8760 non-null   float64\n",
            " 4   precip      8760 non-null   float64\n",
            " 5   windspeed   8760 non-null   float64\n",
            " 6   cloudcover  8760 non-null   float64\n",
            " 7   conditions  8760 non-null   object \n",
            "dtypes: float64(7), object(1)\n",
            "memory usage: 547.7+ KB\n"
          ]
        }
      ],
      "source": [
        "dataset.info()"
      ]
    },
    {
      "cell_type": "code",
      "execution_count": 11,
      "metadata": {
        "id": "oGdlriRq9c3g"
      },
      "outputs": [],
      "source": [
        "dataset = dataset.dropna()"
      ]
    },
    {
      "cell_type": "code",
      "execution_count": 12,
      "metadata": {
        "colab": {
          "base_uri": "https://localhost:8080/"
        },
        "id": "pdrIx09F9c3g",
        "outputId": "54a9e586-3488-400c-94d9-2a7efed0a2fb"
      },
      "outputs": [
        {
          "name": "stdout",
          "output_type": "stream",
          "text": [
            "<class 'pandas.core.frame.DataFrame'>\n",
            "Index: 8759 entries, 0 to 8759\n",
            "Data columns (total 8 columns):\n",
            " #   Column      Non-Null Count  Dtype  \n",
            "---  ------      --------------  -----  \n",
            " 0   SM_4        8759 non-null   float64\n",
            " 1   ST_4        8759 non-null   float64\n",
            " 2   temp        8759 non-null   float64\n",
            " 3   humidity    8759 non-null   float64\n",
            " 4   precip      8759 non-null   float64\n",
            " 5   windspeed   8759 non-null   float64\n",
            " 6   cloudcover  8759 non-null   float64\n",
            " 7   conditions  8759 non-null   object \n",
            "dtypes: float64(7), object(1)\n",
            "memory usage: 615.9+ KB\n"
          ]
        }
      ],
      "source": [
        "dataset.info()"
      ]
    },
    {
      "cell_type": "code",
      "execution_count": 13,
      "metadata": {},
      "outputs": [
        {
          "data": {
            "text/plain": [
              "Index(['SM_4', 'ST_4', 'temp', 'humidity', 'precip', 'windspeed', 'cloudcover',\n",
              "       'conditions'],\n",
              "      dtype='object')"
            ]
          },
          "execution_count": 13,
          "metadata": {},
          "output_type": "execute_result"
        }
      ],
      "source": [
        "dataset.columns"
      ]
    },
    {
      "cell_type": "code",
      "execution_count": 14,
      "metadata": {},
      "outputs": [
        {
          "name": "stdout",
          "output_type": "stream",
          "text": [
            "['Overcast' 'Partially cloudy' 'Rain, Partially cloudy' 'Rain, Overcast'\n",
            " 'Snow, Rain, Overcast' 'Snow, Rain, Partially cloudy' 'Clear'\n",
            " 'Snow, Overcast' 'Rain']\n",
            "9\n"
          ]
        }
      ],
      "source": [
        "Categorical_unique_conditions = dataset.conditions.unique()\n",
        "print(Categorical_unique_conditions)\n",
        "print(len(Categorical_unique_conditions))"
      ]
    },
    {
      "cell_type": "code",
      "execution_count": 15,
      "metadata": {},
      "outputs": [
        {
          "data": {
            "text/html": [
              "<div>\n",
              "<style scoped>\n",
              "    .dataframe tbody tr th:only-of-type {\n",
              "        vertical-align: middle;\n",
              "    }\n",
              "\n",
              "    .dataframe tbody tr th {\n",
              "        vertical-align: top;\n",
              "    }\n",
              "\n",
              "    .dataframe thead th {\n",
              "        text-align: right;\n",
              "    }\n",
              "</style>\n",
              "<table border=\"1\" class=\"dataframe\">\n",
              "  <thead>\n",
              "    <tr style=\"text-align: right;\">\n",
              "      <th></th>\n",
              "      <th>SM_4</th>\n",
              "      <th>ST_4</th>\n",
              "      <th>temp</th>\n",
              "      <th>humidity</th>\n",
              "      <th>precip</th>\n",
              "      <th>windspeed</th>\n",
              "      <th>cloudcover</th>\n",
              "      <th>conditions</th>\n",
              "    </tr>\n",
              "  </thead>\n",
              "  <tbody>\n",
              "    <tr>\n",
              "      <th>0</th>\n",
              "      <td>35.9</td>\n",
              "      <td>15.5</td>\n",
              "      <td>21.6</td>\n",
              "      <td>84.50</td>\n",
              "      <td>0.0</td>\n",
              "      <td>22.3</td>\n",
              "      <td>100.0</td>\n",
              "      <td>Overcast</td>\n",
              "    </tr>\n",
              "    <tr>\n",
              "      <th>1</th>\n",
              "      <td>36.0</td>\n",
              "      <td>15.6</td>\n",
              "      <td>21.6</td>\n",
              "      <td>84.97</td>\n",
              "      <td>0.0</td>\n",
              "      <td>27.7</td>\n",
              "      <td>91.7</td>\n",
              "      <td>Overcast</td>\n",
              "    </tr>\n",
              "    <tr>\n",
              "      <th>2</th>\n",
              "      <td>36.0</td>\n",
              "      <td>15.6</td>\n",
              "      <td>21.2</td>\n",
              "      <td>86.87</td>\n",
              "      <td>0.0</td>\n",
              "      <td>22.8</td>\n",
              "      <td>62.7</td>\n",
              "      <td>Partially cloudy</td>\n",
              "    </tr>\n",
              "    <tr>\n",
              "      <th>3</th>\n",
              "      <td>35.8</td>\n",
              "      <td>15.7</td>\n",
              "      <td>21.2</td>\n",
              "      <td>86.66</td>\n",
              "      <td>0.0</td>\n",
              "      <td>22.8</td>\n",
              "      <td>91.7</td>\n",
              "      <td>Overcast</td>\n",
              "    </tr>\n",
              "    <tr>\n",
              "      <th>4</th>\n",
              "      <td>35.9</td>\n",
              "      <td>15.7</td>\n",
              "      <td>21.6</td>\n",
              "      <td>84.50</td>\n",
              "      <td>0.0</td>\n",
              "      <td>19.8</td>\n",
              "      <td>100.0</td>\n",
              "      <td>Overcast</td>\n",
              "    </tr>\n",
              "    <tr>\n",
              "      <th>...</th>\n",
              "      <td>...</td>\n",
              "      <td>...</td>\n",
              "      <td>...</td>\n",
              "      <td>...</td>\n",
              "      <td>...</td>\n",
              "      <td>...</td>\n",
              "      <td>...</td>\n",
              "      <td>...</td>\n",
              "    </tr>\n",
              "    <tr>\n",
              "      <th>8755</th>\n",
              "      <td>36.5</td>\n",
              "      <td>10.1</td>\n",
              "      <td>14.7</td>\n",
              "      <td>77.19</td>\n",
              "      <td>0.0</td>\n",
              "      <td>0.0</td>\n",
              "      <td>37.3</td>\n",
              "      <td>Partially cloudy</td>\n",
              "    </tr>\n",
              "    <tr>\n",
              "      <th>8756</th>\n",
              "      <td>36.2</td>\n",
              "      <td>10.0</td>\n",
              "      <td>12.5</td>\n",
              "      <td>90.76</td>\n",
              "      <td>0.0</td>\n",
              "      <td>4.0</td>\n",
              "      <td>36.2</td>\n",
              "      <td>Partially cloudy</td>\n",
              "    </tr>\n",
              "    <tr>\n",
              "      <th>8757</th>\n",
              "      <td>36.1</td>\n",
              "      <td>9.9</td>\n",
              "      <td>11.4</td>\n",
              "      <td>93.88</td>\n",
              "      <td>0.0</td>\n",
              "      <td>5.6</td>\n",
              "      <td>20.4</td>\n",
              "      <td>Partially cloudy</td>\n",
              "    </tr>\n",
              "    <tr>\n",
              "      <th>8758</th>\n",
              "      <td>36.1</td>\n",
              "      <td>9.7</td>\n",
              "      <td>10.7</td>\n",
              "      <td>96.47</td>\n",
              "      <td>0.0</td>\n",
              "      <td>0.0</td>\n",
              "      <td>37.3</td>\n",
              "      <td>Partially cloudy</td>\n",
              "    </tr>\n",
              "    <tr>\n",
              "      <th>8759</th>\n",
              "      <td>36.0</td>\n",
              "      <td>9.6</td>\n",
              "      <td>10.1</td>\n",
              "      <td>99.41</td>\n",
              "      <td>0.0</td>\n",
              "      <td>7.0</td>\n",
              "      <td>79.0</td>\n",
              "      <td>Partially cloudy</td>\n",
              "    </tr>\n",
              "  </tbody>\n",
              "</table>\n",
              "<p>8759 rows × 8 columns</p>\n",
              "</div>"
            ],
            "text/plain": [
              "      SM_4  ST_4  temp  humidity  precip  windspeed  cloudcover  \\\n",
              "0     35.9  15.5  21.6     84.50     0.0       22.3       100.0   \n",
              "1     36.0  15.6  21.6     84.97     0.0       27.7        91.7   \n",
              "2     36.0  15.6  21.2     86.87     0.0       22.8        62.7   \n",
              "3     35.8  15.7  21.2     86.66     0.0       22.8        91.7   \n",
              "4     35.9  15.7  21.6     84.50     0.0       19.8       100.0   \n",
              "...    ...   ...   ...       ...     ...        ...         ...   \n",
              "8755  36.5  10.1  14.7     77.19     0.0        0.0        37.3   \n",
              "8756  36.2  10.0  12.5     90.76     0.0        4.0        36.2   \n",
              "8757  36.1   9.9  11.4     93.88     0.0        5.6        20.4   \n",
              "8758  36.1   9.7  10.7     96.47     0.0        0.0        37.3   \n",
              "8759  36.0   9.6  10.1     99.41     0.0        7.0        79.0   \n",
              "\n",
              "            conditions  \n",
              "0             Overcast  \n",
              "1             Overcast  \n",
              "2     Partially cloudy  \n",
              "3             Overcast  \n",
              "4             Overcast  \n",
              "...                ...  \n",
              "8755  Partially cloudy  \n",
              "8756  Partially cloudy  \n",
              "8757  Partially cloudy  \n",
              "8758  Partially cloudy  \n",
              "8759  Partially cloudy  \n",
              "\n",
              "[8759 rows x 8 columns]"
            ]
          },
          "execution_count": 15,
          "metadata": {},
          "output_type": "execute_result"
        }
      ],
      "source": [
        "dataset"
      ]
    },
    {
      "cell_type": "code",
      "execution_count": 16,
      "metadata": {
        "colab": {
          "base_uri": "https://localhost:8080/"
        },
        "id": "4LS-omuT9c3g",
        "outputId": "f98f14d9-e2de-4a68-ee67-dc7afc2a26c3"
      },
      "outputs": [
        {
          "data": {
            "text/plain": [
              "array([[15.5, 21.6, 84.5, ..., 22.3, 100.0, 'Overcast'],\n",
              "       [15.6, 21.6, 84.97, ..., 27.7, 91.7, 'Overcast'],\n",
              "       [15.6, 21.2, 86.87, ..., 22.8, 62.7, 'Partially cloudy'],\n",
              "       ...,\n",
              "       [9.9, 11.4, 93.88, ..., 5.6, 20.4, 'Partially cloudy'],\n",
              "       [9.7, 10.7, 96.47, ..., 0.0, 37.3, 'Partially cloudy'],\n",
              "       [9.6, 10.1, 99.41, ..., 7.0, 79.0, 'Partially cloudy']],\n",
              "      dtype=object)"
            ]
          },
          "execution_count": 16,
          "metadata": {},
          "output_type": "execute_result"
        }
      ],
      "source": [
        "X = dataset.iloc[:, 1:].values\n",
        "X"
      ]
    },
    {
      "cell_type": "code",
      "execution_count": 17,
      "metadata": {
        "colab": {
          "base_uri": "https://localhost:8080/"
        },
        "id": "DFExooBU9c3g",
        "outputId": "9ab46a7e-b91b-4e95-c031-05358367769c"
      },
      "outputs": [
        {
          "data": {
            "text/plain": [
              "array([35.9, 36. , 36. , ..., 36.1, 36.1, 36. ])"
            ]
          },
          "execution_count": 17,
          "metadata": {},
          "output_type": "execute_result"
        }
      ],
      "source": [
        "y = dataset.iloc[:, 0].values\n",
        "y"
      ]
    },
    {
      "cell_type": "code",
      "execution_count": 18,
      "metadata": {
        "colab": {
          "base_uri": "https://localhost:8080/"
        },
        "id": "EhkwCeEG9c3h",
        "outputId": "c91a9cc9-441c-48f4-8dfa-1d62e7ce16cd"
      },
      "outputs": [
        {
          "data": {
            "text/plain": [
              "array([[0.0, 1.0, 0.0, ..., 0.0, 22.3, 100.0],\n",
              "       [0.0, 1.0, 0.0, ..., 0.0, 27.7, 91.7],\n",
              "       [0.0, 0.0, 1.0, ..., 0.0, 22.8, 62.7],\n",
              "       ...,\n",
              "       [0.0, 0.0, 1.0, ..., 0.0, 5.6, 20.4],\n",
              "       [0.0, 0.0, 1.0, ..., 0.0, 0.0, 37.3],\n",
              "       [0.0, 0.0, 1.0, ..., 0.0, 7.0, 79.0]], dtype=object)"
            ]
          },
          "execution_count": 18,
          "metadata": {},
          "output_type": "execute_result"
        }
      ],
      "source": [
        "\"\"\" taking care of categorical data in conditions column \"\"\"\n",
        "from sklearn.compose import ColumnTransformer\n",
        "from sklearn.preprocessing import OneHotEncoder\n",
        "\n",
        "ct = ColumnTransformer(\n",
        "    transformers=[(\"encoder\", OneHotEncoder(), [-1])], remainder=\"passthrough\"\n",
        ")\n",
        "X = np.array(ct.fit_transform(X))\n",
        "X"
      ]
    },
    {
      "cell_type": "code",
      "execution_count": 19,
      "metadata": {},
      "outputs": [],
      "source": [
        "X_train, X_test, y_train, y_test = train_test_split(\n",
        "    X, y, test_size=0.15, random_state=0\n",
        ")"
      ]
    },
    {
      "cell_type": "code",
      "execution_count": 20,
      "metadata": {
        "colab": {
          "base_uri": "https://localhost:8080/"
        },
        "id": "_E5DsEll9c3h",
        "outputId": "4bf77978-eb93-46d7-8180-f2dc6ef47da2"
      },
      "outputs": [
        {
          "name": "stdout",
          "output_type": "stream",
          "text": [
            "X_train shape =  (7445, 15)\n",
            "y_train shape =  (7445,)\n"
          ]
        }
      ],
      "source": [
        "print(\"X_train shape = \", X_train.shape)\n",
        "print(\"y_train shape = \", y_train.shape)"
      ]
    },
    {
      "cell_type": "code",
      "execution_count": 21,
      "metadata": {},
      "outputs": [
        {
          "name": "stdout",
          "output_type": "stream",
          "text": [
            "X_test shape =  (1314, 15)\n",
            "y_test shape =  (1314,)\n"
          ]
        }
      ],
      "source": [
        "print(\"X_test shape = \", X_test.shape)\n",
        "print(\"y_test shape = \", y_test.shape)"
      ]
    },
    {
      "cell_type": "code",
      "execution_count": 22,
      "metadata": {
        "colab": {
          "base_uri": "https://localhost:8080/"
        },
        "id": "RhIsOKrl9c3h",
        "outputId": "5f5cb870-8303-41bd-a736-e82bea9a9413"
      },
      "outputs": [
        {
          "data": {
            "text/plain": [
              "array([0.0, 0.0, 1.0, 0.0, 0.0, 0.0, 0.0, 0.0, 0.0, 27.5, 33.8, 57.1, 0.0,\n",
              "       8.3, 85.2], dtype=object)"
            ]
          },
          "execution_count": 22,
          "metadata": {},
          "output_type": "execute_result"
        }
      ],
      "source": [
        "X_train[0]"
      ]
    },
    {
      "cell_type": "code",
      "execution_count": 23,
      "metadata": {},
      "outputs": [
        {
          "data": {
            "text/plain": [
              "20.9"
            ]
          },
          "execution_count": 23,
          "metadata": {},
          "output_type": "execute_result"
        }
      ],
      "source": [
        "y_train[0]"
      ]
    },
    {
      "cell_type": "code",
      "execution_count": 24,
      "metadata": {
        "colab": {
          "base_uri": "https://localhost:8080/"
        },
        "id": "ojNfMQfT9c3h",
        "outputId": "1c18cbac-4698-4297-c0b9-4128663afae4"
      },
      "outputs": [
        {
          "data": {
            "text/plain": [
              "array([0.0, 0.0, 1.0, 0.0, 0.0, 0.0, 0.0, 0.0, 0.0, 0.9045936395759717,\n",
              "       0.9559386973180075, 0.4968922246980181, 0.0, 0.1930232558139535,\n",
              "       0.8520000000000001], dtype=object)"
            ]
          },
          "execution_count": 24,
          "metadata": {},
          "output_type": "execute_result"
        }
      ],
      "source": [
        "\"\"\" Scaling data \"\"\"\n",
        "from sklearn.preprocessing import MinMaxScaler\n",
        "\n",
        "sc = MinMaxScaler()\n",
        "X_train[:, 9:] = sc.fit_transform(X_train[:, 9:])\n",
        "X_test[:, 9:] = sc.transform(X_test[:, 9:])\n",
        "X_train[0]"
      ]
    },
    {
      "cell_type": "code",
      "execution_count": 25,
      "metadata": {
        "colab": {
          "base_uri": "https://localhost:8080/"
        },
        "id": "OSE8famf9c3h",
        "outputId": "65d0ffa3-6f4f-4a5d-c607-26ffd64367c0"
      },
      "outputs": [
        {
          "data": {
            "text/plain": [
              "array([0.0, 0.0, 1.0, 0.0, 0.0, 0.0, 0.0, 0.0, 0.0, 0.9045936395759717,\n",
              "       0.9559386973180075, 0.4968922246980181, 0.0, 0.1930232558139535,\n",
              "       0.8520000000000001], dtype=object)"
            ]
          },
          "execution_count": 25,
          "metadata": {},
          "output_type": "execute_result"
        }
      ],
      "source": [
        "X_train[0]"
      ]
    },
    {
      "cell_type": "code",
      "execution_count": 26,
      "metadata": {
        "colab": {
          "base_uri": "https://localhost:8080/"
        },
        "id": "bYwC59k99c3h",
        "outputId": "493b5446-17bb-42db-a63e-c74a6e5ed952"
      },
      "outputs": [
        {
          "data": {
            "text/plain": [
              "(15,)"
            ]
          },
          "execution_count": 26,
          "metadata": {},
          "output_type": "execute_result"
        }
      ],
      "source": [
        "X_train[0].shape"
      ]
    },
    {
      "cell_type": "code",
      "execution_count": 27,
      "metadata": {
        "id": "CmPdxKMY9c3i"
      },
      "outputs": [],
      "source": [
        "X_train = np.asarray(X_train).astype(\"float32\")\n",
        "y_train = np.asarray(y_train).astype(\"float32\")"
      ]
    },
    {
      "cell_type": "markdown",
      "metadata": {},
      "source": [
        "<h1>ANN model </h1>\n"
      ]
    },
    {
      "cell_type": "code",
      "execution_count": 28,
      "metadata": {},
      "outputs": [],
      "source": [
        "X_test = np.asarray(X_test).astype(\"float32\")\n",
        "y_test = np.asarray(y_test).astype(\"float32\")"
      ]
    },
    {
      "cell_type": "code",
      "execution_count": 29,
      "metadata": {},
      "outputs": [
        {
          "name": "stdout",
          "output_type": "stream",
          "text": [
            "WARNING:tensorflow:From c:\\Users\\ganes\\AppData\\Local\\Programs\\Python\\Python311\\Lib\\site-packages\\keras\\src\\backend.py:873: The name tf.get_default_graph is deprecated. Please use tf.compat.v1.get_default_graph instead.\n",
            "\n",
            "Epoch 1/100\n"
          ]
        },
        {
          "name": "stdout",
          "output_type": "stream",
          "text": [
            "WARNING:tensorflow:From c:\\Users\\ganes\\AppData\\Local\\Programs\\Python\\Python311\\Lib\\site-packages\\keras\\src\\utils\\tf_utils.py:492: The name tf.ragged.RaggedTensorValue is deprecated. Please use tf.compat.v1.ragged.RaggedTensorValue instead.\n",
            "\n",
            "WARNING:tensorflow:From c:\\Users\\ganes\\AppData\\Local\\Programs\\Python\\Python311\\Lib\\site-packages\\keras\\src\\engine\\base_layer_utils.py:384: The name tf.executing_eagerly_outside_functions is deprecated. Please use tf.compat.v1.executing_eagerly_outside_functions instead.\n",
            "\n",
            "233/233 [==============================] - 1s 2ms/step - loss: 322.6843 - mean_absolute_error: 14.2470 - val_loss: 42.1369 - val_mean_absolute_error: 5.5959\n",
            "Epoch 2/100\n",
            "233/233 [==============================] - 0s 1ms/step - loss: 29.1076 - mean_absolute_error: 4.5450 - val_loss: 21.7132 - val_mean_absolute_error: 3.8568\n",
            "Epoch 3/100\n",
            "233/233 [==============================] - 0s 1ms/step - loss: 17.9350 - mean_absolute_error: 3.4814 - val_loss: 17.3703 - val_mean_absolute_error: 3.3605\n",
            "Epoch 4/100\n",
            "233/233 [==============================] - 0s 1ms/step - loss: 15.2531 - mean_absolute_error: 3.1972 - val_loss: 15.1996 - val_mean_absolute_error: 3.1458\n",
            "Epoch 5/100\n",
            "233/233 [==============================] - 0s 1ms/step - loss: 14.1133 - mean_absolute_error: 3.0705 - val_loss: 14.6009 - val_mean_absolute_error: 3.0544\n",
            "Epoch 6/100\n",
            "233/233 [==============================] - 0s 1ms/step - loss: 13.5533 - mean_absolute_error: 2.9891 - val_loss: 13.8123 - val_mean_absolute_error: 2.9846\n",
            "Epoch 7/100\n",
            "233/233 [==============================] - 0s 1ms/step - loss: 13.2064 - mean_absolute_error: 2.9416 - val_loss: 13.5837 - val_mean_absolute_error: 2.9358\n",
            "Epoch 8/100\n",
            "233/233 [==============================] - 0s 1ms/step - loss: 12.9057 - mean_absolute_error: 2.8978 - val_loss: 13.6108 - val_mean_absolute_error: 2.9288\n",
            "Epoch 9/100\n",
            "233/233 [==============================] - 0s 1ms/step - loss: 12.7480 - mean_absolute_error: 2.8679 - val_loss: 13.0967 - val_mean_absolute_error: 2.8695\n",
            "Epoch 10/100\n",
            "233/233 [==============================] - 0s 1ms/step - loss: 12.6207 - mean_absolute_error: 2.8398 - val_loss: 12.9495 - val_mean_absolute_error: 2.8390\n",
            "Epoch 11/100\n",
            "233/233 [==============================] - 0s 1ms/step - loss: 12.4699 - mean_absolute_error: 2.8117 - val_loss: 13.0753 - val_mean_absolute_error: 2.8638\n",
            "Epoch 12/100\n",
            "233/233 [==============================] - 0s 1ms/step - loss: 12.3568 - mean_absolute_error: 2.7942 - val_loss: 12.7897 - val_mean_absolute_error: 2.8141\n",
            "Epoch 13/100\n",
            "233/233 [==============================] - 0s 1ms/step - loss: 12.3517 - mean_absolute_error: 2.7828 - val_loss: 12.8658 - val_mean_absolute_error: 2.8595\n",
            "Epoch 14/100\n",
            "233/233 [==============================] - 0s 1ms/step - loss: 12.3354 - mean_absolute_error: 2.7857 - val_loss: 12.7235 - val_mean_absolute_error: 2.8208\n",
            "Epoch 15/100\n",
            "233/233 [==============================] - 0s 1ms/step - loss: 12.4051 - mean_absolute_error: 2.7885 - val_loss: 12.9864 - val_mean_absolute_error: 2.8838\n",
            "Epoch 16/100\n",
            "233/233 [==============================] - 0s 1ms/step - loss: 12.3657 - mean_absolute_error: 2.7884 - val_loss: 12.6024 - val_mean_absolute_error: 2.7838\n",
            "Epoch 17/100\n",
            "233/233 [==============================] - 0s 1ms/step - loss: 12.3700 - mean_absolute_error: 2.7821 - val_loss: 12.5198 - val_mean_absolute_error: 2.7788\n",
            "Epoch 18/100\n",
            "233/233 [==============================] - 0s 1ms/step - loss: 12.2232 - mean_absolute_error: 2.7625 - val_loss: 12.5107 - val_mean_absolute_error: 2.7936\n",
            "Epoch 19/100\n",
            "233/233 [==============================] - 0s 1ms/step - loss: 12.1478 - mean_absolute_error: 2.7499 - val_loss: 12.5052 - val_mean_absolute_error: 2.7901\n",
            "Epoch 20/100\n",
            "233/233 [==============================] - 0s 1ms/step - loss: 12.2607 - mean_absolute_error: 2.7599 - val_loss: 12.5044 - val_mean_absolute_error: 2.7778\n",
            "Epoch 21/100\n",
            "233/233 [==============================] - 0s 1ms/step - loss: 12.1529 - mean_absolute_error: 2.7480 - val_loss: 12.5834 - val_mean_absolute_error: 2.7592\n",
            "Epoch 22/100\n",
            "233/233 [==============================] - 0s 1ms/step - loss: 12.1266 - mean_absolute_error: 2.7433 - val_loss: 12.8093 - val_mean_absolute_error: 2.7953\n",
            "Epoch 23/100\n",
            "233/233 [==============================] - 0s 1ms/step - loss: 12.1076 - mean_absolute_error: 2.7425 - val_loss: 12.4383 - val_mean_absolute_error: 2.7939\n",
            "Epoch 24/100\n",
            "233/233 [==============================] - 0s 1ms/step - loss: 11.9937 - mean_absolute_error: 2.7268 - val_loss: 12.4580 - val_mean_absolute_error: 2.7933\n",
            "Epoch 25/100\n",
            "233/233 [==============================] - 0s 1ms/step - loss: 12.0655 - mean_absolute_error: 2.7363 - val_loss: 12.4960 - val_mean_absolute_error: 2.8104\n",
            "Epoch 26/100\n",
            "233/233 [==============================] - 0s 1ms/step - loss: 12.0492 - mean_absolute_error: 2.7304 - val_loss: 12.4811 - val_mean_absolute_error: 2.7784\n",
            "Epoch 27/100\n",
            "233/233 [==============================] - 0s 1ms/step - loss: 11.9900 - mean_absolute_error: 2.7201 - val_loss: 12.6837 - val_mean_absolute_error: 2.7550\n",
            "Epoch 28/100\n",
            "233/233 [==============================] - 0s 1ms/step - loss: 11.9970 - mean_absolute_error: 2.7149 - val_loss: 12.2883 - val_mean_absolute_error: 2.7708\n",
            "Epoch 29/100\n",
            "233/233 [==============================] - 0s 1ms/step - loss: 12.0169 - mean_absolute_error: 2.7277 - val_loss: 12.4937 - val_mean_absolute_error: 2.7410\n",
            "Epoch 30/100\n",
            "233/233 [==============================] - 0s 1ms/step - loss: 12.1040 - mean_absolute_error: 2.7371 - val_loss: 12.1888 - val_mean_absolute_error: 2.7248\n",
            "Epoch 31/100\n",
            "233/233 [==============================] - 0s 1ms/step - loss: 11.9072 - mean_absolute_error: 2.7087 - val_loss: 12.2571 - val_mean_absolute_error: 2.7291\n",
            "Epoch 32/100\n",
            "233/233 [==============================] - 0s 1ms/step - loss: 11.9273 - mean_absolute_error: 2.7110 - val_loss: 12.6769 - val_mean_absolute_error: 2.7472\n",
            "Epoch 33/100\n",
            "233/233 [==============================] - 0s 1ms/step - loss: 11.8440 - mean_absolute_error: 2.6980 - val_loss: 12.1885 - val_mean_absolute_error: 2.7281\n",
            "Epoch 34/100\n",
            "233/233 [==============================] - 0s 1ms/step - loss: 11.9005 - mean_absolute_error: 2.7146 - val_loss: 12.4906 - val_mean_absolute_error: 2.7277\n",
            "Epoch 35/100\n",
            "233/233 [==============================] - 0s 1ms/step - loss: 11.8789 - mean_absolute_error: 2.7092 - val_loss: 12.4109 - val_mean_absolute_error: 2.7332\n",
            "Epoch 36/100\n",
            "233/233 [==============================] - 0s 1ms/step - loss: 11.9367 - mean_absolute_error: 2.7002 - val_loss: 12.1652 - val_mean_absolute_error: 2.7243\n",
            "Epoch 37/100\n",
            "233/233 [==============================] - 0s 1ms/step - loss: 11.8951 - mean_absolute_error: 2.7035 - val_loss: 12.2928 - val_mean_absolute_error: 2.7658\n",
            "Epoch 38/100\n",
            "233/233 [==============================] - 0s 1ms/step - loss: 11.8098 - mean_absolute_error: 2.6995 - val_loss: 12.2444 - val_mean_absolute_error: 2.6999\n",
            "Epoch 39/100\n",
            "233/233 [==============================] - 0s 1ms/step - loss: 11.9149 - mean_absolute_error: 2.7093 - val_loss: 12.0221 - val_mean_absolute_error: 2.7089\n",
            "Epoch 40/100\n",
            "233/233 [==============================] - 0s 1ms/step - loss: 11.7842 - mean_absolute_error: 2.6869 - val_loss: 12.1466 - val_mean_absolute_error: 2.6966\n",
            "Epoch 41/100\n",
            "233/233 [==============================] - 0s 1ms/step - loss: 11.7889 - mean_absolute_error: 2.6880 - val_loss: 12.0703 - val_mean_absolute_error: 2.7042\n",
            "Epoch 42/100\n",
            "233/233 [==============================] - 0s 1ms/step - loss: 11.8383 - mean_absolute_error: 2.6946 - val_loss: 12.0979 - val_mean_absolute_error: 2.6908\n",
            "Epoch 43/100\n",
            "233/233 [==============================] - 0s 1ms/step - loss: 11.7436 - mean_absolute_error: 2.6828 - val_loss: 11.9493 - val_mean_absolute_error: 2.6912\n",
            "Epoch 44/100\n",
            "233/233 [==============================] - 0s 1ms/step - loss: 11.7225 - mean_absolute_error: 2.6736 - val_loss: 12.0546 - val_mean_absolute_error: 2.6939\n",
            "Epoch 45/100\n",
            "233/233 [==============================] - 0s 1ms/step - loss: 11.7517 - mean_absolute_error: 2.6800 - val_loss: 12.0444 - val_mean_absolute_error: 2.6957\n",
            "Epoch 46/100\n",
            "233/233 [==============================] - 0s 1ms/step - loss: 11.7617 - mean_absolute_error: 2.6873 - val_loss: 12.0446 - val_mean_absolute_error: 2.6821\n",
            "Epoch 47/100\n",
            "233/233 [==============================] - 0s 1ms/step - loss: 11.6807 - mean_absolute_error: 2.6724 - val_loss: 12.2188 - val_mean_absolute_error: 2.7186\n",
            "Epoch 48/100\n",
            "233/233 [==============================] - 0s 1ms/step - loss: 11.7083 - mean_absolute_error: 2.6787 - val_loss: 12.0617 - val_mean_absolute_error: 2.6900\n",
            "Model: \"sequential\"\n",
            "_________________________________________________________________\n",
            " Layer (type)                Output Shape              Param #   \n",
            "=================================================================\n",
            " dense (Dense)               (None, 32)                512       \n",
            "                                                                 \n",
            " dense_1 (Dense)             (None, 16)                528       \n",
            "                                                                 \n",
            " dense_2 (Dense)             (None, 8)                 136       \n",
            "                                                                 \n",
            " dense_3 (Dense)             (None, 4)                 36        \n",
            "                                                                 \n",
            " dense_4 (Dense)             (None, 2)                 10        \n",
            "                                                                 \n",
            " dense_5 (Dense)             (None, 1)                 3         \n",
            "                                                                 \n",
            "=================================================================\n",
            "Total params: 1225 (4.79 KB)\n",
            "Trainable params: 1225 (4.79 KB)\n",
            "Non-trainable params: 0 (0.00 Byte)\n",
            "_________________________________________________________________\n"
          ]
        },
        {
          "data": {
            "image/png": "[encoded data removed]",
            "text/plain": [
              "<Figure size 640x480 with 1 Axes>"
            ]
          },
          "metadata": {},
          "output_type": "display_data"
        }
      ],
      "source": [
        "\"\"\" Model \"\"\"\n",
        "ANN_model = keras.Sequential(\n",
        "    [\n",
        "        keras.layers.Dense(32, activation=\"relu\"),\n",
        "        keras.layers.Dense(16, activation=\"relu\"),\n",
        "        keras.layers.Dense(8, activation=\"relu\"),\n",
        "        keras.layers.Dense(4, activation=\"relu\"),\n",
        "        keras.layers.Dense(2, activation=\"relu\"),\n",
        "        keras.layers.Dense(1),\n",
        "    ]\n",
        ")\n",
        "\n",
        "ANN_model.compile(\n",
        "    optimizer=keras.optimizers.Adam(),\n",
        "    loss=keras.losses.mean_squared_error,\n",
        "    metrics=keras.metrics.mean_absolute_error,\n",
        ")\n",
        "early_stopping = EarlyStopping(patience=5)\n",
        "history = ANN_model.fit(\n",
        "    X_train,\n",
        "    y_train,\n",
        "    epochs=100,\n",
        "    validation_data=(X_test, y_test),\n",
        "    callbacks=[early_stopping],\n",
        ")\n",
        "\n",
        "ANN_model.summary()\n",
        "\n",
        "plt.plot(history.history[\"loss\"])\n",
        "plt.title(\"Training Loss\")\n",
        "plt.xlabel(\"Epoch\")\n",
        "plt.ylabel(\"Loss\")\n",
        "plt.show()"
      ]
    },
    {
      "cell_type": "code",
      "execution_count": 30,
      "metadata": {
        "colab": {
          "base_uri": "https://localhost:8080/"
        },
        "id": "4ySlX7sl9c3i",
        "outputId": "546f3f03-24fe-4435-d565-b4562f52e8fd"
      },
      "outputs": [
        {
          "name": "stdout",
          "output_type": "stream",
          "text": [
            "42/42 [==============================] - 0s 647us/step\n",
            "mean absolute error =  2.6900291\n",
            "mean Squared error =  12.061718\n",
            "r2 score =  0.5700947026953809\n"
          ]
        }
      ],
      "source": [
        "from sklearn.metrics import mean_absolute_error, mean_squared_error, r2_score\n",
        "\n",
        "\n",
        "ann_ypred = ANN_model.predict(X_test)\n",
        "\n",
        "\n",
        "annMAE = mean_absolute_error(y_test, ann_ypred)\n",
        "\n",
        "\n",
        "annMSE = mean_squared_error(y_test, ann_ypred)\n",
        "\n",
        "ann_r2 = r2_score(y_test, ann_ypred)\n",
        "\n",
        "\n",
        "print(\"mean absolute error = \", annMAE)\n",
        "print(\"mean Squared error = \", annMSE)\n",
        "print(\"r2 score = \", ann_r2)"
      ]
    },
    {
      "cell_type": "code",
      "execution_count": 31,
      "metadata": {},
      "outputs": [
        {
          "data": {
            "text/plain": [
              "Text(0.5, 1.0, 'ANN_model')"
            ]
          },
          "execution_count": 31,
          "metadata": {},
          "output_type": "execute_result"
        },
        {
          "data": {
            "image/png": "[encoded data removed]",
            "text/plain": [
              "<Figure size 640x480 with 1 Axes>"
            ]
          },
          "metadata": {},
          "output_type": "display_data"
        }
      ],
      "source": [
        "plt.scatter(y_test, y_test, color=\"green\")\n",
        "plt.scatter(y_test, ann_ypred, color=\"red\")\n",
        "plt.title(\"ANN_model\")"
      ]
    },
    {
      "cell_type": "markdown",
      "metadata": {},
      "source": [
        "<H1>MULTIPLE LINEAR REGRESSION </H1>\n"
      ]
    },
    {
      "cell_type": "code",
      "execution_count": 32,
      "metadata": {},
      "outputs": [
        {
          "data": {
            "text/html": [
              "<style>#sk-container-id-1 {color: black;}#sk-container-id-1 pre{padding: 0;}#sk-container-id-1 div.sk-toggleable {background-color: white;}#sk-container-id-1 label.sk-toggleable__label {cursor: pointer;display: block;width: 100%;margin-bottom: 0;padding: 0.3em;box-sizing: border-box;text-align: center;}#sk-container-id-1 label.sk-toggleable__label-arrow:before {content: \"▸\";float: left;margin-right: 0.25em;color: #696969;}#sk-container-id-1 label.sk-toggleable__label-arrow:hover:before {color: black;}#sk-container-id-1 div.sk-estimator:hover label.sk-toggleable__label-arrow:before {color: black;}#sk-container-id-1 div.sk-toggleable__content {max-height: 0;max-width: 0;overflow: hidden;text-align: left;background-color: #f0f8ff;}#sk-container-id-1 div.sk-toggleable__content pre {margin: 0.2em;color: black;border-radius: 0.25em;background-color: #f0f8ff;}#sk-container-id-1 input.sk-toggleable__control:checked~div.sk-toggleable__content {max-height: 200px;max-width: 100%;overflow: auto;}#sk-container-id-1 input.sk-toggleable__control:checked~label.sk-toggleable__label-arrow:before {content: \"▾\";}#sk-container-id-1 div.sk-estimator input.sk-toggleable__control:checked~label.sk-toggleable__label {background-color: #d4ebff;}#sk-container-id-1 div.sk-label input.sk-toggleable__control:checked~label.sk-toggleable__label {background-color: #d4ebff;}#sk-container-id-1 input.sk-hidden--visually {border: 0;clip: rect(1px 1px 1px 1px);clip: rect(1px, 1px, 1px, 1px);height: 1px;margin: -1px;overflow: hidden;padding: 0;position: absolute;width: 1px;}#sk-container-id-1 div.sk-estimator {font-family: monospace;background-color: #f0f8ff;border: 1px dotted black;border-radius: 0.25em;box-sizing: border-box;margin-bottom: 0.5em;}#sk-container-id-1 div.sk-estimator:hover {background-color: #d4ebff;}#sk-container-id-1 div.sk-parallel-item::after {content: \"\";width: 100%;border-bottom: 1px solid gray;flex-grow: 1;}#sk-container-id-1 div.sk-label:hover label.sk-toggleable__label {background-color: #d4ebff;}#sk-container-id-1 div.sk-serial::before {content: \"\";position: absolute;border-left: 1px solid gray;box-sizing: border-box;top: 0;bottom: 0;left: 50%;z-index: 0;}#sk-container-id-1 div.sk-serial {display: flex;flex-direction: column;align-items: center;background-color: white;padding-right: 0.2em;padding-left: 0.2em;position: relative;}#sk-container-id-1 div.sk-item {position: relative;z-index: 1;}#sk-container-id-1 div.sk-parallel {display: flex;align-items: stretch;justify-content: center;background-color: white;position: relative;}#sk-container-id-1 div.sk-item::before, #sk-container-id-1 div.sk-parallel-item::before {content: \"\";position: absolute;border-left: 1px solid gray;box-sizing: border-box;top: 0;bottom: 0;left: 50%;z-index: -1;}#sk-container-id-1 div.sk-parallel-item {display: flex;flex-direction: column;z-index: 1;position: relative;background-color: white;}#sk-container-id-1 div.sk-parallel-item:first-child::after {align-self: flex-end;width: 50%;}#sk-container-id-1 div.sk-parallel-item:last-child::after {align-self: flex-start;width: 50%;}#sk-container-id-1 div.sk-parallel-item:only-child::after {width: 0;}#sk-container-id-1 div.sk-dashed-wrapped {border: 1px dashed gray;margin: 0 0.4em 0.5em 0.4em;box-sizing: border-box;padding-bottom: 0.4em;background-color: white;}#sk-container-id-1 div.sk-label label {font-family: monospace;font-weight: bold;display: inline-block;line-height: 1.2em;}#sk-container-id-1 div.sk-label-container {text-align: center;}#sk-container-id-1 div.sk-container {/* jupyter's `normalize.less` sets `[hidden] { display: none; }` but bootstrap.min.css set `[hidden] { display: none !important; }` so we also need the `!important` here to be able to override the default hidden behavior on the sphinx rendered scikit-learn.org. See: https://github.com/scikit-learn/scikit-learn/issues/21755 */display: inline-block !important;position: relative;}#sk-container-id-1 div.sk-text-repr-fallback {display: none;}</style><div id=\"sk-container-id-1\" class=\"sk-top-container\"><div class=\"sk-text-repr-fallback\"><pre>LinearRegression()</pre><b>In a Jupyter environment, please rerun this cell to show the HTML representation or trust the notebook. <br />On GitHub, the HTML representation is unable to render, please try loading this page with nbviewer.org.</b></div><div class=\"sk-container\" hidden><div class=\"sk-item\"><div class=\"sk-estimator sk-toggleable\"><input class=\"sk-toggleable__control sk-hidden--visually\" id=\"sk-estimator-id-1\" type=\"checkbox\" checked><label for=\"sk-estimator-id-1\" class=\"sk-toggleable__label sk-toggleable__label-arrow\">LinearRegression</label><div class=\"sk-toggleable__content\"><pre>LinearRegression()</pre></div></div></div></div></div>"
            ],
            "text/plain": [
              "LinearRegression()"
            ]
          },
          "execution_count": 32,
          "metadata": {},
          "output_type": "execute_result"
        }
      ],
      "source": [
        "from sklearn.linear_model import LinearRegression\n",
        "\n",
        "MLR_model = LinearRegression()\n",
        "MLR_model.fit(X_train, y_train)"
      ]
    },
    {
      "cell_type": "code",
      "execution_count": 33,
      "metadata": {},
      "outputs": [],
      "source": [
        "mlr_ypred = MLR_model.predict(X_test)"
      ]
    },
    {
      "cell_type": "code",
      "execution_count": 34,
      "metadata": {},
      "outputs": [
        {
          "name": "stdout",
          "output_type": "stream",
          "text": [
            "mean absolute error =  3.0007312\n",
            "mean Squared error =  13.922258\n",
            "r2 score =  0.5037810939457144\n"
          ]
        }
      ],
      "source": [
        "mlr_MAE = mean_absolute_error(y_test, mlr_ypred)\n",
        "mlr_MSE = mean_squared_error(y_test, mlr_ypred)\n",
        "mlr_r2 = r2_score(y_test, mlr_ypred)\n",
        "print(\"mean absolute error = \", mlr_MAE)\n",
        "print(\"mean Squared error = \", mlr_MSE)\n",
        "print(\"r2 score = \", mlr_r2)"
      ]
    },
    {
      "cell_type": "code",
      "execution_count": 35,
      "metadata": {},
      "outputs": [
        {
          "data": {
            "text/plain": [
              "Text(0.5, 1.0, 'MLR_model')"
            ]
          },
          "execution_count": 35,
          "metadata": {},
          "output_type": "execute_result"
        },
        {
          "data": {
            "image/png": "[encoded data removed]",
            "text/plain": [
              "<Figure size 640x480 with 1 Axes>"
            ]
          },
          "metadata": {},
          "output_type": "display_data"
        }
      ],
      "source": [
        "plt.scatter(y_test, y_test, color=\"green\")\n",
        "plt.scatter(y_test, mlr_ypred, color=\"red\")\n",
        "plt.title(\"MLR_model\")"
      ]
    },
    {
      "cell_type": "markdown",
      "metadata": {},
      "source": [
        "<h1>DECISION TREE REGRESSION </H1>\n"
      ]
    },
    {
      "cell_type": "code",
      "execution_count": 36,
      "metadata": {},
      "outputs": [
        {
          "name": "stdout",
          "output_type": "stream",
          "text": [
            "mean absolute error =  2.331529393480891\n",
            "mean Squared error =  11.3697717310569\n",
            "r2 score =  0.5947571586724782\n"
          ]
        }
      ],
      "source": [
        "from sklearn.tree import DecisionTreeRegressor\n",
        "\n",
        "# Increase maximum depth\n",
        "DTR_model = DecisionTreeRegressor(max_depth=13, random_state=0, min_samples_split=20)\n",
        "\n",
        "# Fine-tune hyperparameters\n",
        "DTR_model.fit(X_train, y_train)\n",
        "\n",
        "dtr_ypred = DTR_model.predict(X_test).reshape(-1, 1)\n",
        "\n",
        "dtr_mae = mean_absolute_error(y_test, dtr_ypred)\n",
        "dtr_mse = mean_squared_error(y_test, dtr_ypred)\n",
        "dtr_r2 = r2_score(y_test, dtr_ypred)\n",
        "print(\"mean absolute error = \", dtr_mae)\n",
        "print(\"mean Squared error = \", dtr_mse)\n",
        "print(\"r2 score = \", dtr_r2)"
      ]
    },
    {
      "cell_type": "code",
      "execution_count": 37,
      "metadata": {},
      "outputs": [
        {
          "data": {
            "text/plain": [
              "Text(0.5, 1.0, 'DecisionTreeRegressor(max_depth=13, min_samples_split=20, random_state=0)')"
            ]
          },
          "execution_count": 37,
          "metadata": {},
          "output_type": "execute_result"
        },
        {
          "data": {
            "image/png": "[encoded data removed]",
            "text/plain": [
              "<Figure size 640x480 with 1 Axes>"
            ]
          },
          "metadata": {},
          "output_type": "display_data"
        }
      ],
      "source": [
        "plt.scatter(y_test, y_test, color=\"green\")\n",
        "plt.scatter(y_test, dtr_ypred, color=\"red\")\n",
        "plt.title(DTR_model)"
      ]
    },
    {
      "cell_type": "markdown",
      "metadata": {},
      "source": [
        "<h1>SVR</h1>"
      ]
    },
    {
      "cell_type": "code",
      "execution_count": 38,
      "metadata": {},
      "outputs": [
        {
          "data": {
            "text/html": [
              "<style>#sk-container-id-2 {color: black;}#sk-container-id-2 pre{padding: 0;}#sk-container-id-2 div.sk-toggleable {background-color: white;}#sk-container-id-2 label.sk-toggleable__label {cursor: pointer;display: block;width: 100%;margin-bottom: 0;padding: 0.3em;box-sizing: border-box;text-align: center;}#sk-container-id-2 label.sk-toggleable__label-arrow:before {content: \"▸\";float: left;margin-right: 0.25em;color: #696969;}#sk-container-id-2 label.sk-toggleable__label-arrow:hover:before {color: black;}#sk-container-id-2 div.sk-estimator:hover label.sk-toggleable__label-arrow:before {color: black;}#sk-container-id-2 div.sk-toggleable__content {max-height: 0;max-width: 0;overflow: hidden;text-align: left;background-color: #f0f8ff;}#sk-container-id-2 div.sk-toggleable__content pre {margin: 0.2em;color: black;border-radius: 0.25em;background-color: #f0f8ff;}#sk-container-id-2 input.sk-toggleable__control:checked~div.sk-toggleable__content {max-height: 200px;max-width: 100%;overflow: auto;}#sk-container-id-2 input.sk-toggleable__control:checked~label.sk-toggleable__label-arrow:before {content: \"▾\";}#sk-container-id-2 div.sk-estimator input.sk-toggleable__control:checked~label.sk-toggleable__label {background-color: #d4ebff;}#sk-container-id-2 div.sk-label input.sk-toggleable__control:checked~label.sk-toggleable__label {background-color: #d4ebff;}#sk-container-id-2 input.sk-hidden--visually {border: 0;clip: rect(1px 1px 1px 1px);clip: rect(1px, 1px, 1px, 1px);height: 1px;margin: -1px;overflow: hidden;padding: 0;position: absolute;width: 1px;}#sk-container-id-2 div.sk-estimator {font-family: monospace;background-color: #f0f8ff;border: 1px dotted black;border-radius: 0.25em;box-sizing: border-box;margin-bottom: 0.5em;}#sk-container-id-2 div.sk-estimator:hover {background-color: #d4ebff;}#sk-container-id-2 div.sk-parallel-item::after {content: \"\";width: 100%;border-bottom: 1px solid gray;flex-grow: 1;}#sk-container-id-2 div.sk-label:hover label.sk-toggleable__label {background-color: #d4ebff;}#sk-container-id-2 div.sk-serial::before {content: \"\";position: absolute;border-left: 1px solid gray;box-sizing: border-box;top: 0;bottom: 0;left: 50%;z-index: 0;}#sk-container-id-2 div.sk-serial {display: flex;flex-direction: column;align-items: center;background-color: white;padding-right: 0.2em;padding-left: 0.2em;position: relative;}#sk-container-id-2 div.sk-item {position: relative;z-index: 1;}#sk-container-id-2 div.sk-parallel {display: flex;align-items: stretch;justify-content: center;background-color: white;position: relative;}#sk-container-id-2 div.sk-item::before, #sk-container-id-2 div.sk-parallel-item::before {content: \"\";position: absolute;border-left: 1px solid gray;box-sizing: border-box;top: 0;bottom: 0;left: 50%;z-index: -1;}#sk-container-id-2 div.sk-parallel-item {display: flex;flex-direction: column;z-index: 1;position: relative;background-color: white;}#sk-container-id-2 div.sk-parallel-item:first-child::after {align-self: flex-end;width: 50%;}#sk-container-id-2 div.sk-parallel-item:last-child::after {align-self: flex-start;width: 50%;}#sk-container-id-2 div.sk-parallel-item:only-child::after {width: 0;}#sk-container-id-2 div.sk-dashed-wrapped {border: 1px dashed gray;margin: 0 0.4em 0.5em 0.4em;box-sizing: border-box;padding-bottom: 0.4em;background-color: white;}#sk-container-id-2 div.sk-label label {font-family: monospace;font-weight: bold;display: inline-block;line-height: 1.2em;}#sk-container-id-2 div.sk-label-container {text-align: center;}#sk-container-id-2 div.sk-container {/* jupyter's `normalize.less` sets `[hidden] { display: none; }` but bootstrap.min.css set `[hidden] { display: none !important; }` so we also need the `!important` here to be able to override the default hidden behavior on the sphinx rendered scikit-learn.org. See: https://github.com/scikit-learn/scikit-learn/issues/21755 */display: inline-block !important;position: relative;}#sk-container-id-2 div.sk-text-repr-fallback {display: none;}</style><div id=\"sk-container-id-2\" class=\"sk-top-container\"><div class=\"sk-text-repr-fallback\"><pre>SVR(C=10, gamma=0.1)</pre><b>In a Jupyter environment, please rerun this cell to show the HTML representation or trust the notebook. <br />On GitHub, the HTML representation is unable to render, please try loading this page with nbviewer.org.</b></div><div class=\"sk-container\" hidden><div class=\"sk-item\"><div class=\"sk-estimator sk-toggleable\"><input class=\"sk-toggleable__control sk-hidden--visually\" id=\"sk-estimator-id-2\" type=\"checkbox\" checked><label for=\"sk-estimator-id-2\" class=\"sk-toggleable__label sk-toggleable__label-arrow\">SVR</label><div class=\"sk-toggleable__content\"><pre>SVR(C=10, gamma=0.1)</pre></div></div></div></div></div>"
            ],
            "text/plain": [
              "SVR(C=10, gamma=0.1)"
            ]
          },
          "execution_count": 38,
          "metadata": {},
          "output_type": "execute_result"
        }
      ],
      "source": [
        "from sklearn.svm import SVR\n",
        "\n",
        "SVR = SVR(kernel=\"rbf\", C=10, gamma=0.1)\n",
        "\n",
        "SVR.fit(X_train, y_train)"
      ]
    },
    {
      "cell_type": "code",
      "execution_count": 39,
      "metadata": {},
      "outputs": [],
      "source": [
        "svr_ypred = SVR.predict(X_test)"
      ]
    },
    {
      "cell_type": "code",
      "execution_count": 40,
      "metadata": {},
      "outputs": [
        {
          "name": "stdout",
          "output_type": "stream",
          "text": [
            "mean_absolute_error =  2.8308978642466123\n",
            "mean_squared_error =  13.642122818894368\n",
            "r2 score =  0.5137657339446099\n"
          ]
        }
      ],
      "source": [
        "print(\"mean_absolute_error = \", mean_absolute_error(y_test, svr_ypred))\n",
        "print(\"mean_squared_error = \", mean_squared_error(y_test, svr_ypred))\n",
        "print(\"r2 score = \", r2_score(y_test, svr_ypred))"
      ]
    },
    {
      "cell_type": "code",
      "execution_count": 41,
      "metadata": {},
      "outputs": [
        {
          "data": {
            "text/plain": [
              "Text(0.5, 1.0, 'SVR(C=10, gamma=0.1)')"
            ]
          },
          "execution_count": 41,
          "metadata": {},
          "output_type": "execute_result"
        },
        {
          "data": {
            "image/png": "[encoded data removed]",
            "text/plain": [
              "<Figure size 640x480 with 1 Axes>"
            ]
          },
          "metadata": {},
          "output_type": "display_data"
        }
      ],
      "source": [
        "plt.scatter(y_test, y_test, color=\"green\")\n",
        "plt.scatter(y_test, svr_ypred, color=\"red\")\n",
        "plt.title(SVR)"
      ]
    },
    {
      "cell_type": "markdown",
      "metadata": {},
      "source": [
        "<h1>MODEL COMPARISON </H1>"
      ]
    },
    {
      "cell_type": "code",
      "execution_count": 42,
      "metadata": {},
      "outputs": [],
      "source": [
        "def least_error(row):\n",
        "    y_true = row[0]\n",
        "    cols = [\"ytest\", \"DTR\", \"MLR\", \"ANN\", \"SVR\"]\n",
        "    lowest = 1000\n",
        "    least_err = \"DTR\"\n",
        "    for i in range(1, len(cols)):\n",
        "        diff = abs(y_true - row[i])\n",
        "        if diff < lowest:\n",
        "            lowest, least_err = diff, cols[i]\n",
        "    return least_err"
      ]
    },
    {
      "cell_type": "code",
      "execution_count": 43,
      "metadata": {},
      "outputs": [],
      "source": [
        "reshape = (-1, 1)\n",
        "comp = np.concatenate(\n",
        "    (\n",
        "        y_test.reshape(reshape),\n",
        "        dtr_ypred.reshape(reshape),\n",
        "        mlr_ypred.reshape(reshape),\n",
        "        ann_ypred.reshape(reshape),\n",
        "        svr_ypred.reshape(reshape),\n",
        "    ),\n",
        "    1,\n",
        ")\n",
        "\n",
        "\n",
        "comparison = pd.DataFrame(comp, columns=[\"ytest\", \"DTR\", \"MLR\", \"ANN\", \"SVR\"])\n",
        "comparison[\"winner\"] = comparison.apply(\n",
        "    least_error, axis=1, result_type=\"expand\", raw=True\n",
        ")\n",
        "comparison.to_csv(\"testing and results/model test comparison.csv\")"
      ]
    },
    {
      "cell_type": "code",
      "execution_count": 44,
      "metadata": {},
      "outputs": [
        {
          "name": "stdout",
          "output_type": "stream",
          "text": [
            "  1/233 [..............................] - ETA: 4s"
          ]
        },
        {
          "name": "stdout",
          "output_type": "stream",
          "text": [
            "233/233 [==============================] - 0s 692us/step\n"
          ]
        }
      ],
      "source": [
        "reshape = (-1, 1)\n",
        "comp = np.concatenate(\n",
        "    (\n",
        "        y_train.reshape(reshape),\n",
        "        DTR_model.predict(X_train).reshape(reshape),\n",
        "        MLR_model.predict(X_train).reshape(reshape),\n",
        "        ANN_model.predict(X_train).reshape(reshape),\n",
        "        SVR.predict(X_train).reshape(reshape),\n",
        "    ),\n",
        "    1,\n",
        ")\n",
        "\n",
        "\n",
        "comparison_train = pd.DataFrame(comp, columns=[\"ytest\", \"DTR\", \"MLR\", \"ANN\", \"SVR\"])\n",
        "comparison_train[\"winner\"] = comparison_train.apply(\n",
        "    least_error, axis=1, result_type=\"expand\", raw=True\n",
        ")\n",
        "comparison_train.to_csv(\"testing and results/model train comparison.csv\")"
      ]
    },
    {
      "cell_type": "code",
      "execution_count": 45,
      "metadata": {},
      "outputs": [
        {
          "data": {
            "text/plain": [
              "count     7445\n",
              "unique       4\n",
              "top        DTR\n",
              "freq      4319\n",
              "Name: winner, dtype: object"
            ]
          },
          "execution_count": 45,
          "metadata": {},
          "output_type": "execute_result"
        }
      ],
      "source": [
        "comparison_train.winner.describe()"
      ]
    },
    {
      "cell_type": "code",
      "execution_count": 46,
      "metadata": {},
      "outputs": [
        {
          "data": {
            "text/plain": [
              "count     1314\n",
              "unique       4\n",
              "top        DTR\n",
              "freq       627\n",
              "Name: winner, dtype: object"
            ]
          },
          "execution_count": 46,
          "metadata": {},
          "output_type": "execute_result"
        }
      ],
      "source": [
        "comparison.winner.describe()"
      ]
    },
    {
      "cell_type": "code",
      "execution_count": 53,
      "metadata": {},
      "outputs": [
        {
          "data": {
            "image/png": "[encoded data removed]",
            "text/plain": [
              "<Figure size 1200x800 with 4 Axes>"
            ]
          },
          "metadata": {},
          "output_type": "display_data"
        }
      ],
      "source": [
        "import matplotlib.pyplot as plt\n",
        "\n",
        "# Assuming you have already defined y_test, ann_ypred, dtr_ypred, svr_ypred, and mlr_ypred\n",
        "\n",
        "# Create a figure with a specific size\n",
        "plt.figure(figsize=(12, 8))\n",
        "\n",
        "# Subplot 1\n",
        "plt.subplot(221)\n",
        "plt.scatter(y_test[:600], y_test[:600], color=\"red\", label=\"True Moisture\")\n",
        "plt.scatter(y_test[:600], ann_ypred[:600],\n",
        "            color=\"green\", label=\"Predicted Moisture\")\n",
        "plt.title(\"Artificial Neural Network\")\n",
        "plt.xlabel(\"True Moisture\")\n",
        "plt.ylabel(\"Predicted Moisture\")\n",
        "plt.legend()\n",
        "\n",
        "# Subplot 2\n",
        "plt.subplot(222)\n",
        "plt.scatter(y_test[:600], y_test[:600], color=\"red\", label=\"True Moisture\")\n",
        "plt.scatter(y_test[:600], dtr_ypred[:600],\n",
        "            color=\"green\", label=\"Predicted Moisture\")\n",
        "plt.title(\"Decision Tree Regression\")\n",
        "plt.xlabel(\"True Moisture\")\n",
        "plt.ylabel(\"Predicted Moisture\")\n",
        "plt.legend()\n",
        "\n",
        "# Subplot 3\n",
        "plt.subplot(223)\n",
        "plt.scatter(y_test[:600], y_test[:600], color=\"red\", label=\"True Moisture\")\n",
        "plt.scatter(y_test[:600], svr_ypred[:600],\n",
        "            color=\"green\", label=\"Predicted Moisture\")\n",
        "plt.title(\"Support Vector Regression\")\n",
        "plt.xlabel(\"True Moisture\")\n",
        "plt.ylabel(\"Predicted Moisture\")\n",
        "plt.legend()\n",
        "\n",
        "# Subplot 4\n",
        "plt.subplot(224)\n",
        "plt.scatter(y_test[:600], y_test[:600], color=\"red\", label=\"True Moisture\")\n",
        "plt.scatter(y_test[:600], mlr_ypred[:600],\n",
        "            color=\"green\", label=\"Predicted Moisture\")\n",
        "plt.title(\"Multiple Linear Regression\")\n",
        "plt.xlabel(\"True Moisture\")\n",
        "plt.ylabel(\"Predicted Moisture\")\n",
        "plt.legend()\n",
        "\n",
        "# Adjust layout to prevent overlapping\n",
        "plt.tight_layout()\n",
        "\n",
        "# Show the plot\n",
        "plt.show()"
      ]
    },
    {
      "cell_type": "markdown",
      "metadata": {},
      "source": [
        "<h1>SAVING MODELS</h1>"
      ]
    },
    {
      "cell_type": "code",
      "execution_count": 48,
      "metadata": {},
      "outputs": [
        {
          "data": {
            "text/plain": [
              "['final_model/SVR.bin']"
            ]
          },
          "execution_count": 48,
          "metadata": {},
          "output_type": "execute_result"
        }
      ],
      "source": [
        "import joblib\n",
        "\n",
        "ANN_model.save(filepath=\"final_model/zeus.keras\")  # Neural Network model\n",
        "joblib.dump(DTR_model, filename=\"final_model/dtr.bin\")  # Decision tree model\n",
        "# Multiple linear regression model\n",
        "joblib.dump(MLR_model, filename=\"final_model/mlrmodel.bin\")\n",
        "# Support vector regression model\n",
        "joblib.dump(SVR, filename=\"final_model/SVR.bin\")"
      ]
    }
  ],
  "metadata": {
    "accelerator": "GPU",
    "colab": {
      "gpuType": "T4",
      "provenance": []
    },
    "kernelspec": {
      "display_name": "Python 3",
      "name": "python3"
    },
    "language_info": {
      "codemirror_mode": {
        "name": "ipython",
        "version": 3
      },
      "file_extension": ".py",
      "mimetype": "text/x-python",
      "name": "python",
      "nbconvert_exporter": "python",
      "pygments_lexer": "ipython3",
      "version": "3.11.6"
    }
  },
  "nbformat": 4,
  "nbformat_minor": 0
}
