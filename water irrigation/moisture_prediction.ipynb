{
  "cells": [
    {
      "cell_type": "code",
      "execution_count": 1,
      "metadata": {
        "id": "UjDqu0FX9c3d"
      },
      "outputs": [],
      "source": [
        "import numpy as np\n",
        "import pandas as pd\n",
        "import matplotlib.pyplot as plt\n",
        "import tensorflow as tf\n",
        "from tensorflow import keras\n",
        "from sklearn.model_selection import train_test_split\n",
        "from keras.callbacks import EarlyStopping"
      ]
    },
    {
      "cell_type": "code",
      "execution_count": 2,
      "metadata": {
        "colab": {
          "base_uri": "https://localhost:8080/",
          "height": 790
        },
        "id": "8tYvK1DK9c3e",
        "outputId": "1c0343ff-83ca-4018-aa1b-354e5cbb1ab3"
      },
      "outputs": [
        {
          "data": {
            "text/html": [
              "<div>\n",
              "<style scoped>\n",
              "    .dataframe tbody tr th:only-of-type {\n",
              "        vertical-align: middle;\n",
              "    }\n",
              "\n",
              "    .dataframe tbody tr th {\n",
              "        vertical-align: top;\n",
              "    }\n",
              "\n",
              "    .dataframe thead th {\n",
              "        text-align: right;\n",
              "    }\n",
              "</style>\n",
              "<table border=\"1\" class=\"dataframe\">\n",
              "  <thead>\n",
              "    <tr style=\"text-align: right;\">\n",
              "      <th></th>\n",
              "      <th>Date</th>\n",
              "      <th>Time</th>\n",
              "      <th>SM_2</th>\n",
              "      <th>SM_4</th>\n",
              "      <th>SM_8</th>\n",
              "      <th>SM_20</th>\n",
              "      <th>SM_40</th>\n",
              "      <th>ST_2</th>\n",
              "      <th>ST_4</th>\n",
              "      <th>ST_8</th>\n",
              "      <th>...</th>\n",
              "      <th>sealevelpressure</th>\n",
              "      <th>cloudcover</th>\n",
              "      <th>visibility</th>\n",
              "      <th>solarradiation</th>\n",
              "      <th>solarenergy</th>\n",
              "      <th>uvindex</th>\n",
              "      <th>severerisk</th>\n",
              "      <th>conditions</th>\n",
              "      <th>icon</th>\n",
              "      <th>stations</th>\n",
              "    </tr>\n",
              "  </thead>\n",
              "  <tbody>\n",
              "    <tr>\n",
              "      <th>0</th>\n",
              "      <td>01-01-2022</td>\n",
              "      <td>00:00</td>\n",
              "      <td>38.2</td>\n",
              "      <td>35.9</td>\n",
              "      <td>31.0</td>\n",
              "      <td>36.9</td>\n",
              "      <td>34.0</td>\n",
              "      <td>15.9</td>\n",
              "      <td>15.5</td>\n",
              "      <td>15.5</td>\n",
              "      <td>...</td>\n",
              "      <td>1009.4</td>\n",
              "      <td>100.0</td>\n",
              "      <td>16.0</td>\n",
              "      <td>0.0</td>\n",
              "      <td>0.0</td>\n",
              "      <td>0.0</td>\n",
              "      <td>NaN</td>\n",
              "      <td>Overcast</td>\n",
              "      <td>cloudy</td>\n",
              "      <td>KHSV,72323003856,72030763804,KMDQ,AAMA1</td>\n",
              "    </tr>\n",
              "    <tr>\n",
              "      <th>1</th>\n",
              "      <td>01-01-2022</td>\n",
              "      <td>01:00</td>\n",
              "      <td>38.2</td>\n",
              "      <td>36.0</td>\n",
              "      <td>30.9</td>\n",
              "      <td>36.7</td>\n",
              "      <td>34.1</td>\n",
              "      <td>16.0</td>\n",
              "      <td>15.6</td>\n",
              "      <td>15.6</td>\n",
              "      <td>...</td>\n",
              "      <td>1009.3</td>\n",
              "      <td>91.7</td>\n",
              "      <td>16.0</td>\n",
              "      <td>0.0</td>\n",
              "      <td>0.0</td>\n",
              "      <td>0.0</td>\n",
              "      <td>NaN</td>\n",
              "      <td>Overcast</td>\n",
              "      <td>cloudy</td>\n",
              "      <td>KHSV,72323003856,72030763804,KMDQ,AAMA1</td>\n",
              "    </tr>\n",
              "    <tr>\n",
              "      <th>2</th>\n",
              "      <td>01-01-2022</td>\n",
              "      <td>02:00</td>\n",
              "      <td>38.3</td>\n",
              "      <td>36.0</td>\n",
              "      <td>31.0</td>\n",
              "      <td>36.7</td>\n",
              "      <td>33.9</td>\n",
              "      <td>16.0</td>\n",
              "      <td>15.6</td>\n",
              "      <td>15.6</td>\n",
              "      <td>...</td>\n",
              "      <td>1009.3</td>\n",
              "      <td>62.7</td>\n",
              "      <td>16.0</td>\n",
              "      <td>0.0</td>\n",
              "      <td>0.0</td>\n",
              "      <td>0.0</td>\n",
              "      <td>NaN</td>\n",
              "      <td>Partially cloudy</td>\n",
              "      <td>partly-cloudy-night</td>\n",
              "      <td>KHSV,72323003856,72030763804,KMDQ,AAMA1</td>\n",
              "    </tr>\n",
              "    <tr>\n",
              "      <th>3</th>\n",
              "      <td>01-01-2022</td>\n",
              "      <td>03:00</td>\n",
              "      <td>38.3</td>\n",
              "      <td>35.8</td>\n",
              "      <td>30.9</td>\n",
              "      <td>36.7</td>\n",
              "      <td>33.9</td>\n",
              "      <td>16.1</td>\n",
              "      <td>15.7</td>\n",
              "      <td>15.6</td>\n",
              "      <td>...</td>\n",
              "      <td>1009.3</td>\n",
              "      <td>91.7</td>\n",
              "      <td>16.0</td>\n",
              "      <td>0.0</td>\n",
              "      <td>0.0</td>\n",
              "      <td>0.0</td>\n",
              "      <td>NaN</td>\n",
              "      <td>Overcast</td>\n",
              "      <td>cloudy</td>\n",
              "      <td>KHSV,72323003856,72030763804,KMDQ,AAMA1</td>\n",
              "    </tr>\n",
              "    <tr>\n",
              "      <th>4</th>\n",
              "      <td>01-01-2022</td>\n",
              "      <td>04:00</td>\n",
              "      <td>38.3</td>\n",
              "      <td>35.9</td>\n",
              "      <td>30.9</td>\n",
              "      <td>36.7</td>\n",
              "      <td>33.9</td>\n",
              "      <td>16.2</td>\n",
              "      <td>15.7</td>\n",
              "      <td>15.7</td>\n",
              "      <td>...</td>\n",
              "      <td>1009.6</td>\n",
              "      <td>100.0</td>\n",
              "      <td>16.0</td>\n",
              "      <td>0.0</td>\n",
              "      <td>0.0</td>\n",
              "      <td>0.0</td>\n",
              "      <td>NaN</td>\n",
              "      <td>Overcast</td>\n",
              "      <td>cloudy</td>\n",
              "      <td>KHSV,72323003856,72030763804,KMDQ</td>\n",
              "    </tr>\n",
              "    <tr>\n",
              "      <th>...</th>\n",
              "      <td>...</td>\n",
              "      <td>...</td>\n",
              "      <td>...</td>\n",
              "      <td>...</td>\n",
              "      <td>...</td>\n",
              "      <td>...</td>\n",
              "      <td>...</td>\n",
              "      <td>...</td>\n",
              "      <td>...</td>\n",
              "      <td>...</td>\n",
              "      <td>...</td>\n",
              "      <td>...</td>\n",
              "      <td>...</td>\n",
              "      <td>...</td>\n",
              "      <td>...</td>\n",
              "      <td>...</td>\n",
              "      <td>...</td>\n",
              "      <td>...</td>\n",
              "      <td>...</td>\n",
              "      <td>...</td>\n",
              "      <td>...</td>\n",
              "    </tr>\n",
              "    <tr>\n",
              "      <th>8755</th>\n",
              "      <td>31-12-2022</td>\n",
              "      <td>19:00</td>\n",
              "      <td>36.8</td>\n",
              "      <td>36.5</td>\n",
              "      <td>30.6</td>\n",
              "      <td>34.7</td>\n",
              "      <td>31.8</td>\n",
              "      <td>10.5</td>\n",
              "      <td>10.1</td>\n",
              "      <td>10.0</td>\n",
              "      <td>...</td>\n",
              "      <td>NaN</td>\n",
              "      <td>NaN</td>\n",
              "      <td>NaN</td>\n",
              "      <td>NaN</td>\n",
              "      <td>NaN</td>\n",
              "      <td>NaN</td>\n",
              "      <td>NaN</td>\n",
              "      <td>NaN</td>\n",
              "      <td>NaN</td>\n",
              "      <td>NaN</td>\n",
              "    </tr>\n",
              "    <tr>\n",
              "      <th>8756</th>\n",
              "      <td>31-12-2022</td>\n",
              "      <td>20:00</td>\n",
              "      <td>36.7</td>\n",
              "      <td>36.2</td>\n",
              "      <td>30.5</td>\n",
              "      <td>34.7</td>\n",
              "      <td>31.8</td>\n",
              "      <td>10.2</td>\n",
              "      <td>10.0</td>\n",
              "      <td>9.9</td>\n",
              "      <td>...</td>\n",
              "      <td>NaN</td>\n",
              "      <td>NaN</td>\n",
              "      <td>NaN</td>\n",
              "      <td>NaN</td>\n",
              "      <td>NaN</td>\n",
              "      <td>NaN</td>\n",
              "      <td>NaN</td>\n",
              "      <td>NaN</td>\n",
              "      <td>NaN</td>\n",
              "      <td>NaN</td>\n",
              "    </tr>\n",
              "    <tr>\n",
              "      <th>8757</th>\n",
              "      <td>31-12-2022</td>\n",
              "      <td>21:00</td>\n",
              "      <td>36.5</td>\n",
              "      <td>36.1</td>\n",
              "      <td>30.3</td>\n",
              "      <td>34.9</td>\n",
              "      <td>31.8</td>\n",
              "      <td>9.9</td>\n",
              "      <td>9.9</td>\n",
              "      <td>9.8</td>\n",
              "      <td>...</td>\n",
              "      <td>NaN</td>\n",
              "      <td>NaN</td>\n",
              "      <td>NaN</td>\n",
              "      <td>NaN</td>\n",
              "      <td>NaN</td>\n",
              "      <td>NaN</td>\n",
              "      <td>NaN</td>\n",
              "      <td>NaN</td>\n",
              "      <td>NaN</td>\n",
              "      <td>NaN</td>\n",
              "    </tr>\n",
              "    <tr>\n",
              "      <th>8758</th>\n",
              "      <td>31-12-2022</td>\n",
              "      <td>22:00</td>\n",
              "      <td>36.5</td>\n",
              "      <td>36.1</td>\n",
              "      <td>30.3</td>\n",
              "      <td>34.8</td>\n",
              "      <td>32.0</td>\n",
              "      <td>9.7</td>\n",
              "      <td>9.7</td>\n",
              "      <td>9.8</td>\n",
              "      <td>...</td>\n",
              "      <td>NaN</td>\n",
              "      <td>NaN</td>\n",
              "      <td>NaN</td>\n",
              "      <td>NaN</td>\n",
              "      <td>NaN</td>\n",
              "      <td>NaN</td>\n",
              "      <td>NaN</td>\n",
              "      <td>NaN</td>\n",
              "      <td>NaN</td>\n",
              "      <td>NaN</td>\n",
              "    </tr>\n",
              "    <tr>\n",
              "      <th>8759</th>\n",
              "      <td>31-12-2022</td>\n",
              "      <td>23:00</td>\n",
              "      <td>37.2</td>\n",
              "      <td>36.0</td>\n",
              "      <td>30.3</td>\n",
              "      <td>34.8</td>\n",
              "      <td>32.0</td>\n",
              "      <td>9.4</td>\n",
              "      <td>9.6</td>\n",
              "      <td>9.7</td>\n",
              "      <td>...</td>\n",
              "      <td>NaN</td>\n",
              "      <td>NaN</td>\n",
              "      <td>NaN</td>\n",
              "      <td>NaN</td>\n",
              "      <td>NaN</td>\n",
              "      <td>NaN</td>\n",
              "      <td>NaN</td>\n",
              "      <td>NaN</td>\n",
              "      <td>NaN</td>\n",
              "      <td>NaN</td>\n",
              "    </tr>\n",
              "  </tbody>\n",
              "</table>\n",
              "<p>8760 rows × 34 columns</p>\n",
              "</div>"
            ],
            "text/plain": [
              "            Date   Time  SM_2  SM_4  SM_8  SM_20  SM_40  ST_2  ST_4  ST_8  \\\n",
              "0     01-01-2022  00:00  38.2  35.9  31.0   36.9   34.0  15.9  15.5  15.5   \n",
              "1     01-01-2022  01:00  38.2  36.0  30.9   36.7   34.1  16.0  15.6  15.6   \n",
              "2     01-01-2022  02:00  38.3  36.0  31.0   36.7   33.9  16.0  15.6  15.6   \n",
              "3     01-01-2022  03:00  38.3  35.8  30.9   36.7   33.9  16.1  15.7  15.6   \n",
              "4     01-01-2022  04:00  38.3  35.9  30.9   36.7   33.9  16.2  15.7  15.7   \n",
              "...          ...    ...   ...   ...   ...    ...    ...   ...   ...   ...   \n",
              "8755  31-12-2022  19:00  36.8  36.5  30.6   34.7   31.8  10.5  10.1  10.0   \n",
              "8756  31-12-2022  20:00  36.7  36.2  30.5   34.7   31.8  10.2  10.0   9.9   \n",
              "8757  31-12-2022  21:00  36.5  36.1  30.3   34.9   31.8   9.9   9.9   9.8   \n",
              "8758  31-12-2022  22:00  36.5  36.1  30.3   34.8   32.0   9.7   9.7   9.8   \n",
              "8759  31-12-2022  23:00  37.2  36.0  30.3   34.8   32.0   9.4   9.6   9.7   \n",
              "\n",
              "      ...  sealevelpressure  cloudcover  visibility  solarradiation  \\\n",
              "0     ...            1009.4       100.0        16.0             0.0   \n",
              "1     ...            1009.3        91.7        16.0             0.0   \n",
              "2     ...            1009.3        62.7        16.0             0.0   \n",
              "3     ...            1009.3        91.7        16.0             0.0   \n",
              "4     ...            1009.6       100.0        16.0             0.0   \n",
              "...   ...               ...         ...         ...             ...   \n",
              "8755  ...               NaN         NaN         NaN             NaN   \n",
              "8756  ...               NaN         NaN         NaN             NaN   \n",
              "8757  ...               NaN         NaN         NaN             NaN   \n",
              "8758  ...               NaN         NaN         NaN             NaN   \n",
              "8759  ...               NaN         NaN         NaN             NaN   \n",
              "\n",
              "      solarenergy  uvindex  severerisk        conditions                 icon  \\\n",
              "0             0.0      0.0         NaN          Overcast               cloudy   \n",
              "1             0.0      0.0         NaN          Overcast               cloudy   \n",
              "2             0.0      0.0         NaN  Partially cloudy  partly-cloudy-night   \n",
              "3             0.0      0.0         NaN          Overcast               cloudy   \n",
              "4             0.0      0.0         NaN          Overcast               cloudy   \n",
              "...           ...      ...         ...               ...                  ...   \n",
              "8755          NaN      NaN         NaN               NaN                  NaN   \n",
              "8756          NaN      NaN         NaN               NaN                  NaN   \n",
              "8757          NaN      NaN         NaN               NaN                  NaN   \n",
              "8758          NaN      NaN         NaN               NaN                  NaN   \n",
              "8759          NaN      NaN         NaN               NaN                  NaN   \n",
              "\n",
              "                                     stations  \n",
              "0     KHSV,72323003856,72030763804,KMDQ,AAMA1  \n",
              "1     KHSV,72323003856,72030763804,KMDQ,AAMA1  \n",
              "2     KHSV,72323003856,72030763804,KMDQ,AAMA1  \n",
              "3     KHSV,72323003856,72030763804,KMDQ,AAMA1  \n",
              "4           KHSV,72323003856,72030763804,KMDQ  \n",
              "...                                       ...  \n",
              "8755                                      NaN  \n",
              "8756                                      NaN  \n",
              "8757                                      NaN  \n",
              "8758                                      NaN  \n",
              "8759                                      NaN  \n",
              "\n",
              "[8760 rows x 34 columns]"
            ]
          },
          "execution_count": 2,
          "metadata": {},
          "output_type": "execute_result"
        }
      ],
      "source": [
        "dataset = pd.read_csv(\"storage_dataset/prototype_final_dataset.csv\")\n",
        "dataset"
      ]
    },
    {
      "cell_type": "code",
      "execution_count": 3,
      "metadata": {
        "colab": {
          "base_uri": "https://localhost:8080/"
        },
        "id": "u9r0EEyA9c3f",
        "outputId": "fe79ea9c-d574-4b99-c2cc-e9832c1b08c6"
      },
      "outputs": [
        {
          "data": {
            "text/plain": [
              "Index(['Date', 'Time', 'SM_2', 'SM_4', 'SM_8', 'SM_20', 'SM_40', 'ST_2',\n",
              "       'ST_4', 'ST_8', 'ST_20', 'ST_40', 'temp', 'feelslike', 'dew',\n",
              "       'humidity', 'precip', 'precipprob', 'preciptype', 'snow', 'snowdepth',\n",
              "       'windgust', 'windspeed', 'winddir', 'sealevelpressure', 'cloudcover',\n",
              "       'visibility', 'solarradiation', 'solarenergy', 'uvindex', 'severerisk',\n",
              "       'conditions', 'icon', 'stations'],\n",
              "      dtype='object')"
            ]
          },
          "execution_count": 3,
          "metadata": {},
          "output_type": "execute_result"
        }
      ],
      "source": [
        "dataset.columns"
      ]
    },
    {
      "cell_type": "code",
      "execution_count": 4,
      "metadata": {
        "colab": {
          "base_uri": "https://localhost:8080/"
        },
        "id": "o9BYvYs39c3f",
        "outputId": "322a444b-70f6-417f-c336-f5e6ddc92715"
      },
      "outputs": [
        {
          "data": {
            "text/plain": [
              "8760"
            ]
          },
          "execution_count": 4,
          "metadata": {},
          "output_type": "execute_result"
        }
      ],
      "source": [
        "dataset.__len__()"
      ]
    },
    {
      "cell_type": "code",
      "execution_count": 5,
      "metadata": {
        "colab": {
          "base_uri": "https://localhost:8080/"
        },
        "id": "s6G4shkt9c3f",
        "outputId": "4d68ae60-e769-4a1e-be9b-07d36c4a2ef7"
      },
      "outputs": [
        {
          "name": "stdout",
          "output_type": "stream",
          "text": [
            "<class 'pandas.core.frame.DataFrame'>\n",
            "RangeIndex: 8760 entries, 0 to 8759\n",
            "Data columns (total 34 columns):\n",
            " #   Column            Non-Null Count  Dtype  \n",
            "---  ------            --------------  -----  \n",
            " 0   Date              8760 non-null   object \n",
            " 1   Time              8760 non-null   object \n",
            " 2   SM_2              8760 non-null   float64\n",
            " 3   SM_4              8760 non-null   float64\n",
            " 4   SM_8              8760 non-null   float64\n",
            " 5   SM_20             8760 non-null   float64\n",
            " 6   SM_40             8760 non-null   float64\n",
            " 7   ST_2              8760 non-null   float64\n",
            " 8   ST_4              8760 non-null   float64\n",
            " 9   ST_8              8760 non-null   float64\n",
            " 10  ST_20             8760 non-null   float64\n",
            " 11  ST_40             8760 non-null   float64\n",
            " 12  temp              8016 non-null   float64\n",
            " 13  feelslike         8016 non-null   float64\n",
            " 14  dew               8016 non-null   float64\n",
            " 15  humidity          8016 non-null   float64\n",
            " 16  precip            8016 non-null   float64\n",
            " 17  precipprob        8016 non-null   float64\n",
            " 18  preciptype        696 non-null    object \n",
            " 19  snow              7937 non-null   float64\n",
            " 20  snowdepth         8016 non-null   float64\n",
            " 21  windgust          7428 non-null   float64\n",
            " 22  windspeed         8016 non-null   float64\n",
            " 23  winddir           8016 non-null   float64\n",
            " 24  sealevelpressure  8016 non-null   float64\n",
            " 25  cloudcover        8016 non-null   float64\n",
            " 26  visibility        8016 non-null   float64\n",
            " 27  solarradiation    8016 non-null   float64\n",
            " 28  solarenergy       8016 non-null   float64\n",
            " 29  uvindex           8016 non-null   float64\n",
            " 30  severerisk        7272 non-null   float64\n",
            " 31  conditions        8016 non-null   object \n",
            " 32  icon              8016 non-null   object \n",
            " 33  stations          8016 non-null   object \n",
            "dtypes: float64(28), object(6)\n",
            "memory usage: 2.3+ MB\n"
          ]
        }
      ],
      "source": [
        "dataset.info()"
      ]
    },
    {
      "cell_type": "code",
      "execution_count": 6,
      "metadata": {
        "colab": {
          "base_uri": "https://localhost:8080/"
        },
        "id": "vEIXuk2Y9c3f",
        "outputId": "0bc95970-2eec-4f02-febe-bcf683581270"
      },
      "outputs": [
        {
          "data": {
            "text/plain": [
              "8760"
            ]
          },
          "execution_count": 6,
          "metadata": {},
          "output_type": "execute_result"
        }
      ],
      "source": [
        "dataset.__len__()"
      ]
    },
    {
      "cell_type": "code",
      "execution_count": 7,
      "metadata": {
        "colab": {
          "base_uri": "https://localhost:8080/",
          "height": 790
        },
        "id": "vLiMVf919c3f",
        "outputId": "68b9319d-5218-469c-fee0-e8d6a18017ba"
      },
      "outputs": [
        {
          "data": {
            "text/html": [
              "<div>\n",
              "<style scoped>\n",
              "    .dataframe tbody tr th:only-of-type {\n",
              "        vertical-align: middle;\n",
              "    }\n",
              "\n",
              "    .dataframe tbody tr th {\n",
              "        vertical-align: top;\n",
              "    }\n",
              "\n",
              "    .dataframe thead th {\n",
              "        text-align: right;\n",
              "    }\n",
              "</style>\n",
              "<table border=\"1\" class=\"dataframe\">\n",
              "  <thead>\n",
              "    <tr style=\"text-align: right;\">\n",
              "      <th></th>\n",
              "      <th>Date</th>\n",
              "      <th>Time</th>\n",
              "      <th>SM_2</th>\n",
              "      <th>SM_4</th>\n",
              "      <th>SM_8</th>\n",
              "      <th>SM_20</th>\n",
              "      <th>SM_40</th>\n",
              "      <th>ST_2</th>\n",
              "      <th>ST_4</th>\n",
              "      <th>ST_8</th>\n",
              "      <th>...</th>\n",
              "      <th>sealevelpressure</th>\n",
              "      <th>cloudcover</th>\n",
              "      <th>visibility</th>\n",
              "      <th>solarradiation</th>\n",
              "      <th>solarenergy</th>\n",
              "      <th>uvindex</th>\n",
              "      <th>severerisk</th>\n",
              "      <th>conditions</th>\n",
              "      <th>icon</th>\n",
              "      <th>stations</th>\n",
              "    </tr>\n",
              "  </thead>\n",
              "  <tbody>\n",
              "    <tr>\n",
              "      <th>0</th>\n",
              "      <td>01-01-2022</td>\n",
              "      <td>00:00</td>\n",
              "      <td>38.2</td>\n",
              "      <td>35.9</td>\n",
              "      <td>31.0</td>\n",
              "      <td>36.9</td>\n",
              "      <td>34.0</td>\n",
              "      <td>15.9</td>\n",
              "      <td>15.5</td>\n",
              "      <td>15.5</td>\n",
              "      <td>...</td>\n",
              "      <td>1009.4</td>\n",
              "      <td>100.0</td>\n",
              "      <td>16.0</td>\n",
              "      <td>0.0</td>\n",
              "      <td>0.0</td>\n",
              "      <td>0.0</td>\n",
              "      <td>NaN</td>\n",
              "      <td>Overcast</td>\n",
              "      <td>cloudy</td>\n",
              "      <td>KHSV,72323003856,72030763804,KMDQ,AAMA1</td>\n",
              "    </tr>\n",
              "    <tr>\n",
              "      <th>1</th>\n",
              "      <td>01-01-2022</td>\n",
              "      <td>01:00</td>\n",
              "      <td>38.2</td>\n",
              "      <td>36.0</td>\n",
              "      <td>30.9</td>\n",
              "      <td>36.7</td>\n",
              "      <td>34.1</td>\n",
              "      <td>16.0</td>\n",
              "      <td>15.6</td>\n",
              "      <td>15.6</td>\n",
              "      <td>...</td>\n",
              "      <td>1009.3</td>\n",
              "      <td>91.7</td>\n",
              "      <td>16.0</td>\n",
              "      <td>0.0</td>\n",
              "      <td>0.0</td>\n",
              "      <td>0.0</td>\n",
              "      <td>NaN</td>\n",
              "      <td>Overcast</td>\n",
              "      <td>cloudy</td>\n",
              "      <td>KHSV,72323003856,72030763804,KMDQ,AAMA1</td>\n",
              "    </tr>\n",
              "    <tr>\n",
              "      <th>2</th>\n",
              "      <td>01-01-2022</td>\n",
              "      <td>02:00</td>\n",
              "      <td>38.3</td>\n",
              "      <td>36.0</td>\n",
              "      <td>31.0</td>\n",
              "      <td>36.7</td>\n",
              "      <td>33.9</td>\n",
              "      <td>16.0</td>\n",
              "      <td>15.6</td>\n",
              "      <td>15.6</td>\n",
              "      <td>...</td>\n",
              "      <td>1009.3</td>\n",
              "      <td>62.7</td>\n",
              "      <td>16.0</td>\n",
              "      <td>0.0</td>\n",
              "      <td>0.0</td>\n",
              "      <td>0.0</td>\n",
              "      <td>NaN</td>\n",
              "      <td>Partially cloudy</td>\n",
              "      <td>partly-cloudy-night</td>\n",
              "      <td>KHSV,72323003856,72030763804,KMDQ,AAMA1</td>\n",
              "    </tr>\n",
              "    <tr>\n",
              "      <th>3</th>\n",
              "      <td>01-01-2022</td>\n",
              "      <td>03:00</td>\n",
              "      <td>38.3</td>\n",
              "      <td>35.8</td>\n",
              "      <td>30.9</td>\n",
              "      <td>36.7</td>\n",
              "      <td>33.9</td>\n",
              "      <td>16.1</td>\n",
              "      <td>15.7</td>\n",
              "      <td>15.6</td>\n",
              "      <td>...</td>\n",
              "      <td>1009.3</td>\n",
              "      <td>91.7</td>\n",
              "      <td>16.0</td>\n",
              "      <td>0.0</td>\n",
              "      <td>0.0</td>\n",
              "      <td>0.0</td>\n",
              "      <td>NaN</td>\n",
              "      <td>Overcast</td>\n",
              "      <td>cloudy</td>\n",
              "      <td>KHSV,72323003856,72030763804,KMDQ,AAMA1</td>\n",
              "    </tr>\n",
              "    <tr>\n",
              "      <th>4</th>\n",
              "      <td>01-01-2022</td>\n",
              "      <td>04:00</td>\n",
              "      <td>38.3</td>\n",
              "      <td>35.9</td>\n",
              "      <td>30.9</td>\n",
              "      <td>36.7</td>\n",
              "      <td>33.9</td>\n",
              "      <td>16.2</td>\n",
              "      <td>15.7</td>\n",
              "      <td>15.7</td>\n",
              "      <td>...</td>\n",
              "      <td>1009.6</td>\n",
              "      <td>100.0</td>\n",
              "      <td>16.0</td>\n",
              "      <td>0.0</td>\n",
              "      <td>0.0</td>\n",
              "      <td>0.0</td>\n",
              "      <td>NaN</td>\n",
              "      <td>Overcast</td>\n",
              "      <td>cloudy</td>\n",
              "      <td>KHSV,72323003856,72030763804,KMDQ</td>\n",
              "    </tr>\n",
              "    <tr>\n",
              "      <th>...</th>\n",
              "      <td>...</td>\n",
              "      <td>...</td>\n",
              "      <td>...</td>\n",
              "      <td>...</td>\n",
              "      <td>...</td>\n",
              "      <td>...</td>\n",
              "      <td>...</td>\n",
              "      <td>...</td>\n",
              "      <td>...</td>\n",
              "      <td>...</td>\n",
              "      <td>...</td>\n",
              "      <td>...</td>\n",
              "      <td>...</td>\n",
              "      <td>...</td>\n",
              "      <td>...</td>\n",
              "      <td>...</td>\n",
              "      <td>...</td>\n",
              "      <td>...</td>\n",
              "      <td>...</td>\n",
              "      <td>...</td>\n",
              "      <td>...</td>\n",
              "    </tr>\n",
              "    <tr>\n",
              "      <th>8755</th>\n",
              "      <td>31-12-2022</td>\n",
              "      <td>19:00</td>\n",
              "      <td>36.8</td>\n",
              "      <td>36.5</td>\n",
              "      <td>30.6</td>\n",
              "      <td>34.7</td>\n",
              "      <td>31.8</td>\n",
              "      <td>10.5</td>\n",
              "      <td>10.1</td>\n",
              "      <td>10.0</td>\n",
              "      <td>...</td>\n",
              "      <td>NaN</td>\n",
              "      <td>NaN</td>\n",
              "      <td>NaN</td>\n",
              "      <td>NaN</td>\n",
              "      <td>NaN</td>\n",
              "      <td>NaN</td>\n",
              "      <td>NaN</td>\n",
              "      <td>NaN</td>\n",
              "      <td>NaN</td>\n",
              "      <td>NaN</td>\n",
              "    </tr>\n",
              "    <tr>\n",
              "      <th>8756</th>\n",
              "      <td>31-12-2022</td>\n",
              "      <td>20:00</td>\n",
              "      <td>36.7</td>\n",
              "      <td>36.2</td>\n",
              "      <td>30.5</td>\n",
              "      <td>34.7</td>\n",
              "      <td>31.8</td>\n",
              "      <td>10.2</td>\n",
              "      <td>10.0</td>\n",
              "      <td>9.9</td>\n",
              "      <td>...</td>\n",
              "      <td>NaN</td>\n",
              "      <td>NaN</td>\n",
              "      <td>NaN</td>\n",
              "      <td>NaN</td>\n",
              "      <td>NaN</td>\n",
              "      <td>NaN</td>\n",
              "      <td>NaN</td>\n",
              "      <td>NaN</td>\n",
              "      <td>NaN</td>\n",
              "      <td>NaN</td>\n",
              "    </tr>\n",
              "    <tr>\n",
              "      <th>8757</th>\n",
              "      <td>31-12-2022</td>\n",
              "      <td>21:00</td>\n",
              "      <td>36.5</td>\n",
              "      <td>36.1</td>\n",
              "      <td>30.3</td>\n",
              "      <td>34.9</td>\n",
              "      <td>31.8</td>\n",
              "      <td>9.9</td>\n",
              "      <td>9.9</td>\n",
              "      <td>9.8</td>\n",
              "      <td>...</td>\n",
              "      <td>NaN</td>\n",
              "      <td>NaN</td>\n",
              "      <td>NaN</td>\n",
              "      <td>NaN</td>\n",
              "      <td>NaN</td>\n",
              "      <td>NaN</td>\n",
              "      <td>NaN</td>\n",
              "      <td>NaN</td>\n",
              "      <td>NaN</td>\n",
              "      <td>NaN</td>\n",
              "    </tr>\n",
              "    <tr>\n",
              "      <th>8758</th>\n",
              "      <td>31-12-2022</td>\n",
              "      <td>22:00</td>\n",
              "      <td>36.5</td>\n",
              "      <td>36.1</td>\n",
              "      <td>30.3</td>\n",
              "      <td>34.8</td>\n",
              "      <td>32.0</td>\n",
              "      <td>9.7</td>\n",
              "      <td>9.7</td>\n",
              "      <td>9.8</td>\n",
              "      <td>...</td>\n",
              "      <td>NaN</td>\n",
              "      <td>NaN</td>\n",
              "      <td>NaN</td>\n",
              "      <td>NaN</td>\n",
              "      <td>NaN</td>\n",
              "      <td>NaN</td>\n",
              "      <td>NaN</td>\n",
              "      <td>NaN</td>\n",
              "      <td>NaN</td>\n",
              "      <td>NaN</td>\n",
              "    </tr>\n",
              "    <tr>\n",
              "      <th>8759</th>\n",
              "      <td>31-12-2022</td>\n",
              "      <td>23:00</td>\n",
              "      <td>37.2</td>\n",
              "      <td>36.0</td>\n",
              "      <td>30.3</td>\n",
              "      <td>34.8</td>\n",
              "      <td>32.0</td>\n",
              "      <td>9.4</td>\n",
              "      <td>9.6</td>\n",
              "      <td>9.7</td>\n",
              "      <td>...</td>\n",
              "      <td>NaN</td>\n",
              "      <td>NaN</td>\n",
              "      <td>NaN</td>\n",
              "      <td>NaN</td>\n",
              "      <td>NaN</td>\n",
              "      <td>NaN</td>\n",
              "      <td>NaN</td>\n",
              "      <td>NaN</td>\n",
              "      <td>NaN</td>\n",
              "      <td>NaN</td>\n",
              "    </tr>\n",
              "  </tbody>\n",
              "</table>\n",
              "<p>8760 rows × 34 columns</p>\n",
              "</div>"
            ],
            "text/plain": [
              "            Date   Time  SM_2  SM_4  SM_8  SM_20  SM_40  ST_2  ST_4  ST_8  \\\n",
              "0     01-01-2022  00:00  38.2  35.9  31.0   36.9   34.0  15.9  15.5  15.5   \n",
              "1     01-01-2022  01:00  38.2  36.0  30.9   36.7   34.1  16.0  15.6  15.6   \n",
              "2     01-01-2022  02:00  38.3  36.0  31.0   36.7   33.9  16.0  15.6  15.6   \n",
              "3     01-01-2022  03:00  38.3  35.8  30.9   36.7   33.9  16.1  15.7  15.6   \n",
              "4     01-01-2022  04:00  38.3  35.9  30.9   36.7   33.9  16.2  15.7  15.7   \n",
              "...          ...    ...   ...   ...   ...    ...    ...   ...   ...   ...   \n",
              "8755  31-12-2022  19:00  36.8  36.5  30.6   34.7   31.8  10.5  10.1  10.0   \n",
              "8756  31-12-2022  20:00  36.7  36.2  30.5   34.7   31.8  10.2  10.0   9.9   \n",
              "8757  31-12-2022  21:00  36.5  36.1  30.3   34.9   31.8   9.9   9.9   9.8   \n",
              "8758  31-12-2022  22:00  36.5  36.1  30.3   34.8   32.0   9.7   9.7   9.8   \n",
              "8759  31-12-2022  23:00  37.2  36.0  30.3   34.8   32.0   9.4   9.6   9.7   \n",
              "\n",
              "      ...  sealevelpressure  cloudcover  visibility  solarradiation  \\\n",
              "0     ...            1009.4       100.0        16.0             0.0   \n",
              "1     ...            1009.3        91.7        16.0             0.0   \n",
              "2     ...            1009.3        62.7        16.0             0.0   \n",
              "3     ...            1009.3        91.7        16.0             0.0   \n",
              "4     ...            1009.6       100.0        16.0             0.0   \n",
              "...   ...               ...         ...         ...             ...   \n",
              "8755  ...               NaN         NaN         NaN             NaN   \n",
              "8756  ...               NaN         NaN         NaN             NaN   \n",
              "8757  ...               NaN         NaN         NaN             NaN   \n",
              "8758  ...               NaN         NaN         NaN             NaN   \n",
              "8759  ...               NaN         NaN         NaN             NaN   \n",
              "\n",
              "      solarenergy  uvindex  severerisk        conditions                 icon  \\\n",
              "0             0.0      0.0         NaN          Overcast               cloudy   \n",
              "1             0.0      0.0         NaN          Overcast               cloudy   \n",
              "2             0.0      0.0         NaN  Partially cloudy  partly-cloudy-night   \n",
              "3             0.0      0.0         NaN          Overcast               cloudy   \n",
              "4             0.0      0.0         NaN          Overcast               cloudy   \n",
              "...           ...      ...         ...               ...                  ...   \n",
              "8755          NaN      NaN         NaN               NaN                  NaN   \n",
              "8756          NaN      NaN         NaN               NaN                  NaN   \n",
              "8757          NaN      NaN         NaN               NaN                  NaN   \n",
              "8758          NaN      NaN         NaN               NaN                  NaN   \n",
              "8759          NaN      NaN         NaN               NaN                  NaN   \n",
              "\n",
              "                                     stations  \n",
              "0     KHSV,72323003856,72030763804,KMDQ,AAMA1  \n",
              "1     KHSV,72323003856,72030763804,KMDQ,AAMA1  \n",
              "2     KHSV,72323003856,72030763804,KMDQ,AAMA1  \n",
              "3     KHSV,72323003856,72030763804,KMDQ,AAMA1  \n",
              "4           KHSV,72323003856,72030763804,KMDQ  \n",
              "...                                       ...  \n",
              "8755                                      NaN  \n",
              "8756                                      NaN  \n",
              "8757                                      NaN  \n",
              "8758                                      NaN  \n",
              "8759                                      NaN  \n",
              "\n",
              "[8760 rows x 34 columns]"
            ]
          },
          "execution_count": 7,
          "metadata": {},
          "output_type": "execute_result"
        }
      ],
      "source": [
        "dataset"
      ]
    },
    {
      "cell_type": "code",
      "execution_count": 8,
      "metadata": {
        "id": "n4oAbZVI9c3f"
      },
      "outputs": [],
      "source": [
        "dataset.drop(\n",
        "    [\n",
        "        \"Date\",\n",
        "        \"SM_2\",\n",
        "        \"SM_8\",\n",
        "        \"SM_20\",\n",
        "        \"SM_40\",\n",
        "        \"ST_2\",\n",
        "        \"ST_8\",\n",
        "        \"ST_20\",\n",
        "        \"ST_40\",\n",
        "        \"solarenergy\",\n",
        "        \"precipprob\",\n",
        "        \"preciptype\",\n",
        "        \"snow\",\n",
        "        \"snowdepth\",\n",
        "        \"windgust\",\n",
        "        \"winddir\",\n",
        "        \"sealevelpressure\",\n",
        "        \"visibility\",\n",
        "        \"solarenergy\",\n",
        "        \"uvindex\",\n",
        "        \"severerisk\",\n",
        "        \"icon\",\n",
        "        \"stations\",\n",
        "        \"dew\",\n",
        "        \"solarradiation\",\n",
        "        \"Time\",\n",
        "        # \"cloudcover\",\n",
        "        \"feelslike\",\n",
        "        # \"windspeed\",\n",
        "    ],\n",
        "    inplace=True,\n",
        "    axis=1,\n",
        ")"
      ]
    },
    {
      "cell_type": "code",
      "execution_count": 9,
      "metadata": {
        "colab": {
          "base_uri": "https://localhost:8080/",
          "height": 423
        },
        "id": "UyLecQH29c3f",
        "outputId": "0b11f842-b33a-49ea-9fef-b0bf8e22d24a"
      },
      "outputs": [
        {
          "data": {
            "text/html": [
              "<div>\n",
              "<style scoped>\n",
              "    .dataframe tbody tr th:only-of-type {\n",
              "        vertical-align: middle;\n",
              "    }\n",
              "\n",
              "    .dataframe tbody tr th {\n",
              "        vertical-align: top;\n",
              "    }\n",
              "\n",
              "    .dataframe thead th {\n",
              "        text-align: right;\n",
              "    }\n",
              "</style>\n",
              "<table border=\"1\" class=\"dataframe\">\n",
              "  <thead>\n",
              "    <tr style=\"text-align: right;\">\n",
              "      <th></th>\n",
              "      <th>SM_4</th>\n",
              "      <th>ST_4</th>\n",
              "      <th>temp</th>\n",
              "      <th>humidity</th>\n",
              "      <th>precip</th>\n",
              "      <th>windspeed</th>\n",
              "      <th>cloudcover</th>\n",
              "      <th>conditions</th>\n",
              "    </tr>\n",
              "  </thead>\n",
              "  <tbody>\n",
              "    <tr>\n",
              "      <th>0</th>\n",
              "      <td>35.9</td>\n",
              "      <td>15.5</td>\n",
              "      <td>21.6</td>\n",
              "      <td>84.50</td>\n",
              "      <td>0.0</td>\n",
              "      <td>22.3</td>\n",
              "      <td>100.0</td>\n",
              "      <td>Overcast</td>\n",
              "    </tr>\n",
              "    <tr>\n",
              "      <th>1</th>\n",
              "      <td>36.0</td>\n",
              "      <td>15.6</td>\n",
              "      <td>21.6</td>\n",
              "      <td>84.97</td>\n",
              "      <td>0.0</td>\n",
              "      <td>27.7</td>\n",
              "      <td>91.7</td>\n",
              "      <td>Overcast</td>\n",
              "    </tr>\n",
              "    <tr>\n",
              "      <th>2</th>\n",
              "      <td>36.0</td>\n",
              "      <td>15.6</td>\n",
              "      <td>21.2</td>\n",
              "      <td>86.87</td>\n",
              "      <td>0.0</td>\n",
              "      <td>22.8</td>\n",
              "      <td>62.7</td>\n",
              "      <td>Partially cloudy</td>\n",
              "    </tr>\n",
              "    <tr>\n",
              "      <th>3</th>\n",
              "      <td>35.8</td>\n",
              "      <td>15.7</td>\n",
              "      <td>21.2</td>\n",
              "      <td>86.66</td>\n",
              "      <td>0.0</td>\n",
              "      <td>22.8</td>\n",
              "      <td>91.7</td>\n",
              "      <td>Overcast</td>\n",
              "    </tr>\n",
              "    <tr>\n",
              "      <th>4</th>\n",
              "      <td>35.9</td>\n",
              "      <td>15.7</td>\n",
              "      <td>21.6</td>\n",
              "      <td>84.50</td>\n",
              "      <td>0.0</td>\n",
              "      <td>19.8</td>\n",
              "      <td>100.0</td>\n",
              "      <td>Overcast</td>\n",
              "    </tr>\n",
              "    <tr>\n",
              "      <th>...</th>\n",
              "      <td>...</td>\n",
              "      <td>...</td>\n",
              "      <td>...</td>\n",
              "      <td>...</td>\n",
              "      <td>...</td>\n",
              "      <td>...</td>\n",
              "      <td>...</td>\n",
              "      <td>...</td>\n",
              "    </tr>\n",
              "    <tr>\n",
              "      <th>8755</th>\n",
              "      <td>36.5</td>\n",
              "      <td>10.1</td>\n",
              "      <td>NaN</td>\n",
              "      <td>NaN</td>\n",
              "      <td>NaN</td>\n",
              "      <td>NaN</td>\n",
              "      <td>NaN</td>\n",
              "      <td>NaN</td>\n",
              "    </tr>\n",
              "    <tr>\n",
              "      <th>8756</th>\n",
              "      <td>36.2</td>\n",
              "      <td>10.0</td>\n",
              "      <td>NaN</td>\n",
              "      <td>NaN</td>\n",
              "      <td>NaN</td>\n",
              "      <td>NaN</td>\n",
              "      <td>NaN</td>\n",
              "      <td>NaN</td>\n",
              "    </tr>\n",
              "    <tr>\n",
              "      <th>8757</th>\n",
              "      <td>36.1</td>\n",
              "      <td>9.9</td>\n",
              "      <td>NaN</td>\n",
              "      <td>NaN</td>\n",
              "      <td>NaN</td>\n",
              "      <td>NaN</td>\n",
              "      <td>NaN</td>\n",
              "      <td>NaN</td>\n",
              "    </tr>\n",
              "    <tr>\n",
              "      <th>8758</th>\n",
              "      <td>36.1</td>\n",
              "      <td>9.7</td>\n",
              "      <td>NaN</td>\n",
              "      <td>NaN</td>\n",
              "      <td>NaN</td>\n",
              "      <td>NaN</td>\n",
              "      <td>NaN</td>\n",
              "      <td>NaN</td>\n",
              "    </tr>\n",
              "    <tr>\n",
              "      <th>8759</th>\n",
              "      <td>36.0</td>\n",
              "      <td>9.6</td>\n",
              "      <td>NaN</td>\n",
              "      <td>NaN</td>\n",
              "      <td>NaN</td>\n",
              "      <td>NaN</td>\n",
              "      <td>NaN</td>\n",
              "      <td>NaN</td>\n",
              "    </tr>\n",
              "  </tbody>\n",
              "</table>\n",
              "<p>8760 rows × 8 columns</p>\n",
              "</div>"
            ],
            "text/plain": [
              "      SM_4  ST_4  temp  humidity  precip  windspeed  cloudcover  \\\n",
              "0     35.9  15.5  21.6     84.50     0.0       22.3       100.0   \n",
              "1     36.0  15.6  21.6     84.97     0.0       27.7        91.7   \n",
              "2     36.0  15.6  21.2     86.87     0.0       22.8        62.7   \n",
              "3     35.8  15.7  21.2     86.66     0.0       22.8        91.7   \n",
              "4     35.9  15.7  21.6     84.50     0.0       19.8       100.0   \n",
              "...    ...   ...   ...       ...     ...        ...         ...   \n",
              "8755  36.5  10.1   NaN       NaN     NaN        NaN         NaN   \n",
              "8756  36.2  10.0   NaN       NaN     NaN        NaN         NaN   \n",
              "8757  36.1   9.9   NaN       NaN     NaN        NaN         NaN   \n",
              "8758  36.1   9.7   NaN       NaN     NaN        NaN         NaN   \n",
              "8759  36.0   9.6   NaN       NaN     NaN        NaN         NaN   \n",
              "\n",
              "            conditions  \n",
              "0             Overcast  \n",
              "1             Overcast  \n",
              "2     Partially cloudy  \n",
              "3             Overcast  \n",
              "4             Overcast  \n",
              "...                ...  \n",
              "8755               NaN  \n",
              "8756               NaN  \n",
              "8757               NaN  \n",
              "8758               NaN  \n",
              "8759               NaN  \n",
              "\n",
              "[8760 rows x 8 columns]"
            ]
          },
          "execution_count": 9,
          "metadata": {},
          "output_type": "execute_result"
        }
      ],
      "source": [
        "dataset"
      ]
    },
    {
      "cell_type": "code",
      "execution_count": 10,
      "metadata": {
        "colab": {
          "base_uri": "https://localhost:8080/"
        },
        "id": "L8Uf4PVr9c3g",
        "outputId": "9b888e60-d727-40ba-840e-90786c1ddd3c"
      },
      "outputs": [
        {
          "name": "stdout",
          "output_type": "stream",
          "text": [
            "<class 'pandas.core.frame.DataFrame'>\n",
            "RangeIndex: 8760 entries, 0 to 8759\n",
            "Data columns (total 8 columns):\n",
            " #   Column      Non-Null Count  Dtype  \n",
            "---  ------      --------------  -----  \n",
            " 0   SM_4        8760 non-null   float64\n",
            " 1   ST_4        8760 non-null   float64\n",
            " 2   temp        8016 non-null   float64\n",
            " 3   humidity    8016 non-null   float64\n",
            " 4   precip      8016 non-null   float64\n",
            " 5   windspeed   8016 non-null   float64\n",
            " 6   cloudcover  8016 non-null   float64\n",
            " 7   conditions  8016 non-null   object \n",
            "dtypes: float64(7), object(1)\n",
            "memory usage: 547.6+ KB\n"
          ]
        }
      ],
      "source": [
        "dataset.info()"
      ]
    },
    {
      "cell_type": "code",
      "execution_count": 11,
      "metadata": {
        "id": "oGdlriRq9c3g"
      },
      "outputs": [],
      "source": [
        "dataset = dataset.dropna()"
      ]
    },
    {
      "cell_type": "code",
      "execution_count": 12,
      "metadata": {
        "colab": {
          "base_uri": "https://localhost:8080/"
        },
        "id": "pdrIx09F9c3g",
        "outputId": "54a9e586-3488-400c-94d9-2a7efed0a2fb"
      },
      "outputs": [
        {
          "name": "stdout",
          "output_type": "stream",
          "text": [
            "<class 'pandas.core.frame.DataFrame'>\n",
            "Index: 8016 entries, 0 to 8016\n",
            "Data columns (total 8 columns):\n",
            " #   Column      Non-Null Count  Dtype  \n",
            "---  ------      --------------  -----  \n",
            " 0   SM_4        8016 non-null   float64\n",
            " 1   ST_4        8016 non-null   float64\n",
            " 2   temp        8016 non-null   float64\n",
            " 3   humidity    8016 non-null   float64\n",
            " 4   precip      8016 non-null   float64\n",
            " 5   windspeed   8016 non-null   float64\n",
            " 6   cloudcover  8016 non-null   float64\n",
            " 7   conditions  8016 non-null   object \n",
            "dtypes: float64(7), object(1)\n",
            "memory usage: 563.6+ KB\n"
          ]
        }
      ],
      "source": [
        "dataset.info()"
      ]
    },
    {
      "cell_type": "code",
      "execution_count": 13,
      "metadata": {},
      "outputs": [
        {
          "data": {
            "text/plain": [
              "Index(['SM_4', 'ST_4', 'temp', 'humidity', 'precip', 'windspeed', 'cloudcover',\n",
              "       'conditions'],\n",
              "      dtype='object')"
            ]
          },
          "execution_count": 13,
          "metadata": {},
          "output_type": "execute_result"
        }
      ],
      "source": [
        "dataset.columns"
      ]
    },
    {
      "cell_type": "code",
      "execution_count": 14,
      "metadata": {},
      "outputs": [
        {
          "name": "stdout",
          "output_type": "stream",
          "text": [
            "['Overcast' 'Partially cloudy' 'Rain, Partially cloudy' 'Rain, Overcast'\n",
            " 'Snow, Rain, Overcast' 'Snow, Rain, Partially cloudy' 'Clear'\n",
            " 'Snow, Overcast' 'Rain']\n",
            "9\n"
          ]
        }
      ],
      "source": [
        "Categorical_unique_conditions = dataset.conditions.unique()\n",
        "print(Categorical_unique_conditions)\n",
        "print(len(Categorical_unique_conditions))"
      ]
    },
    {
      "cell_type": "code",
      "execution_count": 15,
      "metadata": {},
      "outputs": [
        {
          "data": {
            "text/html": [
              "<div>\n",
              "<style scoped>\n",
              "    .dataframe tbody tr th:only-of-type {\n",
              "        vertical-align: middle;\n",
              "    }\n",
              "\n",
              "    .dataframe tbody tr th {\n",
              "        vertical-align: top;\n",
              "    }\n",
              "\n",
              "    .dataframe thead th {\n",
              "        text-align: right;\n",
              "    }\n",
              "</style>\n",
              "<table border=\"1\" class=\"dataframe\">\n",
              "  <thead>\n",
              "    <tr style=\"text-align: right;\">\n",
              "      <th></th>\n",
              "      <th>SM_4</th>\n",
              "      <th>ST_4</th>\n",
              "      <th>temp</th>\n",
              "      <th>humidity</th>\n",
              "      <th>precip</th>\n",
              "      <th>windspeed</th>\n",
              "      <th>cloudcover</th>\n",
              "      <th>conditions</th>\n",
              "    </tr>\n",
              "  </thead>\n",
              "  <tbody>\n",
              "    <tr>\n",
              "      <th>0</th>\n",
              "      <td>35.9</td>\n",
              "      <td>15.5</td>\n",
              "      <td>21.6</td>\n",
              "      <td>84.50</td>\n",
              "      <td>0.0</td>\n",
              "      <td>22.3</td>\n",
              "      <td>100.0</td>\n",
              "      <td>Overcast</td>\n",
              "    </tr>\n",
              "    <tr>\n",
              "      <th>1</th>\n",
              "      <td>36.0</td>\n",
              "      <td>15.6</td>\n",
              "      <td>21.6</td>\n",
              "      <td>84.97</td>\n",
              "      <td>0.0</td>\n",
              "      <td>27.7</td>\n",
              "      <td>91.7</td>\n",
              "      <td>Overcast</td>\n",
              "    </tr>\n",
              "    <tr>\n",
              "      <th>2</th>\n",
              "      <td>36.0</td>\n",
              "      <td>15.6</td>\n",
              "      <td>21.2</td>\n",
              "      <td>86.87</td>\n",
              "      <td>0.0</td>\n",
              "      <td>22.8</td>\n",
              "      <td>62.7</td>\n",
              "      <td>Partially cloudy</td>\n",
              "    </tr>\n",
              "    <tr>\n",
              "      <th>3</th>\n",
              "      <td>35.8</td>\n",
              "      <td>15.7</td>\n",
              "      <td>21.2</td>\n",
              "      <td>86.66</td>\n",
              "      <td>0.0</td>\n",
              "      <td>22.8</td>\n",
              "      <td>91.7</td>\n",
              "      <td>Overcast</td>\n",
              "    </tr>\n",
              "    <tr>\n",
              "      <th>4</th>\n",
              "      <td>35.9</td>\n",
              "      <td>15.7</td>\n",
              "      <td>21.6</td>\n",
              "      <td>84.50</td>\n",
              "      <td>0.0</td>\n",
              "      <td>19.8</td>\n",
              "      <td>100.0</td>\n",
              "      <td>Overcast</td>\n",
              "    </tr>\n",
              "    <tr>\n",
              "      <th>...</th>\n",
              "      <td>...</td>\n",
              "      <td>...</td>\n",
              "      <td>...</td>\n",
              "      <td>...</td>\n",
              "      <td>...</td>\n",
              "      <td>...</td>\n",
              "      <td>...</td>\n",
              "      <td>...</td>\n",
              "    </tr>\n",
              "    <tr>\n",
              "      <th>8012</th>\n",
              "      <td>35.3</td>\n",
              "      <td>11.8</td>\n",
              "      <td>4.8</td>\n",
              "      <td>59.35</td>\n",
              "      <td>0.0</td>\n",
              "      <td>7.7</td>\n",
              "      <td>0.0</td>\n",
              "      <td>Clear</td>\n",
              "    </tr>\n",
              "    <tr>\n",
              "      <th>8013</th>\n",
              "      <td>35.2</td>\n",
              "      <td>11.6</td>\n",
              "      <td>3.8</td>\n",
              "      <td>58.12</td>\n",
              "      <td>0.0</td>\n",
              "      <td>7.5</td>\n",
              "      <td>0.0</td>\n",
              "      <td>Clear</td>\n",
              "    </tr>\n",
              "    <tr>\n",
              "      <th>8014</th>\n",
              "      <td>35.1</td>\n",
              "      <td>11.3</td>\n",
              "      <td>3.3</td>\n",
              "      <td>58.94</td>\n",
              "      <td>0.0</td>\n",
              "      <td>9.1</td>\n",
              "      <td>0.0</td>\n",
              "      <td>Clear</td>\n",
              "    </tr>\n",
              "    <tr>\n",
              "      <th>8015</th>\n",
              "      <td>35.0</td>\n",
              "      <td>11.1</td>\n",
              "      <td>2.3</td>\n",
              "      <td>62.12</td>\n",
              "      <td>0.0</td>\n",
              "      <td>9.4</td>\n",
              "      <td>0.0</td>\n",
              "      <td>Clear</td>\n",
              "    </tr>\n",
              "    <tr>\n",
              "      <th>8016</th>\n",
              "      <td>34.9</td>\n",
              "      <td>10.9</td>\n",
              "      <td>2.3</td>\n",
              "      <td>58.73</td>\n",
              "      <td>0.0</td>\n",
              "      <td>7.9</td>\n",
              "      <td>0.0</td>\n",
              "      <td>Clear</td>\n",
              "    </tr>\n",
              "  </tbody>\n",
              "</table>\n",
              "<p>8016 rows × 8 columns</p>\n",
              "</div>"
            ],
            "text/plain": [
              "      SM_4  ST_4  temp  humidity  precip  windspeed  cloudcover  \\\n",
              "0     35.9  15.5  21.6     84.50     0.0       22.3       100.0   \n",
              "1     36.0  15.6  21.6     84.97     0.0       27.7        91.7   \n",
              "2     36.0  15.6  21.2     86.87     0.0       22.8        62.7   \n",
              "3     35.8  15.7  21.2     86.66     0.0       22.8        91.7   \n",
              "4     35.9  15.7  21.6     84.50     0.0       19.8       100.0   \n",
              "...    ...   ...   ...       ...     ...        ...         ...   \n",
              "8012  35.3  11.8   4.8     59.35     0.0        7.7         0.0   \n",
              "8013  35.2  11.6   3.8     58.12     0.0        7.5         0.0   \n",
              "8014  35.1  11.3   3.3     58.94     0.0        9.1         0.0   \n",
              "8015  35.0  11.1   2.3     62.12     0.0        9.4         0.0   \n",
              "8016  34.9  10.9   2.3     58.73     0.0        7.9         0.0   \n",
              "\n",
              "            conditions  \n",
              "0             Overcast  \n",
              "1             Overcast  \n",
              "2     Partially cloudy  \n",
              "3             Overcast  \n",
              "4             Overcast  \n",
              "...                ...  \n",
              "8012             Clear  \n",
              "8013             Clear  \n",
              "8014             Clear  \n",
              "8015             Clear  \n",
              "8016             Clear  \n",
              "\n",
              "[8016 rows x 8 columns]"
            ]
          },
          "execution_count": 15,
          "metadata": {},
          "output_type": "execute_result"
        }
      ],
      "source": [
        "dataset"
      ]
    },
    {
      "cell_type": "code",
      "execution_count": 16,
      "metadata": {
        "colab": {
          "base_uri": "https://localhost:8080/"
        },
        "id": "4LS-omuT9c3g",
        "outputId": "f98f14d9-e2de-4a68-ee67-dc7afc2a26c3"
      },
      "outputs": [
        {
          "data": {
            "text/plain": [
              "array([[15.5, 21.6, 84.5, ..., 22.3, 100.0, 'Overcast'],\n",
              "       [15.6, 21.6, 84.97, ..., 27.7, 91.7, 'Overcast'],\n",
              "       [15.6, 21.2, 86.87, ..., 22.8, 62.7, 'Partially cloudy'],\n",
              "       ...,\n",
              "       [11.3, 3.3, 58.94, ..., 9.1, 0.0, 'Clear'],\n",
              "       [11.1, 2.3, 62.12, ..., 9.4, 0.0, 'Clear'],\n",
              "       [10.9, 2.3, 58.73, ..., 7.9, 0.0, 'Clear']], dtype=object)"
            ]
          },
          "execution_count": 16,
          "metadata": {},
          "output_type": "execute_result"
        }
      ],
      "source": [
        "X = dataset.iloc[:, 1:].values\n",
        "X"
      ]
    },
    {
      "cell_type": "code",
      "execution_count": 17,
      "metadata": {
        "colab": {
          "base_uri": "https://localhost:8080/"
        },
        "id": "DFExooBU9c3g",
        "outputId": "9ab46a7e-b91b-4e95-c031-05358367769c"
      },
      "outputs": [
        {
          "data": {
            "text/plain": [
              "array([35.9, 36. , 36. , ..., 35.1, 35. , 34.9])"
            ]
          },
          "execution_count": 17,
          "metadata": {},
          "output_type": "execute_result"
        }
      ],
      "source": [
        "y = dataset.iloc[:, 0].values\n",
        "y"
      ]
    },
    {
      "cell_type": "code",
      "execution_count": 18,
      "metadata": {
        "colab": {
          "base_uri": "https://localhost:8080/"
        },
        "id": "EhkwCeEG9c3h",
        "outputId": "c91a9cc9-441c-48f4-8dfa-1d62e7ce16cd"
      },
      "outputs": [
        {
          "data": {
            "text/plain": [
              "array([[0.0, 1.0, 0.0, ..., 0.0, 22.3, 100.0],\n",
              "       [0.0, 1.0, 0.0, ..., 0.0, 27.7, 91.7],\n",
              "       [0.0, 0.0, 1.0, ..., 0.0, 22.8, 62.7],\n",
              "       ...,\n",
              "       [1.0, 0.0, 0.0, ..., 0.0, 9.1, 0.0],\n",
              "       [1.0, 0.0, 0.0, ..., 0.0, 9.4, 0.0],\n",
              "       [1.0, 0.0, 0.0, ..., 0.0, 7.9, 0.0]], dtype=object)"
            ]
          },
          "execution_count": 18,
          "metadata": {},
          "output_type": "execute_result"
        }
      ],
      "source": [
        "\"\"\" taking care of categorical data in conditions column \"\"\"\n",
        "from sklearn.compose import ColumnTransformer\n",
        "from sklearn.preprocessing import OneHotEncoder\n",
        "\n",
        "ct = ColumnTransformer(\n",
        "    transformers=[(\"encoder\", OneHotEncoder(), [-1])], remainder=\"passthrough\"\n",
        ")\n",
        "X = np.array(ct.fit_transform(X))\n",
        "X"
      ]
    },
    {
      "cell_type": "code",
      "execution_count": 19,
      "metadata": {},
      "outputs": [],
      "source": [
        "X_train, X_test, y_train, y_test = train_test_split(\n",
        "    X, y, test_size=0.25, random_state=0\n",
        ")"
      ]
    },
    {
      "cell_type": "code",
      "execution_count": 20,
      "metadata": {
        "colab": {
          "base_uri": "https://localhost:8080/"
        },
        "id": "_E5DsEll9c3h",
        "outputId": "4bf77978-eb93-46d7-8180-f2dc6ef47da2"
      },
      "outputs": [
        {
          "name": "stdout",
          "output_type": "stream",
          "text": [
            "X_train shape =  (6012, 15)\n",
            "y_train shape =  (6012,)\n"
          ]
        }
      ],
      "source": [
        "print(\"X_train shape = \", X_train.shape)\n",
        "print(\"y_train shape = \", y_train.shape)"
      ]
    },
    {
      "cell_type": "code",
      "execution_count": 21,
      "metadata": {},
      "outputs": [
        {
          "name": "stdout",
          "output_type": "stream",
          "text": [
            "X_test shape =  (2004, 15)\n",
            "y_test shape =  (2004,)\n"
          ]
        }
      ],
      "source": [
        "print(\"X_test shape = \", X_test.shape)\n",
        "print(\"y_test shape = \", y_test.shape)"
      ]
    },
    {
      "cell_type": "code",
      "execution_count": 22,
      "metadata": {
        "colab": {
          "base_uri": "https://localhost:8080/"
        },
        "id": "RhIsOKrl9c3h",
        "outputId": "5f5cb870-8303-41bd-a736-e82bea9a9413"
      },
      "outputs": [
        {
          "data": {
            "text/plain": [
              "array([0.0, 0.0, 1.0, 0.0, 0.0, 0.0, 0.0, 0.0, 0.0, 27.1, 30.3, 59.55,\n",
              "       0.0, 2.5, 50.0], dtype=object)"
            ]
          },
          "execution_count": 22,
          "metadata": {},
          "output_type": "execute_result"
        }
      ],
      "source": [
        "X_train[0]"
      ]
    },
    {
      "cell_type": "code",
      "execution_count": 23,
      "metadata": {},
      "outputs": [
        {
          "data": {
            "text/plain": [
              "33.5"
            ]
          },
          "execution_count": 23,
          "metadata": {},
          "output_type": "execute_result"
        }
      ],
      "source": [
        "y_train[0]"
      ]
    },
    {
      "cell_type": "code",
      "execution_count": 24,
      "metadata": {
        "colab": {
          "base_uri": "https://localhost:8080/"
        },
        "id": "ojNfMQfT9c3h",
        "outputId": "1c18cbac-4698-4297-c0b9-4128663afae4"
      },
      "outputs": [
        {
          "data": {
            "text/plain": [
              "array([0.0, 0.0, 1.0, 0.0, 0.0, 0.0, 0.0, 0.0, 0.0, 0.8856088560885609,\n",
              "       0.8690744920993229, 0.5295964647051983, 0.0, 0.058823529411764705,\n",
              "       0.5], dtype=object)"
            ]
          },
          "execution_count": 24,
          "metadata": {},
          "output_type": "execute_result"
        }
      ],
      "source": [
        "\"\"\" Scaling data \"\"\"\n",
        "from sklearn.preprocessing import MinMaxScaler\n",
        "\n",
        "sc = MinMaxScaler()\n",
        "X_train[:, 9:] = sc.fit_transform(X_train[:, 9:])\n",
        "X_test[:, 9:] = sc.transform(X_test[:, 9:])\n",
        "X_train[0]"
      ]
    },
    {
      "cell_type": "code",
      "execution_count": 25,
      "metadata": {
        "colab": {
          "base_uri": "https://localhost:8080/"
        },
        "id": "OSE8famf9c3h",
        "outputId": "65d0ffa3-6f4f-4a5d-c607-26ffd64367c0"
      },
      "outputs": [
        {
          "data": {
            "text/plain": [
              "array([0.0, 0.0, 1.0, 0.0, 0.0, 0.0, 0.0, 0.0, 0.0, 0.8856088560885609,\n",
              "       0.8690744920993229, 0.5295964647051983, 0.0, 0.058823529411764705,\n",
              "       0.5], dtype=object)"
            ]
          },
          "execution_count": 25,
          "metadata": {},
          "output_type": "execute_result"
        }
      ],
      "source": [
        "X_train[0]"
      ]
    },
    {
      "cell_type": "code",
      "execution_count": 26,
      "metadata": {
        "colab": {
          "base_uri": "https://localhost:8080/"
        },
        "id": "bYwC59k99c3h",
        "outputId": "493b5446-17bb-42db-a63e-c74a6e5ed952"
      },
      "outputs": [
        {
          "data": {
            "text/plain": [
              "(15,)"
            ]
          },
          "execution_count": 26,
          "metadata": {},
          "output_type": "execute_result"
        }
      ],
      "source": [
        "X_train[0].shape"
      ]
    },
    {
      "cell_type": "markdown",
      "metadata": {},
      "source": [
        "<h1>ANN model </h1>\n"
      ]
    },
    {
      "cell_type": "code",
      "execution_count": 27,
      "metadata": {
        "id": "bt6Goepy9c3h"
      },
      "outputs": [],
      "source": [
        "\"\"\" Model \"\"\"\n",
        "ANN_model = (\n",
        "    keras.Sequential(\n",
        "        [\n",
        "            keras.layers.Dense(32, activation=\"relu\"),\n",
        "            keras.layers.Dense(16, activation=\"relu\"),\n",
        "            keras.layers.Dense(8, activation=\"relu\"),\n",
        "            keras.layers.Dense(4, activation=\"relu\"),\n",
        "            keras.layers.Dense(2, activation=\"relu\"),\n",
        "            keras.layers.Dense(1),\n",
        "        ]\n",
        "    ),\n",
        ")"
      ]
    },
    {
      "cell_type": "code",
      "execution_count": 28,
      "metadata": {
        "id": "Jw83hsOg9c3h"
      },
      "outputs": [],
      "source": [
        "ANN_model.compile(\n",
        "    optimizer=keras.optimizers.Adam(),\n",
        "    loss=keras.losses.mean_squared_error,\n",
        "    metrics=keras.metrics.mean_absolute_error,\n",
        ")\n",
        "early_stopping = EarlyStopping(patience=5)"
      ]
    },
    {
      "cell_type": "code",
      "execution_count": 29,
      "metadata": {
        "id": "CmPdxKMY9c3i"
      },
      "outputs": [],
      "source": [
        "X_train = np.asarray(X_train).astype(\"float32\")\n",
        "y_train = np.asarray(y_train).astype(\"float32\")"
      ]
    },
    {
      "cell_type": "code",
      "execution_count": 30,
      "metadata": {},
      "outputs": [],
      "source": [
        "X_test = np.asarray(X_test).astype(\"float32\")\n",
        "y_test = np.asarray(y_test).astype(\"float32\")"
      ]
    },
    {
      "cell_type": "code",
      "execution_count": 31,
      "metadata": {
        "colab": {
          "base_uri": "https://localhost:8080/"
        },
        "id": "PRR_city9c3i",
        "outputId": "3a77d91f-dbb5-4743-f51f-a01b1c148207"
      },
      "outputs": [
        {
          "data": {
            "text/plain": [
              "array([0.        , 0.        , 1.        , 0.        , 0.        ,\n",
              "       0.        , 0.        , 0.        , 0.        , 0.88560885,\n",
              "       0.86907446, 0.52959645, 0.        , 0.05882353, 0.5       ],\n",
              "      dtype=float32)"
            ]
          },
          "execution_count": 31,
          "metadata": {},
          "output_type": "execute_result"
        }
      ],
      "source": [
        "X_train[0]"
      ]
    },
    {
      "cell_type": "code",
      "execution_count": 32,
      "metadata": {
        "colab": {
          "base_uri": "https://localhost:8080/"
        },
        "id": "7LeFT5G_9c3i",
        "outputId": "81b15a0a-b223-4517-899a-650456e116aa"
      },
      "outputs": [
        {
          "name": "stdout",
          "output_type": "stream",
          "text": [
            "Epoch 1/100\n",
            "188/188 [==============================] - 1s 2ms/step - loss: 455.3905 - mean_absolute_error: 18.5663 - val_loss: 56.1511 - val_mean_absolute_error: 6.2280\n",
            "Epoch 2/100\n",
            "188/188 [==============================] - 0s 1ms/step - loss: 45.1612 - mean_absolute_error: 5.7043 - val_loss: 34.3010 - val_mean_absolute_error: 5.0227\n",
            "Epoch 3/100\n",
            "188/188 [==============================] - 0s 1ms/step - loss: 26.1360 - mean_absolute_error: 4.3611 - val_loss: 19.9050 - val_mean_absolute_error: 3.7892\n",
            "Epoch 4/100\n",
            "188/188 [==============================] - 0s 1ms/step - loss: 17.3591 - mean_absolute_error: 3.4405 - val_loss: 16.2126 - val_mean_absolute_error: 3.2966\n",
            "Epoch 5/100\n",
            "188/188 [==============================] - 0s 1ms/step - loss: 15.4574 - mean_absolute_error: 3.1816 - val_loss: 15.2795 - val_mean_absolute_error: 3.1876\n",
            "Epoch 6/100\n",
            "188/188 [==============================] - 0s 1ms/step - loss: 14.8181 - mean_absolute_error: 3.1088 - val_loss: 14.9439 - val_mean_absolute_error: 3.1509\n",
            "Epoch 7/100\n",
            "188/188 [==============================] - 0s 1ms/step - loss: 14.5421 - mean_absolute_error: 3.0815 - val_loss: 14.4752 - val_mean_absolute_error: 3.0954\n",
            "Epoch 8/100\n",
            "188/188 [==============================] - 0s 1ms/step - loss: 14.2706 - mean_absolute_error: 3.0528 - val_loss: 14.4426 - val_mean_absolute_error: 3.0900\n",
            "Epoch 9/100\n",
            "188/188 [==============================] - 0s 1ms/step - loss: 14.2486 - mean_absolute_error: 3.0520 - val_loss: 14.1856 - val_mean_absolute_error: 3.0643\n",
            "Epoch 10/100\n",
            "188/188 [==============================] - 0s 1ms/step - loss: 14.2057 - mean_absolute_error: 3.0401 - val_loss: 14.2223 - val_mean_absolute_error: 3.0678\n",
            "Epoch 11/100\n",
            "188/188 [==============================] - 0s 1ms/step - loss: 14.1079 - mean_absolute_error: 3.0306 - val_loss: 14.0976 - val_mean_absolute_error: 3.0618\n",
            "Epoch 12/100\n",
            "188/188 [==============================] - 0s 1ms/step - loss: 14.1412 - mean_absolute_error: 3.0358 - val_loss: 14.0515 - val_mean_absolute_error: 3.0576\n",
            "Epoch 13/100\n",
            "188/188 [==============================] - 0s 1ms/step - loss: 14.0818 - mean_absolute_error: 3.0270 - val_loss: 14.0317 - val_mean_absolute_error: 3.0559\n",
            "Epoch 14/100\n",
            "188/188 [==============================] - 0s 1ms/step - loss: 14.0677 - mean_absolute_error: 3.0273 - val_loss: 14.0327 - val_mean_absolute_error: 3.0562\n",
            "Epoch 15/100\n",
            "188/188 [==============================] - 0s 1ms/step - loss: 14.0481 - mean_absolute_error: 3.0295 - val_loss: 14.5343 - val_mean_absolute_error: 3.0927\n",
            "Epoch 16/100\n",
            "188/188 [==============================] - 0s 1ms/step - loss: 14.0217 - mean_absolute_error: 3.0286 - val_loss: 13.9752 - val_mean_absolute_error: 3.0445\n",
            "Epoch 17/100\n",
            "188/188 [==============================] - 0s 1ms/step - loss: 14.0298 - mean_absolute_error: 3.0210 - val_loss: 14.1270 - val_mean_absolute_error: 3.0733\n",
            "Epoch 18/100\n",
            "188/188 [==============================] - 0s 1ms/step - loss: 14.0200 - mean_absolute_error: 3.0197 - val_loss: 13.9457 - val_mean_absolute_error: 3.0467\n",
            "Epoch 19/100\n",
            "188/188 [==============================] - 0s 1ms/step - loss: 14.0372 - mean_absolute_error: 3.0245 - val_loss: 14.0439 - val_mean_absolute_error: 3.0565\n",
            "Epoch 20/100\n",
            "188/188 [==============================] - 0s 1ms/step - loss: 13.9677 - mean_absolute_error: 3.0141 - val_loss: 13.9468 - val_mean_absolute_error: 3.0512\n",
            "Epoch 21/100\n",
            "188/188 [==============================] - 0s 1ms/step - loss: 13.9552 - mean_absolute_error: 3.0149 - val_loss: 14.0064 - val_mean_absolute_error: 3.0491\n",
            "Epoch 22/100\n",
            "188/188 [==============================] - 0s 1ms/step - loss: 13.9288 - mean_absolute_error: 3.0027 - val_loss: 13.8601 - val_mean_absolute_error: 3.0259\n",
            "Epoch 23/100\n",
            "188/188 [==============================] - 0s 1ms/step - loss: 13.9175 - mean_absolute_error: 2.9989 - val_loss: 13.8809 - val_mean_absolute_error: 3.0473\n",
            "Epoch 24/100\n",
            "188/188 [==============================] - 0s 1ms/step - loss: 13.9857 - mean_absolute_error: 3.0160 - val_loss: 14.4656 - val_mean_absolute_error: 3.0921\n",
            "Epoch 25/100\n",
            "188/188 [==============================] - 0s 1ms/step - loss: 13.9059 - mean_absolute_error: 3.0023 - val_loss: 13.8103 - val_mean_absolute_error: 3.0278\n",
            "Epoch 26/100\n",
            "188/188 [==============================] - 0s 1ms/step - loss: 13.8693 - mean_absolute_error: 2.9938 - val_loss: 13.7509 - val_mean_absolute_error: 3.0191\n",
            "Epoch 27/100\n",
            "188/188 [==============================] - 0s 1ms/step - loss: 13.7837 - mean_absolute_error: 2.9938 - val_loss: 13.8390 - val_mean_absolute_error: 3.0302\n",
            "Epoch 28/100\n",
            "188/188 [==============================] - 0s 1ms/step - loss: 13.8462 - mean_absolute_error: 2.9965 - val_loss: 13.7083 - val_mean_absolute_error: 3.0102\n",
            "Epoch 29/100\n",
            "188/188 [==============================] - 0s 1ms/step - loss: 13.8734 - mean_absolute_error: 2.9986 - val_loss: 13.8308 - val_mean_absolute_error: 3.0169\n",
            "Epoch 30/100\n",
            "188/188 [==============================] - 0s 1ms/step - loss: 13.6683 - mean_absolute_error: 2.9790 - val_loss: 13.7998 - val_mean_absolute_error: 3.0285\n",
            "Epoch 31/100\n",
            "188/188 [==============================] - 0s 1ms/step - loss: 13.7373 - mean_absolute_error: 2.9862 - val_loss: 13.6321 - val_mean_absolute_error: 3.0183\n",
            "Epoch 32/100\n",
            "188/188 [==============================] - 0s 1ms/step - loss: 13.6850 - mean_absolute_error: 2.9863 - val_loss: 13.7508 - val_mean_absolute_error: 3.0130\n",
            "Epoch 33/100\n",
            "188/188 [==============================] - 0s 1ms/step - loss: 13.5997 - mean_absolute_error: 2.9784 - val_loss: 13.9453 - val_mean_absolute_error: 3.0270\n",
            "Epoch 34/100\n",
            "188/188 [==============================] - 0s 1ms/step - loss: 13.6105 - mean_absolute_error: 2.9784 - val_loss: 13.6853 - val_mean_absolute_error: 3.0219\n",
            "Epoch 35/100\n",
            "188/188 [==============================] - 0s 1ms/step - loss: 13.5786 - mean_absolute_error: 2.9740 - val_loss: 13.6904 - val_mean_absolute_error: 3.0130\n",
            "Epoch 36/100\n",
            "188/188 [==============================] - 0s 1ms/step - loss: 13.4767 - mean_absolute_error: 2.9684 - val_loss: 13.5479 - val_mean_absolute_error: 3.0060\n",
            "Epoch 37/100\n",
            "188/188 [==============================] - 0s 1ms/step - loss: 13.5476 - mean_absolute_error: 2.9716 - val_loss: 13.4943 - val_mean_absolute_error: 3.0076\n",
            "Epoch 38/100\n",
            "188/188 [==============================] - 0s 1ms/step - loss: 13.4583 - mean_absolute_error: 2.9649 - val_loss: 13.4250 - val_mean_absolute_error: 2.9879\n",
            "Epoch 39/100\n",
            "188/188 [==============================] - 0s 1ms/step - loss: 13.5080 - mean_absolute_error: 2.9683 - val_loss: 13.9012 - val_mean_absolute_error: 3.0247\n",
            "Epoch 40/100\n",
            "188/188 [==============================] - 0s 1ms/step - loss: 13.4627 - mean_absolute_error: 2.9584 - val_loss: 13.3880 - val_mean_absolute_error: 2.9923\n",
            "Epoch 41/100\n",
            "188/188 [==============================] - 0s 1ms/step - loss: 13.4838 - mean_absolute_error: 2.9712 - val_loss: 13.4210 - val_mean_absolute_error: 2.9885\n",
            "Epoch 42/100\n",
            "188/188 [==============================] - 0s 1ms/step - loss: 13.4992 - mean_absolute_error: 2.9707 - val_loss: 13.3396 - val_mean_absolute_error: 2.9773\n",
            "Epoch 43/100\n",
            "188/188 [==============================] - 0s 1ms/step - loss: 13.4504 - mean_absolute_error: 2.9643 - val_loss: 13.4672 - val_mean_absolute_error: 3.0040\n",
            "Epoch 44/100\n",
            "188/188 [==============================] - 0s 1ms/step - loss: 13.3929 - mean_absolute_error: 2.9542 - val_loss: 13.4555 - val_mean_absolute_error: 2.9974\n",
            "Epoch 45/100\n",
            "188/188 [==============================] - 0s 1ms/step - loss: 13.4137 - mean_absolute_error: 2.9596 - val_loss: 13.4800 - val_mean_absolute_error: 2.9967\n",
            "Epoch 46/100\n",
            "188/188 [==============================] - 0s 1ms/step - loss: 13.4940 - mean_absolute_error: 2.9720 - val_loss: 13.3453 - val_mean_absolute_error: 2.9840\n",
            "Epoch 47/100\n",
            "188/188 [==============================] - 0s 1ms/step - loss: 13.4832 - mean_absolute_error: 2.9637 - val_loss: 13.2757 - val_mean_absolute_error: 2.9836\n",
            "Epoch 48/100\n",
            "188/188 [==============================] - 0s 1ms/step - loss: 13.4236 - mean_absolute_error: 2.9550 - val_loss: 13.2827 - val_mean_absolute_error: 2.9739\n",
            "Epoch 49/100\n",
            "188/188 [==============================] - 0s 1ms/step - loss: 13.4035 - mean_absolute_error: 2.9540 - val_loss: 13.5997 - val_mean_absolute_error: 3.0077\n",
            "Epoch 50/100\n",
            "188/188 [==============================] - 0s 1ms/step - loss: 13.3872 - mean_absolute_error: 2.9557 - val_loss: 13.5306 - val_mean_absolute_error: 3.0129\n",
            "Epoch 51/100\n",
            "188/188 [==============================] - 0s 1ms/step - loss: 13.4480 - mean_absolute_error: 2.9603 - val_loss: 13.3031 - val_mean_absolute_error: 2.9763\n",
            "Epoch 52/100\n",
            "188/188 [==============================] - 0s 1ms/step - loss: 13.3875 - mean_absolute_error: 2.9532 - val_loss: 13.2418 - val_mean_absolute_error: 2.9632\n",
            "Epoch 53/100\n",
            "188/188 [==============================] - 0s 1ms/step - loss: 13.4365 - mean_absolute_error: 2.9610 - val_loss: 13.3653 - val_mean_absolute_error: 2.9701\n",
            "Epoch 54/100\n",
            "188/188 [==============================] - 0s 1ms/step - loss: 13.3944 - mean_absolute_error: 2.9564 - val_loss: 13.9856 - val_mean_absolute_error: 3.0391\n",
            "Epoch 55/100\n",
            "188/188 [==============================] - 0s 1ms/step - loss: 13.4071 - mean_absolute_error: 2.9550 - val_loss: 13.2736 - val_mean_absolute_error: 2.9693\n",
            "Epoch 56/100\n",
            "188/188 [==============================] - 0s 1ms/step - loss: 13.3933 - mean_absolute_error: 2.9607 - val_loss: 13.4148 - val_mean_absolute_error: 2.9900\n",
            "Epoch 57/100\n",
            "188/188 [==============================] - 0s 1ms/step - loss: 13.4026 - mean_absolute_error: 2.9545 - val_loss: 13.2858 - val_mean_absolute_error: 2.9738\n"
          ]
        }
      ],
      "source": [
        "history = ANN_model.fit(\n",
        "    X_train,\n",
        "    y_train,\n",
        "    epochs=100,\n",
        "    validation_data=(X_test, y_test),\n",
        "    callbacks=[early_stopping],\n",
        ")"
      ]
    },
    {
      "cell_type": "code",
      "execution_count": 33,
      "metadata": {},
      "outputs": [
        {
          "name": "stdout",
          "output_type": "stream",
          "text": [
            "Model: \"sequential\"\n",
            "_________________________________________________________________\n",
            " Layer (type)                Output Shape              Param #   \n",
            "=================================================================\n",
            " dense (Dense)               (None, 16)                256       \n",
            "                                                                 \n",
            " dense_1 (Dense)             (None, 8)                 136       \n",
            "                                                                 \n",
            " dense_2 (Dense)             (None, 4)                 36        \n",
            "                                                                 \n",
            " dense_3 (Dense)             (None, 2)                 10        \n",
            "                                                                 \n",
            " dense_4 (Dense)             (None, 1)                 3         \n",
            "                                                                 \n",
            "=================================================================\n",
            "Total params: 441 (1.72 KB)\n",
            "Trainable params: 441 (1.72 KB)\n",
            "Non-trainable params: 0 (0.00 Byte)\n",
            "_________________________________________________________________\n"
          ]
        }
      ],
      "source": [
        "ANN_model.summary()"
      ]
    },
    {
      "cell_type": "code",
      "execution_count": 34,
      "metadata": {},
      "outputs": [
        {
          "name": "stdout",
          "output_type": "stream",
          "text": [
            "63/63 [==============================] - 0s 895us/step - loss: 13.2858 - mean_absolute_error: 2.9738\n",
            "Test loss: 13.285782814025879, Test MAE: 2.973822593688965\n"
          ]
        }
      ],
      "source": [
        "loss, mae = ANN_model.evaluate(X_test, y_test)\n",
        "print(f\"Test loss: {loss}, Test MAE: {mae}\")"
      ]
    },
    {
      "cell_type": "code",
      "execution_count": 35,
      "metadata": {
        "colab": {
          "base_uri": "https://localhost:8080/",
          "height": 472
        },
        "id": "lwpk4EUcEX-8",
        "outputId": "007f05f1-42d2-4832-dcdf-94bf36ae64de"
      },
      "outputs": [
        {
          "data": {
            "image/png": "[encoded data removed]",
            "text/plain": [
              "<Figure size 640x480 with 1 Axes>"
            ]
          },
          "metadata": {},
          "output_type": "display_data"
        }
      ],
      "source": [
        "plt.plot(history.history[\"loss\"])\n",
        "plt.title(\"Training Loss\")\n",
        "plt.xlabel(\"Epoch\")\n",
        "plt.ylabel(\"Loss\")\n",
        "plt.show()"
      ]
    },
    {
      "cell_type": "code",
      "execution_count": 36,
      "metadata": {
        "colab": {
          "base_uri": "https://localhost:8080/"
        },
        "id": "0IMzm6N39c3i",
        "outputId": "c15bb31f-9137-4e2d-b563-03e037165d2d"
      },
      "outputs": [
        {
          "name": "stdout",
          "output_type": "stream",
          "text": [
            "63/63 [==============================] - 0s 637us/step\n"
          ]
        },
        {
          "data": {
            "text/plain": [
              "array([[27.606478],\n",
              "       [25.85666 ],\n",
              "       [34.870586],\n",
              "       ...,\n",
              "       [36.914352],\n",
              "       [26.7636  ],\n",
              "       [25.224157]], dtype=float32)"
            ]
          },
          "execution_count": 36,
          "metadata": {},
          "output_type": "execute_result"
        }
      ],
      "source": [
        "ann_ypred = ANN_model.predict(X_test).reshape(-1, 1)\n",
        "ann_ypred"
      ]
    },
    {
      "cell_type": "code",
      "execution_count": 37,
      "metadata": {
        "colab": {
          "base_uri": "https://localhost:8080/"
        },
        "id": "4ySlX7sl9c3i",
        "outputId": "546f3f03-24fe-4435-d565-b4562f52e8fd"
      },
      "outputs": [
        {
          "name": "stdout",
          "output_type": "stream",
          "text": [
            "mean absolute error =  2.9738226\n",
            "mean Squared error =  13.285782\n"
          ]
        }
      ],
      "source": [
        "from sklearn.metrics import mean_absolute_error, mean_squared_error\n",
        "\n",
        "annMAE = mean_absolute_error(y_test, ann_ypred)\n",
        "annMSE = mean_squared_error(y_test, ann_ypred)\n",
        "print(\"mean absolute error = \", annMAE)\n",
        "print(\"mean Squared error = \", annMSE)"
      ]
    },
    {
      "cell_type": "code",
      "execution_count": 56,
      "metadata": {},
      "outputs": [
        {
          "data": {
            "text/plain": [
              "Text(0.5, 1.0, 'ANN_model')"
            ]
          },
          "execution_count": 56,
          "metadata": {},
          "output_type": "execute_result"
        },
        {
          "data": {
            "image/png": "[encoded data removed]",
            "text/plain": [
              "<Figure size 640x480 with 1 Axes>"
            ]
          },
          "metadata": {},
          "output_type": "display_data"
        }
      ],
      "source": [
        "plt.scatter(y_test, y_test, color=\"green\")\n",
        "plt.scatter(y_test, ann_ypred, color=\"red\")\n",
        "plt.title(\"ANN_model\")"
      ]
    },
    {
      "cell_type": "markdown",
      "metadata": {},
      "source": [
        "<H1>MULTIPLE LINEAR REGRESSION </H1>\n"
      ]
    },
    {
      "cell_type": "code",
      "execution_count": 39,
      "metadata": {},
      "outputs": [
        {
          "data": {
            "text/html": [
              "<style>#sk-container-id-1 {color: black;}#sk-container-id-1 pre{padding: 0;}#sk-container-id-1 div.sk-toggleable {background-color: white;}#sk-container-id-1 label.sk-toggleable__label {cursor: pointer;display: block;width: 100%;margin-bottom: 0;padding: 0.3em;box-sizing: border-box;text-align: center;}#sk-container-id-1 label.sk-toggleable__label-arrow:before {content: \"▸\";float: left;margin-right: 0.25em;color: #696969;}#sk-container-id-1 label.sk-toggleable__label-arrow:hover:before {color: black;}#sk-container-id-1 div.sk-estimator:hover label.sk-toggleable__label-arrow:before {color: black;}#sk-container-id-1 div.sk-toggleable__content {max-height: 0;max-width: 0;overflow: hidden;text-align: left;background-color: #f0f8ff;}#sk-container-id-1 div.sk-toggleable__content pre {margin: 0.2em;color: black;border-radius: 0.25em;background-color: #f0f8ff;}#sk-container-id-1 input.sk-toggleable__control:checked~div.sk-toggleable__content {max-height: 200px;max-width: 100%;overflow: auto;}#sk-container-id-1 input.sk-toggleable__control:checked~label.sk-toggleable__label-arrow:before {content: \"▾\";}#sk-container-id-1 div.sk-estimator input.sk-toggleable__control:checked~label.sk-toggleable__label {background-color: #d4ebff;}#sk-container-id-1 div.sk-label input.sk-toggleable__control:checked~label.sk-toggleable__label {background-color: #d4ebff;}#sk-container-id-1 input.sk-hidden--visually {border: 0;clip: rect(1px 1px 1px 1px);clip: rect(1px, 1px, 1px, 1px);height: 1px;margin: -1px;overflow: hidden;padding: 0;position: absolute;width: 1px;}#sk-container-id-1 div.sk-estimator {font-family: monospace;background-color: #f0f8ff;border: 1px dotted black;border-radius: 0.25em;box-sizing: border-box;margin-bottom: 0.5em;}#sk-container-id-1 div.sk-estimator:hover {background-color: #d4ebff;}#sk-container-id-1 div.sk-parallel-item::after {content: \"\";width: 100%;border-bottom: 1px solid gray;flex-grow: 1;}#sk-container-id-1 div.sk-label:hover label.sk-toggleable__label {background-color: #d4ebff;}#sk-container-id-1 div.sk-serial::before {content: \"\";position: absolute;border-left: 1px solid gray;box-sizing: border-box;top: 0;bottom: 0;left: 50%;z-index: 0;}#sk-container-id-1 div.sk-serial {display: flex;flex-direction: column;align-items: center;background-color: white;padding-right: 0.2em;padding-left: 0.2em;position: relative;}#sk-container-id-1 div.sk-item {position: relative;z-index: 1;}#sk-container-id-1 div.sk-parallel {display: flex;align-items: stretch;justify-content: center;background-color: white;position: relative;}#sk-container-id-1 div.sk-item::before, #sk-container-id-1 div.sk-parallel-item::before {content: \"\";position: absolute;border-left: 1px solid gray;box-sizing: border-box;top: 0;bottom: 0;left: 50%;z-index: -1;}#sk-container-id-1 div.sk-parallel-item {display: flex;flex-direction: column;z-index: 1;position: relative;background-color: white;}#sk-container-id-1 div.sk-parallel-item:first-child::after {align-self: flex-end;width: 50%;}#sk-container-id-1 div.sk-parallel-item:last-child::after {align-self: flex-start;width: 50%;}#sk-container-id-1 div.sk-parallel-item:only-child::after {width: 0;}#sk-container-id-1 div.sk-dashed-wrapped {border: 1px dashed gray;margin: 0 0.4em 0.5em 0.4em;box-sizing: border-box;padding-bottom: 0.4em;background-color: white;}#sk-container-id-1 div.sk-label label {font-family: monospace;font-weight: bold;display: inline-block;line-height: 1.2em;}#sk-container-id-1 div.sk-label-container {text-align: center;}#sk-container-id-1 div.sk-container {/* jupyter's `normalize.less` sets `[hidden] { display: none; }` but bootstrap.min.css set `[hidden] { display: none !important; }` so we also need the `!important` here to be able to override the default hidden behavior on the sphinx rendered scikit-learn.org. See: https://github.com/scikit-learn/scikit-learn/issues/21755 */display: inline-block !important;position: relative;}#sk-container-id-1 div.sk-text-repr-fallback {display: none;}</style><div id=\"sk-container-id-1\" class=\"sk-top-container\"><div class=\"sk-text-repr-fallback\"><pre>LinearRegression()</pre><b>In a Jupyter environment, please rerun this cell to show the HTML representation or trust the notebook. <br />On GitHub, the HTML representation is unable to render, please try loading this page with nbviewer.org.</b></div><div class=\"sk-container\" hidden><div class=\"sk-item\"><div class=\"sk-estimator sk-toggleable\"><input class=\"sk-toggleable__control sk-hidden--visually\" id=\"sk-estimator-id-1\" type=\"checkbox\" checked><label for=\"sk-estimator-id-1\" class=\"sk-toggleable__label sk-toggleable__label-arrow\">LinearRegression</label><div class=\"sk-toggleable__content\"><pre>LinearRegression()</pre></div></div></div></div></div>"
            ],
            "text/plain": [
              "LinearRegression()"
            ]
          },
          "execution_count": 39,
          "metadata": {},
          "output_type": "execute_result"
        }
      ],
      "source": [
        "from sklearn.linear_model import LinearRegression\n",
        "\n",
        "MLR_model = LinearRegression()\n",
        "MLR_model.fit(X_train, y_train)"
      ]
    },
    {
      "cell_type": "code",
      "execution_count": 40,
      "metadata": {},
      "outputs": [],
      "source": [
        "mlr_ypred = MLR_model.predict(X_test)"
      ]
    },
    {
      "cell_type": "code",
      "execution_count": 41,
      "metadata": {},
      "outputs": [
        {
          "name": "stdout",
          "output_type": "stream",
          "text": [
            "3.027409\n",
            "13.826493\n"
          ]
        }
      ],
      "source": [
        "mlr_MAE = mean_absolute_error(y_test, mlr_ypred)\n",
        "mlr_MSE = mean_squared_error(y_test, mlr_ypred)\n",
        "print(mlr_MAE)\n",
        "print(mlr_MSE)"
      ]
    },
    {
      "cell_type": "code",
      "execution_count": 57,
      "metadata": {},
      "outputs": [
        {
          "data": {
            "text/plain": [
              "Text(0.5, 1.0, 'MLR_model')"
            ]
          },
          "execution_count": 57,
          "metadata": {},
          "output_type": "execute_result"
        },
        {
          "data": {
            "image/png": "[encoded data removed]",
            "text/plain": [
              "<Figure size 640x480 with 1 Axes>"
            ]
          },
          "metadata": {},
          "output_type": "display_data"
        }
      ],
      "source": [
        "plt.scatter(y_test, y_test, color=\"green\")\n",
        "plt.scatter(y_test, mlr_ypred, color=\"red\")\n",
        "plt.title(\"MLR_model\")"
      ]
    },
    {
      "cell_type": "markdown",
      "metadata": {},
      "source": [
        "<h1>DECISION TREE REGRESSION </H1>\n"
      ]
    },
    {
      "cell_type": "code",
      "execution_count": 43,
      "metadata": {},
      "outputs": [],
      "source": [
        "from sklearn.tree import DecisionTreeRegressor"
      ]
    },
    {
      "cell_type": "code",
      "execution_count": 44,
      "metadata": {},
      "outputs": [
        {
          "data": {
            "text/html": [
              "<style>#sk-container-id-2 {color: black;}#sk-container-id-2 pre{padding: 0;}#sk-container-id-2 div.sk-toggleable {background-color: white;}#sk-container-id-2 label.sk-toggleable__label {cursor: pointer;display: block;width: 100%;margin-bottom: 0;padding: 0.3em;box-sizing: border-box;text-align: center;}#sk-container-id-2 label.sk-toggleable__label-arrow:before {content: \"▸\";float: left;margin-right: 0.25em;color: #696969;}#sk-container-id-2 label.sk-toggleable__label-arrow:hover:before {color: black;}#sk-container-id-2 div.sk-estimator:hover label.sk-toggleable__label-arrow:before {color: black;}#sk-container-id-2 div.sk-toggleable__content {max-height: 0;max-width: 0;overflow: hidden;text-align: left;background-color: #f0f8ff;}#sk-container-id-2 div.sk-toggleable__content pre {margin: 0.2em;color: black;border-radius: 0.25em;background-color: #f0f8ff;}#sk-container-id-2 input.sk-toggleable__control:checked~div.sk-toggleable__content {max-height: 200px;max-width: 100%;overflow: auto;}#sk-container-id-2 input.sk-toggleable__control:checked~label.sk-toggleable__label-arrow:before {content: \"▾\";}#sk-container-id-2 div.sk-estimator input.sk-toggleable__control:checked~label.sk-toggleable__label {background-color: #d4ebff;}#sk-container-id-2 div.sk-label input.sk-toggleable__control:checked~label.sk-toggleable__label {background-color: #d4ebff;}#sk-container-id-2 input.sk-hidden--visually {border: 0;clip: rect(1px 1px 1px 1px);clip: rect(1px, 1px, 1px, 1px);height: 1px;margin: -1px;overflow: hidden;padding: 0;position: absolute;width: 1px;}#sk-container-id-2 div.sk-estimator {font-family: monospace;background-color: #f0f8ff;border: 1px dotted black;border-radius: 0.25em;box-sizing: border-box;margin-bottom: 0.5em;}#sk-container-id-2 div.sk-estimator:hover {background-color: #d4ebff;}#sk-container-id-2 div.sk-parallel-item::after {content: \"\";width: 100%;border-bottom: 1px solid gray;flex-grow: 1;}#sk-container-id-2 div.sk-label:hover label.sk-toggleable__label {background-color: #d4ebff;}#sk-container-id-2 div.sk-serial::before {content: \"\";position: absolute;border-left: 1px solid gray;box-sizing: border-box;top: 0;bottom: 0;left: 50%;z-index: 0;}#sk-container-id-2 div.sk-serial {display: flex;flex-direction: column;align-items: center;background-color: white;padding-right: 0.2em;padding-left: 0.2em;position: relative;}#sk-container-id-2 div.sk-item {position: relative;z-index: 1;}#sk-container-id-2 div.sk-parallel {display: flex;align-items: stretch;justify-content: center;background-color: white;position: relative;}#sk-container-id-2 div.sk-item::before, #sk-container-id-2 div.sk-parallel-item::before {content: \"\";position: absolute;border-left: 1px solid gray;box-sizing: border-box;top: 0;bottom: 0;left: 50%;z-index: -1;}#sk-container-id-2 div.sk-parallel-item {display: flex;flex-direction: column;z-index: 1;position: relative;background-color: white;}#sk-container-id-2 div.sk-parallel-item:first-child::after {align-self: flex-end;width: 50%;}#sk-container-id-2 div.sk-parallel-item:last-child::after {align-self: flex-start;width: 50%;}#sk-container-id-2 div.sk-parallel-item:only-child::after {width: 0;}#sk-container-id-2 div.sk-dashed-wrapped {border: 1px dashed gray;margin: 0 0.4em 0.5em 0.4em;box-sizing: border-box;padding-bottom: 0.4em;background-color: white;}#sk-container-id-2 div.sk-label label {font-family: monospace;font-weight: bold;display: inline-block;line-height: 1.2em;}#sk-container-id-2 div.sk-label-container {text-align: center;}#sk-container-id-2 div.sk-container {/* jupyter's `normalize.less` sets `[hidden] { display: none; }` but bootstrap.min.css set `[hidden] { display: none !important; }` so we also need the `!important` here to be able to override the default hidden behavior on the sphinx rendered scikit-learn.org. See: https://github.com/scikit-learn/scikit-learn/issues/21755 */display: inline-block !important;position: relative;}#sk-container-id-2 div.sk-text-repr-fallback {display: none;}</style><div id=\"sk-container-id-2\" class=\"sk-top-container\"><div class=\"sk-text-repr-fallback\"><pre>DecisionTreeRegressor(random_state=0)</pre><b>In a Jupyter environment, please rerun this cell to show the HTML representation or trust the notebook. <br />On GitHub, the HTML representation is unable to render, please try loading this page with nbviewer.org.</b></div><div class=\"sk-container\" hidden><div class=\"sk-item\"><div class=\"sk-estimator sk-toggleable\"><input class=\"sk-toggleable__control sk-hidden--visually\" id=\"sk-estimator-id-2\" type=\"checkbox\" checked><label for=\"sk-estimator-id-2\" class=\"sk-toggleable__label sk-toggleable__label-arrow\">DecisionTreeRegressor</label><div class=\"sk-toggleable__content\"><pre>DecisionTreeRegressor(random_state=0)</pre></div></div></div></div></div>"
            ],
            "text/plain": [
              "DecisionTreeRegressor(random_state=0)"
            ]
          },
          "execution_count": 44,
          "metadata": {},
          "output_type": "execute_result"
        }
      ],
      "source": [
        "DTR_model = DecisionTreeRegressor(random_state=0)\n",
        "DTR_model.fit(X_train, y_train)"
      ]
    },
    {
      "cell_type": "code",
      "execution_count": 45,
      "metadata": {},
      "outputs": [
        {
          "data": {
            "text/plain": [
              "array([0.        , 0.        , 1.        , 0.        , 0.        ,\n",
              "       0.        , 0.        , 0.        , 0.        , 0.88560885,\n",
              "       0.86907446, 0.52959645, 0.        , 0.05882353, 0.5       ],\n",
              "      dtype=float32)"
            ]
          },
          "execution_count": 45,
          "metadata": {},
          "output_type": "execute_result"
        }
      ],
      "source": [
        "X_train[0]"
      ]
    },
    {
      "cell_type": "code",
      "execution_count": 46,
      "metadata": {},
      "outputs": [],
      "source": [
        "dtr_ypred = DTR_model.predict(X_test).reshape(-1, 1)"
      ]
    },
    {
      "cell_type": "code",
      "execution_count": 47,
      "metadata": {},
      "outputs": [
        {
          "data": {
            "text/plain": [
              "array([[33.5       ],\n",
              "       [28.60000038],\n",
              "       [34.5       ],\n",
              "       ...,\n",
              "       [39.        ],\n",
              "       [23.10000038],\n",
              "       [22.39999962]])"
            ]
          },
          "execution_count": 47,
          "metadata": {},
          "output_type": "execute_result"
        }
      ],
      "source": [
        "dtr_ypred"
      ]
    },
    {
      "cell_type": "code",
      "execution_count": 48,
      "metadata": {},
      "outputs": [
        {
          "name": "stdout",
          "output_type": "stream",
          "text": [
            "Mean absolute error =  2.6777445142140643\n",
            "mean squared error =  17.230409237944755\n"
          ]
        }
      ],
      "source": [
        "from sklearn.metrics import mean_absolute_error, mean_squared_error\n",
        "\n",
        "print(\"Mean absolute error = \", mean_absolute_error(y_test, dtr_ypred))\n",
        "print(\"mean squared error = \", mean_squared_error(y_test, dtr_ypred))"
      ]
    },
    {
      "cell_type": "code",
      "execution_count": 58,
      "metadata": {},
      "outputs": [
        {
          "data": {
            "text/plain": [
              "Text(0.5, 1.0, 'DecisionTreeRegressor(random_state=0)')"
            ]
          },
          "execution_count": 58,
          "metadata": {},
          "output_type": "execute_result"
        },
        {
          "data": {
            "image/png": "[encoded data removed]",
            "text/plain": [
              "<Figure size 640x480 with 1 Axes>"
            ]
          },
          "metadata": {},
          "output_type": "display_data"
        }
      ],
      "source": [
        "plt.scatter(y_test, y_test, color=\"green\")\n",
        "plt.scatter(y_test, dtr_ypred, color=\"red\")\n",
        "plt.title(DTR_model)"
      ]
    },
    {
      "cell_type": "markdown",
      "metadata": {},
      "source": [
        "<h1>SVR</h1>"
      ]
    },
    {
      "cell_type": "code",
      "execution_count": 50,
      "metadata": {},
      "outputs": [
        {
          "data": {
            "text/html": [
              "<style>#sk-container-id-3 {color: black;}#sk-container-id-3 pre{padding: 0;}#sk-container-id-3 div.sk-toggleable {background-color: white;}#sk-container-id-3 label.sk-toggleable__label {cursor: pointer;display: block;width: 100%;margin-bottom: 0;padding: 0.3em;box-sizing: border-box;text-align: center;}#sk-container-id-3 label.sk-toggleable__label-arrow:before {content: \"▸\";float: left;margin-right: 0.25em;color: #696969;}#sk-container-id-3 label.sk-toggleable__label-arrow:hover:before {color: black;}#sk-container-id-3 div.sk-estimator:hover label.sk-toggleable__label-arrow:before {color: black;}#sk-container-id-3 div.sk-toggleable__content {max-height: 0;max-width: 0;overflow: hidden;text-align: left;background-color: #f0f8ff;}#sk-container-id-3 div.sk-toggleable__content pre {margin: 0.2em;color: black;border-radius: 0.25em;background-color: #f0f8ff;}#sk-container-id-3 input.sk-toggleable__control:checked~div.sk-toggleable__content {max-height: 200px;max-width: 100%;overflow: auto;}#sk-container-id-3 input.sk-toggleable__control:checked~label.sk-toggleable__label-arrow:before {content: \"▾\";}#sk-container-id-3 div.sk-estimator input.sk-toggleable__control:checked~label.sk-toggleable__label {background-color: #d4ebff;}#sk-container-id-3 div.sk-label input.sk-toggleable__control:checked~label.sk-toggleable__label {background-color: #d4ebff;}#sk-container-id-3 input.sk-hidden--visually {border: 0;clip: rect(1px 1px 1px 1px);clip: rect(1px, 1px, 1px, 1px);height: 1px;margin: -1px;overflow: hidden;padding: 0;position: absolute;width: 1px;}#sk-container-id-3 div.sk-estimator {font-family: monospace;background-color: #f0f8ff;border: 1px dotted black;border-radius: 0.25em;box-sizing: border-box;margin-bottom: 0.5em;}#sk-container-id-3 div.sk-estimator:hover {background-color: #d4ebff;}#sk-container-id-3 div.sk-parallel-item::after {content: \"\";width: 100%;border-bottom: 1px solid gray;flex-grow: 1;}#sk-container-id-3 div.sk-label:hover label.sk-toggleable__label {background-color: #d4ebff;}#sk-container-id-3 div.sk-serial::before {content: \"\";position: absolute;border-left: 1px solid gray;box-sizing: border-box;top: 0;bottom: 0;left: 50%;z-index: 0;}#sk-container-id-3 div.sk-serial {display: flex;flex-direction: column;align-items: center;background-color: white;padding-right: 0.2em;padding-left: 0.2em;position: relative;}#sk-container-id-3 div.sk-item {position: relative;z-index: 1;}#sk-container-id-3 div.sk-parallel {display: flex;align-items: stretch;justify-content: center;background-color: white;position: relative;}#sk-container-id-3 div.sk-item::before, #sk-container-id-3 div.sk-parallel-item::before {content: \"\";position: absolute;border-left: 1px solid gray;box-sizing: border-box;top: 0;bottom: 0;left: 50%;z-index: -1;}#sk-container-id-3 div.sk-parallel-item {display: flex;flex-direction: column;z-index: 1;position: relative;background-color: white;}#sk-container-id-3 div.sk-parallel-item:first-child::after {align-self: flex-end;width: 50%;}#sk-container-id-3 div.sk-parallel-item:last-child::after {align-self: flex-start;width: 50%;}#sk-container-id-3 div.sk-parallel-item:only-child::after {width: 0;}#sk-container-id-3 div.sk-dashed-wrapped {border: 1px dashed gray;margin: 0 0.4em 0.5em 0.4em;box-sizing: border-box;padding-bottom: 0.4em;background-color: white;}#sk-container-id-3 div.sk-label label {font-family: monospace;font-weight: bold;display: inline-block;line-height: 1.2em;}#sk-container-id-3 div.sk-label-container {text-align: center;}#sk-container-id-3 div.sk-container {/* jupyter's `normalize.less` sets `[hidden] { display: none; }` but bootstrap.min.css set `[hidden] { display: none !important; }` so we also need the `!important` here to be able to override the default hidden behavior on the sphinx rendered scikit-learn.org. See: https://github.com/scikit-learn/scikit-learn/issues/21755 */display: inline-block !important;position: relative;}#sk-container-id-3 div.sk-text-repr-fallback {display: none;}</style><div id=\"sk-container-id-3\" class=\"sk-top-container\"><div class=\"sk-text-repr-fallback\"><pre>SVR()</pre><b>In a Jupyter environment, please rerun this cell to show the HTML representation or trust the notebook. <br />On GitHub, the HTML representation is unable to render, please try loading this page with nbviewer.org.</b></div><div class=\"sk-container\" hidden><div class=\"sk-item\"><div class=\"sk-estimator sk-toggleable\"><input class=\"sk-toggleable__control sk-hidden--visually\" id=\"sk-estimator-id-3\" type=\"checkbox\" checked><label for=\"sk-estimator-id-3\" class=\"sk-toggleable__label sk-toggleable__label-arrow\">SVR</label><div class=\"sk-toggleable__content\"><pre>SVR()</pre></div></div></div></div></div>"
            ],
            "text/plain": [
              "SVR()"
            ]
          },
          "execution_count": 50,
          "metadata": {},
          "output_type": "execute_result"
        }
      ],
      "source": [
        "from sklearn.svm import SVR\n",
        "\n",
        "SVR = SVR(kernel=\"rbf\")\n",
        "SVR.fit(X_train, y_train)"
      ]
    },
    {
      "cell_type": "code",
      "execution_count": 51,
      "metadata": {},
      "outputs": [],
      "source": [
        "svr_ypred = SVR.predict(X_test)"
      ]
    },
    {
      "cell_type": "code",
      "execution_count": 52,
      "metadata": {},
      "outputs": [
        {
          "name": "stdout",
          "output_type": "stream",
          "text": [
            "mean_absolute_error =  2.8828590945283445\n",
            "mean_squared_error =  13.376192642399655\n"
          ]
        }
      ],
      "source": [
        "print(\"mean_absolute_error = \", mean_absolute_error(y_test, svr_ypred))\n",
        "print(\"mean_squared_error = \", mean_squared_error(y_test, svr_ypred))"
      ]
    },
    {
      "cell_type": "code",
      "execution_count": 53,
      "metadata": {},
      "outputs": [
        {
          "name": "stdout",
          "output_type": "stream",
          "text": [
            "mean_absolute_error =  2.8828590945283445\n",
            "mean_squared_error =  13.376192642399655\n"
          ]
        }
      ],
      "source": [
        "print(\"mean_absolute_error = \", mean_absolute_error(y_test, svr_ypred))\n",
        "print(\"mean_squared_error = \", mean_squared_error(y_test, svr_ypred))"
      ]
    },
    {
      "cell_type": "markdown",
      "metadata": {},
      "source": [
        "<h1>MODEL COMPARISON </H1>"
      ]
    },
    {
      "cell_type": "code",
      "execution_count": 54,
      "metadata": {},
      "outputs": [],
      "source": [
        "reshape = (-1, 1)\n",
        "comp = np.concatenate(\n",
        "    (\n",
        "        y_test.reshape(reshape),\n",
        "        dtr_ypred.reshape(reshape),\n",
        "\n",
        "        mlr_ypred.reshape(reshape),\n",
        "        ann_ypred.reshape(reshape),\n",
        "\n",
        "        svr_ypred.reshape(reshape),\n",
        "    ),\n",
        "\n",
        "    1,\n",
        ")\n",
        "\n",
        "\n",
        "\n",
        "comparison = pd.DataFrame(comp, columns=[\"ytest\", \"DTR\", \"MLR\", \"ANN\", \"SVR\"]).to_csv(\n",
        "    \"model comparison.csv\"\n",
        ")"
      ]
    },
    {
      "cell_type": "markdown",
      "metadata": {},
      "source": [
        "<h1>SAVING MODELS</h1>"
      ]
    },
    {
      "cell_type": "code",
      "execution_count": 55,
      "metadata": {},
      "outputs": [
        {
          "name": "stderr",
          "output_type": "stream",
          "text": [
            "c:\\Users\\ganes\\AppData\\Local\\Programs\\Python\\Python311\\Lib\\site-packages\\keras\\src\\engine\\training.py:3079: UserWarning: You are saving your model as an HDF5 file via `model.save()`. This file format is considered legacy. We recommend using instead the native Keras format, e.g. `model.save('my_model.keras')`.\n",
            "  saving_api.save_model(\n"
          ]
        },
        {
          "data": {
            "text/plain": [
              "['final_model/SVR.bin']"
            ]
          },
          "execution_count": 55,
          "metadata": {},
          "output_type": "execute_result"
        }
      ],
      "source": [
        "import joblib\n",
        "\n",
        "ANN_model.save(filepath=\"final_model/zeus.h5\")  # Neural Network model\n",
        "joblib.dump(DTR_model, filename=\"final_model/dtr.bin\")  # Decision tree model\n",
        "# Multiple linear regression model\n",
        "joblib.dump(MLR_model, filename=\"final_model/mlrmodel.bin\")\n",
        "# Support vector regression model\n",
        "joblib.dump(SVR, filename=\"final_model/SVR.bin\")"
      ]
    }
  ],
  "metadata": {
    "accelerator": "GPU",
    "colab": {
      "gpuType": "T4",
      "provenance": []
    },
    "kernelspec": {
      "display_name": "Python 3",
      "name": "python3"
    },
    "language_info": {
      "codemirror_mode": {
        "name": "ipython",
        "version": 3
      },
      "file_extension": ".py",
      "mimetype": "text/x-python",
      "name": "python",
      "nbconvert_exporter": "python",
      "pygments_lexer": "ipython3",
      "version": "3.11.6"
    }
  },
  "nbformat": 4,
  "nbformat_minor": 0
}
