{
  "cells": [
    {
      "cell_type": "code",
      "execution_count": 54,
      "metadata": {
        "id": "UjDqu0FX9c3d"
      },
      "outputs": [],
      "source": [
        "import numpy as np\n",
        "import pandas as pd\n",
        "import matplotlib.pyplot as plt\n",
        "import tensorflow as tf\n",
        "from tensorflow import keras\n",
        "from sklearn.model_selection import train_test_split"
      ]
    },
    {
      "cell_type": "code",
      "execution_count": 55,
      "metadata": {
        "colab": {
          "base_uri": "https://localhost:8080/",
          "height": 790
        },
        "id": "8tYvK1DK9c3e",
        "outputId": "1c0343ff-83ca-4018-aa1b-354e5cbb1ab3"
      },
      "outputs": [
        {
          "data": {
            "text/html": [
              "<div>\n",
              "<style scoped>\n",
              "    .dataframe tbody tr th:only-of-type {\n",
              "        vertical-align: middle;\n",
              "    }\n",
              "\n",
              "    .dataframe tbody tr th {\n",
              "        vertical-align: top;\n",
              "    }\n",
              "\n",
              "    .dataframe thead th {\n",
              "        text-align: right;\n",
              "    }\n",
              "</style>\n",
              "<table border=\"1\" class=\"dataframe\">\n",
              "  <thead>\n",
              "    <tr style=\"text-align: right;\">\n",
              "      <th></th>\n",
              "      <th>Date</th>\n",
              "      <th>Time</th>\n",
              "      <th>SM_2</th>\n",
              "      <th>SM_4</th>\n",
              "      <th>SM_8</th>\n",
              "      <th>SM_20</th>\n",
              "      <th>SM_40</th>\n",
              "      <th>ST_2</th>\n",
              "      <th>ST_4</th>\n",
              "      <th>ST_8</th>\n",
              "      <th>...</th>\n",
              "      <th>sealevelpressure</th>\n",
              "      <th>cloudcover</th>\n",
              "      <th>visibility</th>\n",
              "      <th>solarradiation</th>\n",
              "      <th>solarenergy</th>\n",
              "      <th>uvindex</th>\n",
              "      <th>severerisk</th>\n",
              "      <th>conditions</th>\n",
              "      <th>icon</th>\n",
              "      <th>stations</th>\n",
              "    </tr>\n",
              "  </thead>\n",
              "  <tbody>\n",
              "    <tr>\n",
              "      <th>0</th>\n",
              "      <td>01-01-2022</td>\n",
              "      <td>00:00</td>\n",
              "      <td>38.2</td>\n",
              "      <td>35.9</td>\n",
              "      <td>31.0</td>\n",
              "      <td>36.9</td>\n",
              "      <td>34.0</td>\n",
              "      <td>15.9</td>\n",
              "      <td>15.5</td>\n",
              "      <td>15.5</td>\n",
              "      <td>...</td>\n",
              "      <td>1009.4</td>\n",
              "      <td>100.0</td>\n",
              "      <td>16.0</td>\n",
              "      <td>0.0</td>\n",
              "      <td>0.0</td>\n",
              "      <td>0.0</td>\n",
              "      <td>NaN</td>\n",
              "      <td>Overcast</td>\n",
              "      <td>cloudy</td>\n",
              "      <td>KHSV,72323003856,72030763804,KMDQ,AAMA1</td>\n",
              "    </tr>\n",
              "    <tr>\n",
              "      <th>1</th>\n",
              "      <td>01-01-2022</td>\n",
              "      <td>01:00</td>\n",
              "      <td>38.2</td>\n",
              "      <td>36.0</td>\n",
              "      <td>30.9</td>\n",
              "      <td>36.7</td>\n",
              "      <td>34.1</td>\n",
              "      <td>16.0</td>\n",
              "      <td>15.6</td>\n",
              "      <td>15.6</td>\n",
              "      <td>...</td>\n",
              "      <td>1009.3</td>\n",
              "      <td>91.7</td>\n",
              "      <td>16.0</td>\n",
              "      <td>0.0</td>\n",
              "      <td>0.0</td>\n",
              "      <td>0.0</td>\n",
              "      <td>NaN</td>\n",
              "      <td>Overcast</td>\n",
              "      <td>cloudy</td>\n",
              "      <td>KHSV,72323003856,72030763804,KMDQ,AAMA1</td>\n",
              "    </tr>\n",
              "    <tr>\n",
              "      <th>2</th>\n",
              "      <td>01-01-2022</td>\n",
              "      <td>02:00</td>\n",
              "      <td>38.3</td>\n",
              "      <td>36.0</td>\n",
              "      <td>31.0</td>\n",
              "      <td>36.7</td>\n",
              "      <td>33.9</td>\n",
              "      <td>16.0</td>\n",
              "      <td>15.6</td>\n",
              "      <td>15.6</td>\n",
              "      <td>...</td>\n",
              "      <td>1009.3</td>\n",
              "      <td>62.7</td>\n",
              "      <td>16.0</td>\n",
              "      <td>0.0</td>\n",
              "      <td>0.0</td>\n",
              "      <td>0.0</td>\n",
              "      <td>NaN</td>\n",
              "      <td>Partially cloudy</td>\n",
              "      <td>partly-cloudy-night</td>\n",
              "      <td>KHSV,72323003856,72030763804,KMDQ,AAMA1</td>\n",
              "    </tr>\n",
              "    <tr>\n",
              "      <th>3</th>\n",
              "      <td>01-01-2022</td>\n",
              "      <td>03:00</td>\n",
              "      <td>38.3</td>\n",
              "      <td>35.8</td>\n",
              "      <td>30.9</td>\n",
              "      <td>36.7</td>\n",
              "      <td>33.9</td>\n",
              "      <td>16.1</td>\n",
              "      <td>15.7</td>\n",
              "      <td>15.6</td>\n",
              "      <td>...</td>\n",
              "      <td>1009.3</td>\n",
              "      <td>91.7</td>\n",
              "      <td>16.0</td>\n",
              "      <td>0.0</td>\n",
              "      <td>0.0</td>\n",
              "      <td>0.0</td>\n",
              "      <td>NaN</td>\n",
              "      <td>Overcast</td>\n",
              "      <td>cloudy</td>\n",
              "      <td>KHSV,72323003856,72030763804,KMDQ,AAMA1</td>\n",
              "    </tr>\n",
              "    <tr>\n",
              "      <th>4</th>\n",
              "      <td>01-01-2022</td>\n",
              "      <td>04:00</td>\n",
              "      <td>38.3</td>\n",
              "      <td>35.9</td>\n",
              "      <td>30.9</td>\n",
              "      <td>36.7</td>\n",
              "      <td>33.9</td>\n",
              "      <td>16.2</td>\n",
              "      <td>15.7</td>\n",
              "      <td>15.7</td>\n",
              "      <td>...</td>\n",
              "      <td>1009.6</td>\n",
              "      <td>100.0</td>\n",
              "      <td>16.0</td>\n",
              "      <td>0.0</td>\n",
              "      <td>0.0</td>\n",
              "      <td>0.0</td>\n",
              "      <td>NaN</td>\n",
              "      <td>Overcast</td>\n",
              "      <td>cloudy</td>\n",
              "      <td>KHSV,72323003856,72030763804,KMDQ</td>\n",
              "    </tr>\n",
              "    <tr>\n",
              "      <th>...</th>\n",
              "      <td>...</td>\n",
              "      <td>...</td>\n",
              "      <td>...</td>\n",
              "      <td>...</td>\n",
              "      <td>...</td>\n",
              "      <td>...</td>\n",
              "      <td>...</td>\n",
              "      <td>...</td>\n",
              "      <td>...</td>\n",
              "      <td>...</td>\n",
              "      <td>...</td>\n",
              "      <td>...</td>\n",
              "      <td>...</td>\n",
              "      <td>...</td>\n",
              "      <td>...</td>\n",
              "      <td>...</td>\n",
              "      <td>...</td>\n",
              "      <td>...</td>\n",
              "      <td>...</td>\n",
              "      <td>...</td>\n",
              "      <td>...</td>\n",
              "    </tr>\n",
              "    <tr>\n",
              "      <th>8755</th>\n",
              "      <td>31-12-2022</td>\n",
              "      <td>19:00</td>\n",
              "      <td>36.8</td>\n",
              "      <td>36.5</td>\n",
              "      <td>30.6</td>\n",
              "      <td>34.7</td>\n",
              "      <td>31.8</td>\n",
              "      <td>10.5</td>\n",
              "      <td>10.1</td>\n",
              "      <td>10.0</td>\n",
              "      <td>...</td>\n",
              "      <td>NaN</td>\n",
              "      <td>NaN</td>\n",
              "      <td>NaN</td>\n",
              "      <td>NaN</td>\n",
              "      <td>NaN</td>\n",
              "      <td>NaN</td>\n",
              "      <td>NaN</td>\n",
              "      <td>NaN</td>\n",
              "      <td>NaN</td>\n",
              "      <td>NaN</td>\n",
              "    </tr>\n",
              "    <tr>\n",
              "      <th>8756</th>\n",
              "      <td>31-12-2022</td>\n",
              "      <td>20:00</td>\n",
              "      <td>36.7</td>\n",
              "      <td>36.2</td>\n",
              "      <td>30.5</td>\n",
              "      <td>34.7</td>\n",
              "      <td>31.8</td>\n",
              "      <td>10.2</td>\n",
              "      <td>10.0</td>\n",
              "      <td>9.9</td>\n",
              "      <td>...</td>\n",
              "      <td>NaN</td>\n",
              "      <td>NaN</td>\n",
              "      <td>NaN</td>\n",
              "      <td>NaN</td>\n",
              "      <td>NaN</td>\n",
              "      <td>NaN</td>\n",
              "      <td>NaN</td>\n",
              "      <td>NaN</td>\n",
              "      <td>NaN</td>\n",
              "      <td>NaN</td>\n",
              "    </tr>\n",
              "    <tr>\n",
              "      <th>8757</th>\n",
              "      <td>31-12-2022</td>\n",
              "      <td>21:00</td>\n",
              "      <td>36.5</td>\n",
              "      <td>36.1</td>\n",
              "      <td>30.3</td>\n",
              "      <td>34.9</td>\n",
              "      <td>31.8</td>\n",
              "      <td>9.9</td>\n",
              "      <td>9.9</td>\n",
              "      <td>9.8</td>\n",
              "      <td>...</td>\n",
              "      <td>NaN</td>\n",
              "      <td>NaN</td>\n",
              "      <td>NaN</td>\n",
              "      <td>NaN</td>\n",
              "      <td>NaN</td>\n",
              "      <td>NaN</td>\n",
              "      <td>NaN</td>\n",
              "      <td>NaN</td>\n",
              "      <td>NaN</td>\n",
              "      <td>NaN</td>\n",
              "    </tr>\n",
              "    <tr>\n",
              "      <th>8758</th>\n",
              "      <td>31-12-2022</td>\n",
              "      <td>22:00</td>\n",
              "      <td>36.5</td>\n",
              "      <td>36.1</td>\n",
              "      <td>30.3</td>\n",
              "      <td>34.8</td>\n",
              "      <td>32.0</td>\n",
              "      <td>9.7</td>\n",
              "      <td>9.7</td>\n",
              "      <td>9.8</td>\n",
              "      <td>...</td>\n",
              "      <td>NaN</td>\n",
              "      <td>NaN</td>\n",
              "      <td>NaN</td>\n",
              "      <td>NaN</td>\n",
              "      <td>NaN</td>\n",
              "      <td>NaN</td>\n",
              "      <td>NaN</td>\n",
              "      <td>NaN</td>\n",
              "      <td>NaN</td>\n",
              "      <td>NaN</td>\n",
              "    </tr>\n",
              "    <tr>\n",
              "      <th>8759</th>\n",
              "      <td>31-12-2022</td>\n",
              "      <td>23:00</td>\n",
              "      <td>37.2</td>\n",
              "      <td>36.0</td>\n",
              "      <td>30.3</td>\n",
              "      <td>34.8</td>\n",
              "      <td>32.0</td>\n",
              "      <td>9.4</td>\n",
              "      <td>9.6</td>\n",
              "      <td>9.7</td>\n",
              "      <td>...</td>\n",
              "      <td>NaN</td>\n",
              "      <td>NaN</td>\n",
              "      <td>NaN</td>\n",
              "      <td>NaN</td>\n",
              "      <td>NaN</td>\n",
              "      <td>NaN</td>\n",
              "      <td>NaN</td>\n",
              "      <td>NaN</td>\n",
              "      <td>NaN</td>\n",
              "      <td>NaN</td>\n",
              "    </tr>\n",
              "  </tbody>\n",
              "</table>\n",
              "<p>8760 rows × 34 columns</p>\n",
              "</div>"
            ],
            "text/plain": [
              "            Date   Time  SM_2  SM_4  SM_8  SM_20  SM_40  ST_2  ST_4  ST_8  \\\n",
              "0     01-01-2022  00:00  38.2  35.9  31.0   36.9   34.0  15.9  15.5  15.5   \n",
              "1     01-01-2022  01:00  38.2  36.0  30.9   36.7   34.1  16.0  15.6  15.6   \n",
              "2     01-01-2022  02:00  38.3  36.0  31.0   36.7   33.9  16.0  15.6  15.6   \n",
              "3     01-01-2022  03:00  38.3  35.8  30.9   36.7   33.9  16.1  15.7  15.6   \n",
              "4     01-01-2022  04:00  38.3  35.9  30.9   36.7   33.9  16.2  15.7  15.7   \n",
              "...          ...    ...   ...   ...   ...    ...    ...   ...   ...   ...   \n",
              "8755  31-12-2022  19:00  36.8  36.5  30.6   34.7   31.8  10.5  10.1  10.0   \n",
              "8756  31-12-2022  20:00  36.7  36.2  30.5   34.7   31.8  10.2  10.0   9.9   \n",
              "8757  31-12-2022  21:00  36.5  36.1  30.3   34.9   31.8   9.9   9.9   9.8   \n",
              "8758  31-12-2022  22:00  36.5  36.1  30.3   34.8   32.0   9.7   9.7   9.8   \n",
              "8759  31-12-2022  23:00  37.2  36.0  30.3   34.8   32.0   9.4   9.6   9.7   \n",
              "\n",
              "      ...  sealevelpressure  cloudcover  visibility  solarradiation  \\\n",
              "0     ...            1009.4       100.0        16.0             0.0   \n",
              "1     ...            1009.3        91.7        16.0             0.0   \n",
              "2     ...            1009.3        62.7        16.0             0.0   \n",
              "3     ...            1009.3        91.7        16.0             0.0   \n",
              "4     ...            1009.6       100.0        16.0             0.0   \n",
              "...   ...               ...         ...         ...             ...   \n",
              "8755  ...               NaN         NaN         NaN             NaN   \n",
              "8756  ...               NaN         NaN         NaN             NaN   \n",
              "8757  ...               NaN         NaN         NaN             NaN   \n",
              "8758  ...               NaN         NaN         NaN             NaN   \n",
              "8759  ...               NaN         NaN         NaN             NaN   \n",
              "\n",
              "      solarenergy  uvindex  severerisk        conditions                 icon  \\\n",
              "0             0.0      0.0         NaN          Overcast               cloudy   \n",
              "1             0.0      0.0         NaN          Overcast               cloudy   \n",
              "2             0.0      0.0         NaN  Partially cloudy  partly-cloudy-night   \n",
              "3             0.0      0.0         NaN          Overcast               cloudy   \n",
              "4             0.0      0.0         NaN          Overcast               cloudy   \n",
              "...           ...      ...         ...               ...                  ...   \n",
              "8755          NaN      NaN         NaN               NaN                  NaN   \n",
              "8756          NaN      NaN         NaN               NaN                  NaN   \n",
              "8757          NaN      NaN         NaN               NaN                  NaN   \n",
              "8758          NaN      NaN         NaN               NaN                  NaN   \n",
              "8759          NaN      NaN         NaN               NaN                  NaN   \n",
              "\n",
              "                                     stations  \n",
              "0     KHSV,72323003856,72030763804,KMDQ,AAMA1  \n",
              "1     KHSV,72323003856,72030763804,KMDQ,AAMA1  \n",
              "2     KHSV,72323003856,72030763804,KMDQ,AAMA1  \n",
              "3     KHSV,72323003856,72030763804,KMDQ,AAMA1  \n",
              "4           KHSV,72323003856,72030763804,KMDQ  \n",
              "...                                       ...  \n",
              "8755                                      NaN  \n",
              "8756                                      NaN  \n",
              "8757                                      NaN  \n",
              "8758                                      NaN  \n",
              "8759                                      NaN  \n",
              "\n",
              "[8760 rows x 34 columns]"
            ]
          },
          "execution_count": 55,
          "metadata": {},
          "output_type": "execute_result"
        }
      ],
      "source": [
        "dataset = pd.read_csv(\"storage_dataset/prototype_final_dataset.csv\")\n",
        "dataset"
      ]
    },
    {
      "cell_type": "code",
      "execution_count": 56,
      "metadata": {
        "colab": {
          "base_uri": "https://localhost:8080/"
        },
        "id": "u9r0EEyA9c3f",
        "outputId": "fe79ea9c-d574-4b99-c2cc-e9832c1b08c6"
      },
      "outputs": [
        {
          "data": {
            "text/plain": [
              "Index(['Date', 'Time', 'SM_2', 'SM_4', 'SM_8', 'SM_20', 'SM_40', 'ST_2',\n",
              "       'ST_4', 'ST_8', 'ST_20', 'ST_40', 'temp', 'feelslike', 'dew',\n",
              "       'humidity', 'precip', 'precipprob', 'preciptype', 'snow', 'snowdepth',\n",
              "       'windgust', 'windspeed', 'winddir', 'sealevelpressure', 'cloudcover',\n",
              "       'visibility', 'solarradiation', 'solarenergy', 'uvindex', 'severerisk',\n",
              "       'conditions', 'icon', 'stations'],\n",
              "      dtype='object')"
            ]
          },
          "execution_count": 56,
          "metadata": {},
          "output_type": "execute_result"
        }
      ],
      "source": [
        "dataset.columns"
      ]
    },
    {
      "cell_type": "code",
      "execution_count": 57,
      "metadata": {
        "colab": {
          "base_uri": "https://localhost:8080/"
        },
        "id": "o9BYvYs39c3f",
        "outputId": "322a444b-70f6-417f-c336-f5e6ddc92715"
      },
      "outputs": [
        {
          "data": {
            "text/plain": [
              "8760"
            ]
          },
          "execution_count": 57,
          "metadata": {},
          "output_type": "execute_result"
        }
      ],
      "source": [
        "dataset.__len__()"
      ]
    },
    {
      "cell_type": "code",
      "execution_count": 58,
      "metadata": {
        "colab": {
          "base_uri": "https://localhost:8080/"
        },
        "id": "s6G4shkt9c3f",
        "outputId": "4d68ae60-e769-4a1e-be9b-07d36c4a2ef7"
      },
      "outputs": [
        {
          "name": "stdout",
          "output_type": "stream",
          "text": [
            "<class 'pandas.core.frame.DataFrame'>\n",
            "RangeIndex: 8760 entries, 0 to 8759\n",
            "Data columns (total 34 columns):\n",
            " #   Column            Non-Null Count  Dtype  \n",
            "---  ------            --------------  -----  \n",
            " 0   Date              8760 non-null   object \n",
            " 1   Time              8760 non-null   object \n",
            " 2   SM_2              8760 non-null   float64\n",
            " 3   SM_4              8760 non-null   float64\n",
            " 4   SM_8              8760 non-null   float64\n",
            " 5   SM_20             8760 non-null   float64\n",
            " 6   SM_40             8760 non-null   float64\n",
            " 7   ST_2              8760 non-null   float64\n",
            " 8   ST_4              8760 non-null   float64\n",
            " 9   ST_8              8760 non-null   float64\n",
            " 10  ST_20             8760 non-null   float64\n",
            " 11  ST_40             8760 non-null   float64\n",
            " 12  temp              4343 non-null   float64\n",
            " 13  feelslike         4343 non-null   float64\n",
            " 14  dew               4343 non-null   float64\n",
            " 15  humidity          4343 non-null   float64\n",
            " 16  precip            4343 non-null   float64\n",
            " 17  precipprob        4343 non-null   float64\n",
            " 18  preciptype        438 non-null    object \n",
            " 19  snow              4264 non-null   float64\n",
            " 20  snowdepth         4343 non-null   float64\n",
            " 21  windgust          3755 non-null   float64\n",
            " 22  windspeed         4343 non-null   float64\n",
            " 23  winddir           4343 non-null   float64\n",
            " 24  sealevelpressure  4343 non-null   float64\n",
            " 25  cloudcover        4343 non-null   float64\n",
            " 26  visibility        4343 non-null   float64\n",
            " 27  solarradiation    4343 non-null   float64\n",
            " 28  solarenergy       4343 non-null   float64\n",
            " 29  uvindex           4343 non-null   float64\n",
            " 30  severerisk        3599 non-null   float64\n",
            " 31  conditions        4343 non-null   object \n",
            " 32  icon              4343 non-null   object \n",
            " 33  stations          4343 non-null   object \n",
            "dtypes: float64(28), object(6)\n",
            "memory usage: 2.3+ MB\n"
          ]
        }
      ],
      "source": [
        "dataset.info()"
      ]
    },
    {
      "cell_type": "code",
      "execution_count": 59,
      "metadata": {
        "colab": {
          "base_uri": "https://localhost:8080/"
        },
        "id": "vEIXuk2Y9c3f",
        "outputId": "0bc95970-2eec-4f02-febe-bcf683581270"
      },
      "outputs": [
        {
          "data": {
            "text/plain": [
              "8760"
            ]
          },
          "execution_count": 59,
          "metadata": {},
          "output_type": "execute_result"
        }
      ],
      "source": [
        "dataset.__len__()"
      ]
    },
    {
      "cell_type": "code",
      "execution_count": 60,
      "metadata": {
        "colab": {
          "base_uri": "https://localhost:8080/",
          "height": 790
        },
        "id": "vLiMVf919c3f",
        "outputId": "68b9319d-5218-469c-fee0-e8d6a18017ba"
      },
      "outputs": [
        {
          "data": {
            "text/html": [
              "<div>\n",
              "<style scoped>\n",
              "    .dataframe tbody tr th:only-of-type {\n",
              "        vertical-align: middle;\n",
              "    }\n",
              "\n",
              "    .dataframe tbody tr th {\n",
              "        vertical-align: top;\n",
              "    }\n",
              "\n",
              "    .dataframe thead th {\n",
              "        text-align: right;\n",
              "    }\n",
              "</style>\n",
              "<table border=\"1\" class=\"dataframe\">\n",
              "  <thead>\n",
              "    <tr style=\"text-align: right;\">\n",
              "      <th></th>\n",
              "      <th>Date</th>\n",
              "      <th>Time</th>\n",
              "      <th>SM_2</th>\n",
              "      <th>SM_4</th>\n",
              "      <th>SM_8</th>\n",
              "      <th>SM_20</th>\n",
              "      <th>SM_40</th>\n",
              "      <th>ST_2</th>\n",
              "      <th>ST_4</th>\n",
              "      <th>ST_8</th>\n",
              "      <th>...</th>\n",
              "      <th>sealevelpressure</th>\n",
              "      <th>cloudcover</th>\n",
              "      <th>visibility</th>\n",
              "      <th>solarradiation</th>\n",
              "      <th>solarenergy</th>\n",
              "      <th>uvindex</th>\n",
              "      <th>severerisk</th>\n",
              "      <th>conditions</th>\n",
              "      <th>icon</th>\n",
              "      <th>stations</th>\n",
              "    </tr>\n",
              "  </thead>\n",
              "  <tbody>\n",
              "    <tr>\n",
              "      <th>0</th>\n",
              "      <td>01-01-2022</td>\n",
              "      <td>00:00</td>\n",
              "      <td>38.2</td>\n",
              "      <td>35.9</td>\n",
              "      <td>31.0</td>\n",
              "      <td>36.9</td>\n",
              "      <td>34.0</td>\n",
              "      <td>15.9</td>\n",
              "      <td>15.5</td>\n",
              "      <td>15.5</td>\n",
              "      <td>...</td>\n",
              "      <td>1009.4</td>\n",
              "      <td>100.0</td>\n",
              "      <td>16.0</td>\n",
              "      <td>0.0</td>\n",
              "      <td>0.0</td>\n",
              "      <td>0.0</td>\n",
              "      <td>NaN</td>\n",
              "      <td>Overcast</td>\n",
              "      <td>cloudy</td>\n",
              "      <td>KHSV,72323003856,72030763804,KMDQ,AAMA1</td>\n",
              "    </tr>\n",
              "    <tr>\n",
              "      <th>1</th>\n",
              "      <td>01-01-2022</td>\n",
              "      <td>01:00</td>\n",
              "      <td>38.2</td>\n",
              "      <td>36.0</td>\n",
              "      <td>30.9</td>\n",
              "      <td>36.7</td>\n",
              "      <td>34.1</td>\n",
              "      <td>16.0</td>\n",
              "      <td>15.6</td>\n",
              "      <td>15.6</td>\n",
              "      <td>...</td>\n",
              "      <td>1009.3</td>\n",
              "      <td>91.7</td>\n",
              "      <td>16.0</td>\n",
              "      <td>0.0</td>\n",
              "      <td>0.0</td>\n",
              "      <td>0.0</td>\n",
              "      <td>NaN</td>\n",
              "      <td>Overcast</td>\n",
              "      <td>cloudy</td>\n",
              "      <td>KHSV,72323003856,72030763804,KMDQ,AAMA1</td>\n",
              "    </tr>\n",
              "    <tr>\n",
              "      <th>2</th>\n",
              "      <td>01-01-2022</td>\n",
              "      <td>02:00</td>\n",
              "      <td>38.3</td>\n",
              "      <td>36.0</td>\n",
              "      <td>31.0</td>\n",
              "      <td>36.7</td>\n",
              "      <td>33.9</td>\n",
              "      <td>16.0</td>\n",
              "      <td>15.6</td>\n",
              "      <td>15.6</td>\n",
              "      <td>...</td>\n",
              "      <td>1009.3</td>\n",
              "      <td>62.7</td>\n",
              "      <td>16.0</td>\n",
              "      <td>0.0</td>\n",
              "      <td>0.0</td>\n",
              "      <td>0.0</td>\n",
              "      <td>NaN</td>\n",
              "      <td>Partially cloudy</td>\n",
              "      <td>partly-cloudy-night</td>\n",
              "      <td>KHSV,72323003856,72030763804,KMDQ,AAMA1</td>\n",
              "    </tr>\n",
              "    <tr>\n",
              "      <th>3</th>\n",
              "      <td>01-01-2022</td>\n",
              "      <td>03:00</td>\n",
              "      <td>38.3</td>\n",
              "      <td>35.8</td>\n",
              "      <td>30.9</td>\n",
              "      <td>36.7</td>\n",
              "      <td>33.9</td>\n",
              "      <td>16.1</td>\n",
              "      <td>15.7</td>\n",
              "      <td>15.6</td>\n",
              "      <td>...</td>\n",
              "      <td>1009.3</td>\n",
              "      <td>91.7</td>\n",
              "      <td>16.0</td>\n",
              "      <td>0.0</td>\n",
              "      <td>0.0</td>\n",
              "      <td>0.0</td>\n",
              "      <td>NaN</td>\n",
              "      <td>Overcast</td>\n",
              "      <td>cloudy</td>\n",
              "      <td>KHSV,72323003856,72030763804,KMDQ,AAMA1</td>\n",
              "    </tr>\n",
              "    <tr>\n",
              "      <th>4</th>\n",
              "      <td>01-01-2022</td>\n",
              "      <td>04:00</td>\n",
              "      <td>38.3</td>\n",
              "      <td>35.9</td>\n",
              "      <td>30.9</td>\n",
              "      <td>36.7</td>\n",
              "      <td>33.9</td>\n",
              "      <td>16.2</td>\n",
              "      <td>15.7</td>\n",
              "      <td>15.7</td>\n",
              "      <td>...</td>\n",
              "      <td>1009.6</td>\n",
              "      <td>100.0</td>\n",
              "      <td>16.0</td>\n",
              "      <td>0.0</td>\n",
              "      <td>0.0</td>\n",
              "      <td>0.0</td>\n",
              "      <td>NaN</td>\n",
              "      <td>Overcast</td>\n",
              "      <td>cloudy</td>\n",
              "      <td>KHSV,72323003856,72030763804,KMDQ</td>\n",
              "    </tr>\n",
              "    <tr>\n",
              "      <th>...</th>\n",
              "      <td>...</td>\n",
              "      <td>...</td>\n",
              "      <td>...</td>\n",
              "      <td>...</td>\n",
              "      <td>...</td>\n",
              "      <td>...</td>\n",
              "      <td>...</td>\n",
              "      <td>...</td>\n",
              "      <td>...</td>\n",
              "      <td>...</td>\n",
              "      <td>...</td>\n",
              "      <td>...</td>\n",
              "      <td>...</td>\n",
              "      <td>...</td>\n",
              "      <td>...</td>\n",
              "      <td>...</td>\n",
              "      <td>...</td>\n",
              "      <td>...</td>\n",
              "      <td>...</td>\n",
              "      <td>...</td>\n",
              "      <td>...</td>\n",
              "    </tr>\n",
              "    <tr>\n",
              "      <th>8755</th>\n",
              "      <td>31-12-2022</td>\n",
              "      <td>19:00</td>\n",
              "      <td>36.8</td>\n",
              "      <td>36.5</td>\n",
              "      <td>30.6</td>\n",
              "      <td>34.7</td>\n",
              "      <td>31.8</td>\n",
              "      <td>10.5</td>\n",
              "      <td>10.1</td>\n",
              "      <td>10.0</td>\n",
              "      <td>...</td>\n",
              "      <td>NaN</td>\n",
              "      <td>NaN</td>\n",
              "      <td>NaN</td>\n",
              "      <td>NaN</td>\n",
              "      <td>NaN</td>\n",
              "      <td>NaN</td>\n",
              "      <td>NaN</td>\n",
              "      <td>NaN</td>\n",
              "      <td>NaN</td>\n",
              "      <td>NaN</td>\n",
              "    </tr>\n",
              "    <tr>\n",
              "      <th>8756</th>\n",
              "      <td>31-12-2022</td>\n",
              "      <td>20:00</td>\n",
              "      <td>36.7</td>\n",
              "      <td>36.2</td>\n",
              "      <td>30.5</td>\n",
              "      <td>34.7</td>\n",
              "      <td>31.8</td>\n",
              "      <td>10.2</td>\n",
              "      <td>10.0</td>\n",
              "      <td>9.9</td>\n",
              "      <td>...</td>\n",
              "      <td>NaN</td>\n",
              "      <td>NaN</td>\n",
              "      <td>NaN</td>\n",
              "      <td>NaN</td>\n",
              "      <td>NaN</td>\n",
              "      <td>NaN</td>\n",
              "      <td>NaN</td>\n",
              "      <td>NaN</td>\n",
              "      <td>NaN</td>\n",
              "      <td>NaN</td>\n",
              "    </tr>\n",
              "    <tr>\n",
              "      <th>8757</th>\n",
              "      <td>31-12-2022</td>\n",
              "      <td>21:00</td>\n",
              "      <td>36.5</td>\n",
              "      <td>36.1</td>\n",
              "      <td>30.3</td>\n",
              "      <td>34.9</td>\n",
              "      <td>31.8</td>\n",
              "      <td>9.9</td>\n",
              "      <td>9.9</td>\n",
              "      <td>9.8</td>\n",
              "      <td>...</td>\n",
              "      <td>NaN</td>\n",
              "      <td>NaN</td>\n",
              "      <td>NaN</td>\n",
              "      <td>NaN</td>\n",
              "      <td>NaN</td>\n",
              "      <td>NaN</td>\n",
              "      <td>NaN</td>\n",
              "      <td>NaN</td>\n",
              "      <td>NaN</td>\n",
              "      <td>NaN</td>\n",
              "    </tr>\n",
              "    <tr>\n",
              "      <th>8758</th>\n",
              "      <td>31-12-2022</td>\n",
              "      <td>22:00</td>\n",
              "      <td>36.5</td>\n",
              "      <td>36.1</td>\n",
              "      <td>30.3</td>\n",
              "      <td>34.8</td>\n",
              "      <td>32.0</td>\n",
              "      <td>9.7</td>\n",
              "      <td>9.7</td>\n",
              "      <td>9.8</td>\n",
              "      <td>...</td>\n",
              "      <td>NaN</td>\n",
              "      <td>NaN</td>\n",
              "      <td>NaN</td>\n",
              "      <td>NaN</td>\n",
              "      <td>NaN</td>\n",
              "      <td>NaN</td>\n",
              "      <td>NaN</td>\n",
              "      <td>NaN</td>\n",
              "      <td>NaN</td>\n",
              "      <td>NaN</td>\n",
              "    </tr>\n",
              "    <tr>\n",
              "      <th>8759</th>\n",
              "      <td>31-12-2022</td>\n",
              "      <td>23:00</td>\n",
              "      <td>37.2</td>\n",
              "      <td>36.0</td>\n",
              "      <td>30.3</td>\n",
              "      <td>34.8</td>\n",
              "      <td>32.0</td>\n",
              "      <td>9.4</td>\n",
              "      <td>9.6</td>\n",
              "      <td>9.7</td>\n",
              "      <td>...</td>\n",
              "      <td>NaN</td>\n",
              "      <td>NaN</td>\n",
              "      <td>NaN</td>\n",
              "      <td>NaN</td>\n",
              "      <td>NaN</td>\n",
              "      <td>NaN</td>\n",
              "      <td>NaN</td>\n",
              "      <td>NaN</td>\n",
              "      <td>NaN</td>\n",
              "      <td>NaN</td>\n",
              "    </tr>\n",
              "  </tbody>\n",
              "</table>\n",
              "<p>8760 rows × 34 columns</p>\n",
              "</div>"
            ],
            "text/plain": [
              "            Date   Time  SM_2  SM_4  SM_8  SM_20  SM_40  ST_2  ST_4  ST_8  \\\n",
              "0     01-01-2022  00:00  38.2  35.9  31.0   36.9   34.0  15.9  15.5  15.5   \n",
              "1     01-01-2022  01:00  38.2  36.0  30.9   36.7   34.1  16.0  15.6  15.6   \n",
              "2     01-01-2022  02:00  38.3  36.0  31.0   36.7   33.9  16.0  15.6  15.6   \n",
              "3     01-01-2022  03:00  38.3  35.8  30.9   36.7   33.9  16.1  15.7  15.6   \n",
              "4     01-01-2022  04:00  38.3  35.9  30.9   36.7   33.9  16.2  15.7  15.7   \n",
              "...          ...    ...   ...   ...   ...    ...    ...   ...   ...   ...   \n",
              "8755  31-12-2022  19:00  36.8  36.5  30.6   34.7   31.8  10.5  10.1  10.0   \n",
              "8756  31-12-2022  20:00  36.7  36.2  30.5   34.7   31.8  10.2  10.0   9.9   \n",
              "8757  31-12-2022  21:00  36.5  36.1  30.3   34.9   31.8   9.9   9.9   9.8   \n",
              "8758  31-12-2022  22:00  36.5  36.1  30.3   34.8   32.0   9.7   9.7   9.8   \n",
              "8759  31-12-2022  23:00  37.2  36.0  30.3   34.8   32.0   9.4   9.6   9.7   \n",
              "\n",
              "      ...  sealevelpressure  cloudcover  visibility  solarradiation  \\\n",
              "0     ...            1009.4       100.0        16.0             0.0   \n",
              "1     ...            1009.3        91.7        16.0             0.0   \n",
              "2     ...            1009.3        62.7        16.0             0.0   \n",
              "3     ...            1009.3        91.7        16.0             0.0   \n",
              "4     ...            1009.6       100.0        16.0             0.0   \n",
              "...   ...               ...         ...         ...             ...   \n",
              "8755  ...               NaN         NaN         NaN             NaN   \n",
              "8756  ...               NaN         NaN         NaN             NaN   \n",
              "8757  ...               NaN         NaN         NaN             NaN   \n",
              "8758  ...               NaN         NaN         NaN             NaN   \n",
              "8759  ...               NaN         NaN         NaN             NaN   \n",
              "\n",
              "      solarenergy  uvindex  severerisk        conditions                 icon  \\\n",
              "0             0.0      0.0         NaN          Overcast               cloudy   \n",
              "1             0.0      0.0         NaN          Overcast               cloudy   \n",
              "2             0.0      0.0         NaN  Partially cloudy  partly-cloudy-night   \n",
              "3             0.0      0.0         NaN          Overcast               cloudy   \n",
              "4             0.0      0.0         NaN          Overcast               cloudy   \n",
              "...           ...      ...         ...               ...                  ...   \n",
              "8755          NaN      NaN         NaN               NaN                  NaN   \n",
              "8756          NaN      NaN         NaN               NaN                  NaN   \n",
              "8757          NaN      NaN         NaN               NaN                  NaN   \n",
              "8758          NaN      NaN         NaN               NaN                  NaN   \n",
              "8759          NaN      NaN         NaN               NaN                  NaN   \n",
              "\n",
              "                                     stations  \n",
              "0     KHSV,72323003856,72030763804,KMDQ,AAMA1  \n",
              "1     KHSV,72323003856,72030763804,KMDQ,AAMA1  \n",
              "2     KHSV,72323003856,72030763804,KMDQ,AAMA1  \n",
              "3     KHSV,72323003856,72030763804,KMDQ,AAMA1  \n",
              "4           KHSV,72323003856,72030763804,KMDQ  \n",
              "...                                       ...  \n",
              "8755                                      NaN  \n",
              "8756                                      NaN  \n",
              "8757                                      NaN  \n",
              "8758                                      NaN  \n",
              "8759                                      NaN  \n",
              "\n",
              "[8760 rows x 34 columns]"
            ]
          },
          "execution_count": 60,
          "metadata": {},
          "output_type": "execute_result"
        }
      ],
      "source": [
        "dataset"
      ]
    },
    {
      "cell_type": "code",
      "execution_count": 61,
      "metadata": {
        "id": "n4oAbZVI9c3f"
      },
      "outputs": [],
      "source": [
        "dataset.drop(\n",
        "    [\n",
        "        \"Date\",\n",
        "        \"SM_2\",\n",
        "        \"SM_8\",\n",
        "        \"SM_20\",\n",
        "        \"SM_40\",\n",
        "        \"ST_2\",\n",
        "        \"ST_8\",\n",
        "        \"ST_20\",\n",
        "        \"ST_40\",\n",
        "        \"solarenergy\",\n",
        "        \"precipprob\",\n",
        "        \"preciptype\",\n",
        "        \"snow\",\n",
        "        \"snowdepth\",\n",
        "        \"windgust\",\n",
        "        \"winddir\",\n",
        "        \"sealevelpressure\",\n",
        "        \"visibility\",\n",
        "        \"solarenergy\",\n",
        "        \"uvindex\",\n",
        "        \"severerisk\",\n",
        "        \"icon\",\n",
        "        \"stations\",\n",
        "        \"dew\",\n",
        "        \"solarradiation\",\n",
        "        \"Time\",\n",
        "        # \"cloudcover\",\n",
        "        \"feelslike\",\n",
        "        # \"windspeed\",\n",
        "    ],\n",
        "    inplace=True,\n",
        "    axis=1,\n",
        ")"
      ]
    },
    {
      "cell_type": "code",
      "execution_count": 62,
      "metadata": {
        "colab": {
          "base_uri": "https://localhost:8080/",
          "height": 423
        },
        "id": "UyLecQH29c3f",
        "outputId": "0b11f842-b33a-49ea-9fef-b0bf8e22d24a"
      },
      "outputs": [
        {
          "data": {
            "text/html": [
              "<div>\n",
              "<style scoped>\n",
              "    .dataframe tbody tr th:only-of-type {\n",
              "        vertical-align: middle;\n",
              "    }\n",
              "\n",
              "    .dataframe tbody tr th {\n",
              "        vertical-align: top;\n",
              "    }\n",
              "\n",
              "    .dataframe thead th {\n",
              "        text-align: right;\n",
              "    }\n",
              "</style>\n",
              "<table border=\"1\" class=\"dataframe\">\n",
              "  <thead>\n",
              "    <tr style=\"text-align: right;\">\n",
              "      <th></th>\n",
              "      <th>SM_4</th>\n",
              "      <th>ST_4</th>\n",
              "      <th>temp</th>\n",
              "      <th>humidity</th>\n",
              "      <th>precip</th>\n",
              "      <th>windspeed</th>\n",
              "      <th>cloudcover</th>\n",
              "      <th>conditions</th>\n",
              "    </tr>\n",
              "  </thead>\n",
              "  <tbody>\n",
              "    <tr>\n",
              "      <th>0</th>\n",
              "      <td>35.9</td>\n",
              "      <td>15.5</td>\n",
              "      <td>21.6</td>\n",
              "      <td>84.50</td>\n",
              "      <td>0.0</td>\n",
              "      <td>22.3</td>\n",
              "      <td>100.0</td>\n",
              "      <td>Overcast</td>\n",
              "    </tr>\n",
              "    <tr>\n",
              "      <th>1</th>\n",
              "      <td>36.0</td>\n",
              "      <td>15.6</td>\n",
              "      <td>21.6</td>\n",
              "      <td>84.97</td>\n",
              "      <td>0.0</td>\n",
              "      <td>27.7</td>\n",
              "      <td>91.7</td>\n",
              "      <td>Overcast</td>\n",
              "    </tr>\n",
              "    <tr>\n",
              "      <th>2</th>\n",
              "      <td>36.0</td>\n",
              "      <td>15.6</td>\n",
              "      <td>21.2</td>\n",
              "      <td>86.87</td>\n",
              "      <td>0.0</td>\n",
              "      <td>22.8</td>\n",
              "      <td>62.7</td>\n",
              "      <td>Partially cloudy</td>\n",
              "    </tr>\n",
              "    <tr>\n",
              "      <th>3</th>\n",
              "      <td>35.8</td>\n",
              "      <td>15.7</td>\n",
              "      <td>21.2</td>\n",
              "      <td>86.66</td>\n",
              "      <td>0.0</td>\n",
              "      <td>22.8</td>\n",
              "      <td>91.7</td>\n",
              "      <td>Overcast</td>\n",
              "    </tr>\n",
              "    <tr>\n",
              "      <th>4</th>\n",
              "      <td>35.9</td>\n",
              "      <td>15.7</td>\n",
              "      <td>21.6</td>\n",
              "      <td>84.50</td>\n",
              "      <td>0.0</td>\n",
              "      <td>19.8</td>\n",
              "      <td>100.0</td>\n",
              "      <td>Overcast</td>\n",
              "    </tr>\n",
              "    <tr>\n",
              "      <th>...</th>\n",
              "      <td>...</td>\n",
              "      <td>...</td>\n",
              "      <td>...</td>\n",
              "      <td>...</td>\n",
              "      <td>...</td>\n",
              "      <td>...</td>\n",
              "      <td>...</td>\n",
              "      <td>...</td>\n",
              "    </tr>\n",
              "    <tr>\n",
              "      <th>8755</th>\n",
              "      <td>36.5</td>\n",
              "      <td>10.1</td>\n",
              "      <td>NaN</td>\n",
              "      <td>NaN</td>\n",
              "      <td>NaN</td>\n",
              "      <td>NaN</td>\n",
              "      <td>NaN</td>\n",
              "      <td>NaN</td>\n",
              "    </tr>\n",
              "    <tr>\n",
              "      <th>8756</th>\n",
              "      <td>36.2</td>\n",
              "      <td>10.0</td>\n",
              "      <td>NaN</td>\n",
              "      <td>NaN</td>\n",
              "      <td>NaN</td>\n",
              "      <td>NaN</td>\n",
              "      <td>NaN</td>\n",
              "      <td>NaN</td>\n",
              "    </tr>\n",
              "    <tr>\n",
              "      <th>8757</th>\n",
              "      <td>36.1</td>\n",
              "      <td>9.9</td>\n",
              "      <td>NaN</td>\n",
              "      <td>NaN</td>\n",
              "      <td>NaN</td>\n",
              "      <td>NaN</td>\n",
              "      <td>NaN</td>\n",
              "      <td>NaN</td>\n",
              "    </tr>\n",
              "    <tr>\n",
              "      <th>8758</th>\n",
              "      <td>36.1</td>\n",
              "      <td>9.7</td>\n",
              "      <td>NaN</td>\n",
              "      <td>NaN</td>\n",
              "      <td>NaN</td>\n",
              "      <td>NaN</td>\n",
              "      <td>NaN</td>\n",
              "      <td>NaN</td>\n",
              "    </tr>\n",
              "    <tr>\n",
              "      <th>8759</th>\n",
              "      <td>36.0</td>\n",
              "      <td>9.6</td>\n",
              "      <td>NaN</td>\n",
              "      <td>NaN</td>\n",
              "      <td>NaN</td>\n",
              "      <td>NaN</td>\n",
              "      <td>NaN</td>\n",
              "      <td>NaN</td>\n",
              "    </tr>\n",
              "  </tbody>\n",
              "</table>\n",
              "<p>8760 rows × 8 columns</p>\n",
              "</div>"
            ],
            "text/plain": [
              "      SM_4  ST_4  temp  humidity  precip  windspeed  cloudcover  \\\n",
              "0     35.9  15.5  21.6     84.50     0.0       22.3       100.0   \n",
              "1     36.0  15.6  21.6     84.97     0.0       27.7        91.7   \n",
              "2     36.0  15.6  21.2     86.87     0.0       22.8        62.7   \n",
              "3     35.8  15.7  21.2     86.66     0.0       22.8        91.7   \n",
              "4     35.9  15.7  21.6     84.50     0.0       19.8       100.0   \n",
              "...    ...   ...   ...       ...     ...        ...         ...   \n",
              "8755  36.5  10.1   NaN       NaN     NaN        NaN         NaN   \n",
              "8756  36.2  10.0   NaN       NaN     NaN        NaN         NaN   \n",
              "8757  36.1   9.9   NaN       NaN     NaN        NaN         NaN   \n",
              "8758  36.1   9.7   NaN       NaN     NaN        NaN         NaN   \n",
              "8759  36.0   9.6   NaN       NaN     NaN        NaN         NaN   \n",
              "\n",
              "            conditions  \n",
              "0             Overcast  \n",
              "1             Overcast  \n",
              "2     Partially cloudy  \n",
              "3             Overcast  \n",
              "4             Overcast  \n",
              "...                ...  \n",
              "8755               NaN  \n",
              "8756               NaN  \n",
              "8757               NaN  \n",
              "8758               NaN  \n",
              "8759               NaN  \n",
              "\n",
              "[8760 rows x 8 columns]"
            ]
          },
          "execution_count": 62,
          "metadata": {},
          "output_type": "execute_result"
        }
      ],
      "source": [
        "dataset"
      ]
    },
    {
      "cell_type": "code",
      "execution_count": 63,
      "metadata": {
        "colab": {
          "base_uri": "https://localhost:8080/"
        },
        "id": "L8Uf4PVr9c3g",
        "outputId": "9b888e60-d727-40ba-840e-90786c1ddd3c"
      },
      "outputs": [
        {
          "name": "stdout",
          "output_type": "stream",
          "text": [
            "<class 'pandas.core.frame.DataFrame'>\n",
            "RangeIndex: 8760 entries, 0 to 8759\n",
            "Data columns (total 8 columns):\n",
            " #   Column      Non-Null Count  Dtype  \n",
            "---  ------      --------------  -----  \n",
            " 0   SM_4        8760 non-null   float64\n",
            " 1   ST_4        8760 non-null   float64\n",
            " 2   temp        4343 non-null   float64\n",
            " 3   humidity    4343 non-null   float64\n",
            " 4   precip      4343 non-null   float64\n",
            " 5   windspeed   4343 non-null   float64\n",
            " 6   cloudcover  4343 non-null   float64\n",
            " 7   conditions  4343 non-null   object \n",
            "dtypes: float64(7), object(1)\n",
            "memory usage: 547.6+ KB\n"
          ]
        }
      ],
      "source": [
        "dataset.info()"
      ]
    },
    {
      "cell_type": "code",
      "execution_count": 64,
      "metadata": {
        "id": "oGdlriRq9c3g"
      },
      "outputs": [],
      "source": [
        "dataset = dataset.dropna()"
      ]
    },
    {
      "cell_type": "code",
      "execution_count": 65,
      "metadata": {
        "colab": {
          "base_uri": "https://localhost:8080/"
        },
        "id": "pdrIx09F9c3g",
        "outputId": "54a9e586-3488-400c-94d9-2a7efed0a2fb"
      },
      "outputs": [
        {
          "name": "stdout",
          "output_type": "stream",
          "text": [
            "<class 'pandas.core.frame.DataFrame'>\n",
            "Index: 4343 entries, 0 to 4343\n",
            "Data columns (total 8 columns):\n",
            " #   Column      Non-Null Count  Dtype  \n",
            "---  ------      --------------  -----  \n",
            " 0   SM_4        4343 non-null   float64\n",
            " 1   ST_4        4343 non-null   float64\n",
            " 2   temp        4343 non-null   float64\n",
            " 3   humidity    4343 non-null   float64\n",
            " 4   precip      4343 non-null   float64\n",
            " 5   windspeed   4343 non-null   float64\n",
            " 6   cloudcover  4343 non-null   float64\n",
            " 7   conditions  4343 non-null   object \n",
            "dtypes: float64(7), object(1)\n",
            "memory usage: 305.4+ KB\n"
          ]
        }
      ],
      "source": [
        "dataset.info()"
      ]
    },
    {
      "cell_type": "code",
      "execution_count": 66,
      "metadata": {},
      "outputs": [
        {
          "data": {
            "text/plain": [
              "Index(['SM_4', 'ST_4', 'temp', 'humidity', 'precip', 'windspeed', 'cloudcover',\n",
              "       'conditions'],\n",
              "      dtype='object')"
            ]
          },
          "execution_count": 66,
          "metadata": {},
          "output_type": "execute_result"
        }
      ],
      "source": [
        "dataset.columns"
      ]
    },
    {
      "cell_type": "code",
      "execution_count": 67,
      "metadata": {},
      "outputs": [
        {
          "name": "stdout",
          "output_type": "stream",
          "text": [
            "['Overcast' 'Partially cloudy' 'Rain, Partially cloudy' 'Rain, Overcast'\n",
            " 'Snow, Rain, Overcast' 'Snow, Rain, Partially cloudy' 'Clear'\n",
            " 'Snow, Overcast' 'Rain']\n",
            "9\n"
          ]
        }
      ],
      "source": [
        "cat_val_cond = dataset.conditions.unique()\n",
        "print(cat_val_cond)\n",
        "print(len(cat_val_cond))"
      ]
    },
    {
      "cell_type": "code",
      "execution_count": 68,
      "metadata": {},
      "outputs": [
        {
          "data": {
            "text/html": [
              "<div>\n",
              "<style scoped>\n",
              "    .dataframe tbody tr th:only-of-type {\n",
              "        vertical-align: middle;\n",
              "    }\n",
              "\n",
              "    .dataframe tbody tr th {\n",
              "        vertical-align: top;\n",
              "    }\n",
              "\n",
              "    .dataframe thead th {\n",
              "        text-align: right;\n",
              "    }\n",
              "</style>\n",
              "<table border=\"1\" class=\"dataframe\">\n",
              "  <thead>\n",
              "    <tr style=\"text-align: right;\">\n",
              "      <th></th>\n",
              "      <th>SM_4</th>\n",
              "      <th>ST_4</th>\n",
              "      <th>temp</th>\n",
              "      <th>humidity</th>\n",
              "      <th>precip</th>\n",
              "      <th>windspeed</th>\n",
              "      <th>cloudcover</th>\n",
              "      <th>conditions</th>\n",
              "    </tr>\n",
              "  </thead>\n",
              "  <tbody>\n",
              "    <tr>\n",
              "      <th>0</th>\n",
              "      <td>35.9</td>\n",
              "      <td>15.5</td>\n",
              "      <td>21.6</td>\n",
              "      <td>84.50</td>\n",
              "      <td>0.0</td>\n",
              "      <td>22.3</td>\n",
              "      <td>100.0</td>\n",
              "      <td>Overcast</td>\n",
              "    </tr>\n",
              "    <tr>\n",
              "      <th>1</th>\n",
              "      <td>36.0</td>\n",
              "      <td>15.6</td>\n",
              "      <td>21.6</td>\n",
              "      <td>84.97</td>\n",
              "      <td>0.0</td>\n",
              "      <td>27.7</td>\n",
              "      <td>91.7</td>\n",
              "      <td>Overcast</td>\n",
              "    </tr>\n",
              "    <tr>\n",
              "      <th>2</th>\n",
              "      <td>36.0</td>\n",
              "      <td>15.6</td>\n",
              "      <td>21.2</td>\n",
              "      <td>86.87</td>\n",
              "      <td>0.0</td>\n",
              "      <td>22.8</td>\n",
              "      <td>62.7</td>\n",
              "      <td>Partially cloudy</td>\n",
              "    </tr>\n",
              "    <tr>\n",
              "      <th>3</th>\n",
              "      <td>35.8</td>\n",
              "      <td>15.7</td>\n",
              "      <td>21.2</td>\n",
              "      <td>86.66</td>\n",
              "      <td>0.0</td>\n",
              "      <td>22.8</td>\n",
              "      <td>91.7</td>\n",
              "      <td>Overcast</td>\n",
              "    </tr>\n",
              "    <tr>\n",
              "      <th>4</th>\n",
              "      <td>35.9</td>\n",
              "      <td>15.7</td>\n",
              "      <td>21.6</td>\n",
              "      <td>84.50</td>\n",
              "      <td>0.0</td>\n",
              "      <td>19.8</td>\n",
              "      <td>100.0</td>\n",
              "      <td>Overcast</td>\n",
              "    </tr>\n",
              "    <tr>\n",
              "      <th>...</th>\n",
              "      <td>...</td>\n",
              "      <td>...</td>\n",
              "      <td>...</td>\n",
              "      <td>...</td>\n",
              "      <td>...</td>\n",
              "      <td>...</td>\n",
              "      <td>...</td>\n",
              "      <td>...</td>\n",
              "    </tr>\n",
              "    <tr>\n",
              "      <th>4339</th>\n",
              "      <td>21.9</td>\n",
              "      <td>28.1</td>\n",
              "      <td>30.2</td>\n",
              "      <td>58.27</td>\n",
              "      <td>0.0</td>\n",
              "      <td>13.6</td>\n",
              "      <td>47.2</td>\n",
              "      <td>Partially cloudy</td>\n",
              "    </tr>\n",
              "    <tr>\n",
              "      <th>4340</th>\n",
              "      <td>21.6</td>\n",
              "      <td>28.0</td>\n",
              "      <td>28.7</td>\n",
              "      <td>65.81</td>\n",
              "      <td>0.0</td>\n",
              "      <td>14.4</td>\n",
              "      <td>56.2</td>\n",
              "      <td>Partially cloudy</td>\n",
              "    </tr>\n",
              "    <tr>\n",
              "      <th>4341</th>\n",
              "      <td>21.6</td>\n",
              "      <td>27.8</td>\n",
              "      <td>27.6</td>\n",
              "      <td>67.50</td>\n",
              "      <td>0.0</td>\n",
              "      <td>8.6</td>\n",
              "      <td>25.3</td>\n",
              "      <td>Partially cloudy</td>\n",
              "    </tr>\n",
              "    <tr>\n",
              "      <th>4342</th>\n",
              "      <td>21.6</td>\n",
              "      <td>27.6</td>\n",
              "      <td>25.9</td>\n",
              "      <td>76.62</td>\n",
              "      <td>0.0</td>\n",
              "      <td>2.2</td>\n",
              "      <td>19.1</td>\n",
              "      <td>Clear</td>\n",
              "    </tr>\n",
              "    <tr>\n",
              "      <th>4343</th>\n",
              "      <td>21.9</td>\n",
              "      <td>27.4</td>\n",
              "      <td>25.0</td>\n",
              "      <td>80.27</td>\n",
              "      <td>0.0</td>\n",
              "      <td>2.7</td>\n",
              "      <td>14.2</td>\n",
              "      <td>Clear</td>\n",
              "    </tr>\n",
              "  </tbody>\n",
              "</table>\n",
              "<p>4343 rows × 8 columns</p>\n",
              "</div>"
            ],
            "text/plain": [
              "      SM_4  ST_4  temp  humidity  precip  windspeed  cloudcover  \\\n",
              "0     35.9  15.5  21.6     84.50     0.0       22.3       100.0   \n",
              "1     36.0  15.6  21.6     84.97     0.0       27.7        91.7   \n",
              "2     36.0  15.6  21.2     86.87     0.0       22.8        62.7   \n",
              "3     35.8  15.7  21.2     86.66     0.0       22.8        91.7   \n",
              "4     35.9  15.7  21.6     84.50     0.0       19.8       100.0   \n",
              "...    ...   ...   ...       ...     ...        ...         ...   \n",
              "4339  21.9  28.1  30.2     58.27     0.0       13.6        47.2   \n",
              "4340  21.6  28.0  28.7     65.81     0.0       14.4        56.2   \n",
              "4341  21.6  27.8  27.6     67.50     0.0        8.6        25.3   \n",
              "4342  21.6  27.6  25.9     76.62     0.0        2.2        19.1   \n",
              "4343  21.9  27.4  25.0     80.27     0.0        2.7        14.2   \n",
              "\n",
              "            conditions  \n",
              "0             Overcast  \n",
              "1             Overcast  \n",
              "2     Partially cloudy  \n",
              "3             Overcast  \n",
              "4             Overcast  \n",
              "...                ...  \n",
              "4339  Partially cloudy  \n",
              "4340  Partially cloudy  \n",
              "4341  Partially cloudy  \n",
              "4342             Clear  \n",
              "4343             Clear  \n",
              "\n",
              "[4343 rows x 8 columns]"
            ]
          },
          "execution_count": 68,
          "metadata": {},
          "output_type": "execute_result"
        }
      ],
      "source": [
        "dataset"
      ]
    },
    {
      "cell_type": "code",
      "execution_count": 69,
      "metadata": {
        "colab": {
          "base_uri": "https://localhost:8080/"
        },
        "id": "4LS-omuT9c3g",
        "outputId": "f98f14d9-e2de-4a68-ee67-dc7afc2a26c3"
      },
      "outputs": [
        {
          "data": {
            "text/plain": [
              "array([[15.5, 21.6, 84.5, ..., 22.3, 100.0, 'Overcast'],\n",
              "       [15.6, 21.6, 84.97, ..., 27.7, 91.7, 'Overcast'],\n",
              "       [15.6, 21.2, 86.87, ..., 22.8, 62.7, 'Partially cloudy'],\n",
              "       ...,\n",
              "       [27.8, 27.6, 67.5, ..., 8.6, 25.3, 'Partially cloudy'],\n",
              "       [27.6, 25.9, 76.62, ..., 2.2, 19.1, 'Clear'],\n",
              "       [27.4, 25.0, 80.27, ..., 2.7, 14.2, 'Clear']], dtype=object)"
            ]
          },
          "execution_count": 69,
          "metadata": {},
          "output_type": "execute_result"
        }
      ],
      "source": [
        "X = dataset.iloc[:, 1:].values\n",
        "X"
      ]
    },
    {
      "cell_type": "code",
      "execution_count": 70,
      "metadata": {
        "colab": {
          "base_uri": "https://localhost:8080/"
        },
        "id": "DFExooBU9c3g",
        "outputId": "9ab46a7e-b91b-4e95-c031-05358367769c"
      },
      "outputs": [
        {
          "data": {
            "text/plain": [
              "array([35.9, 36. , 36. , ..., 21.6, 21.6, 21.9])"
            ]
          },
          "execution_count": 70,
          "metadata": {},
          "output_type": "execute_result"
        }
      ],
      "source": [
        "y = dataset.iloc[:, 0].values\n",
        "y"
      ]
    },
    {
      "cell_type": "code",
      "execution_count": 71,
      "metadata": {
        "colab": {
          "base_uri": "https://localhost:8080/"
        },
        "id": "EhkwCeEG9c3h",
        "outputId": "c91a9cc9-441c-48f4-8dfa-1d62e7ce16cd"
      },
      "outputs": [
        {
          "data": {
            "text/plain": [
              "array([[0.0, 1.0, 0.0, ..., 0.0, 22.3, 100.0],\n",
              "       [0.0, 1.0, 0.0, ..., 0.0, 27.7, 91.7],\n",
              "       [0.0, 0.0, 1.0, ..., 0.0, 22.8, 62.7],\n",
              "       ...,\n",
              "       [0.0, 0.0, 1.0, ..., 0.0, 8.6, 25.3],\n",
              "       [1.0, 0.0, 0.0, ..., 0.0, 2.2, 19.1],\n",
              "       [1.0, 0.0, 0.0, ..., 0.0, 2.7, 14.2]], dtype=object)"
            ]
          },
          "execution_count": 71,
          "metadata": {},
          "output_type": "execute_result"
        }
      ],
      "source": [
        "\"\"\" taking care of categorical data in conditions column \"\"\"\n",
        "from sklearn.compose import ColumnTransformer\n",
        "from sklearn.preprocessing import OneHotEncoder\n",
        "\n",
        "ct = ColumnTransformer(\n",
        "    transformers=[(\"encoder\", OneHotEncoder(), [-1])], remainder=\"passthrough\"\n",
        ")\n",
        "X = np.array(ct.fit_transform(X))\n",
        "X"
      ]
    },
    {
      "cell_type": "code",
      "execution_count": 72,
      "metadata": {},
      "outputs": [],
      "source": [
        "X_train, X_test, y_train, y_test = train_test_split(\n",
        "    X, y, test_size=0.25, random_state=0\n",
        ")"
      ]
    },
    {
      "cell_type": "code",
      "execution_count": 73,
      "metadata": {
        "colab": {
          "base_uri": "https://localhost:8080/"
        },
        "id": "_E5DsEll9c3h",
        "outputId": "4bf77978-eb93-46d7-8180-f2dc6ef47da2"
      },
      "outputs": [
        {
          "data": {
            "text/plain": [
              "(3257, 15)"
            ]
          },
          "execution_count": 73,
          "metadata": {},
          "output_type": "execute_result"
        }
      ],
      "source": [
        "X_train.shape"
      ]
    },
    {
      "cell_type": "code",
      "execution_count": 74,
      "metadata": {
        "colab": {
          "base_uri": "https://localhost:8080/"
        },
        "id": "O1WLdbV79c3h",
        "outputId": "7f3d4cb1-59c2-4e76-9346-4fc8087e2ae4"
      },
      "outputs": [
        {
          "data": {
            "text/plain": [
              "(3257,)"
            ]
          },
          "execution_count": 74,
          "metadata": {},
          "output_type": "execute_result"
        }
      ],
      "source": [
        "y_train.shape"
      ]
    },
    {
      "cell_type": "code",
      "execution_count": 75,
      "metadata": {},
      "outputs": [
        {
          "data": {
            "text/plain": [
              "(1086, 15)"
            ]
          },
          "execution_count": 75,
          "metadata": {},
          "output_type": "execute_result"
        }
      ],
      "source": [
        "X_test.shape"
      ]
    },
    {
      "cell_type": "code",
      "execution_count": 76,
      "metadata": {},
      "outputs": [
        {
          "data": {
            "text/plain": [
              "(1086,)"
            ]
          },
          "execution_count": 76,
          "metadata": {},
          "output_type": "execute_result"
        }
      ],
      "source": [
        "y_test.shape"
      ]
    },
    {
      "cell_type": "code",
      "execution_count": 77,
      "metadata": {
        "colab": {
          "base_uri": "https://localhost:8080/"
        },
        "id": "RhIsOKrl9c3h",
        "outputId": "5f5cb870-8303-41bd-a736-e82bea9a9413"
      },
      "outputs": [
        {
          "data": {
            "text/plain": [
              "array([0.0, 1.0, 0.0, 0.0, 0.0, 0.0, 0.0, 0.0, 0.0, 11.4, -1.0, 80.74,\n",
              "       0.0, 13.7, 100.0], dtype=object)"
            ]
          },
          "execution_count": 77,
          "metadata": {},
          "output_type": "execute_result"
        }
      ],
      "source": [
        "X_train[0]"
      ]
    },
    {
      "cell_type": "code",
      "execution_count": 78,
      "metadata": {},
      "outputs": [
        {
          "data": {
            "text/plain": [
              "38.3"
            ]
          },
          "execution_count": 78,
          "metadata": {},
          "output_type": "execute_result"
        }
      ],
      "source": [
        "y_train[0]"
      ]
    },
    {
      "cell_type": "code",
      "execution_count": 79,
      "metadata": {
        "colab": {
          "base_uri": "https://localhost:8080/"
        },
        "id": "ojNfMQfT9c3h",
        "outputId": "1c18cbac-4698-4297-c0b9-4128663afae4"
      },
      "outputs": [
        {
          "data": {
            "text/plain": [
              "array([0.0, 1.0, 0.0, 0.0, 0.0, 0.0, 0.0, 0.0, 0.0, 0.332,\n",
              "       0.16289592760180993, 0.7760204674962204, 0.0, 0.28781512605042014,\n",
              "       1.0], dtype=object)"
            ]
          },
          "execution_count": 79,
          "metadata": {},
          "output_type": "execute_result"
        }
      ],
      "source": [
        "\"\"\" Scaling data \"\"\"\n",
        "from sklearn.preprocessing import MinMaxScaler\n",
        "\n",
        "sc = MinMaxScaler()\n",
        "X_train[:, 9:] = sc.fit_transform(X_train[:, 9:])\n",
        "X_test[:, 9:] = sc.transform(X_test[:, 9:])\n",
        "X_train[0]"
      ]
    },
    {
      "cell_type": "code",
      "execution_count": 80,
      "metadata": {
        "colab": {
          "base_uri": "https://localhost:8080/"
        },
        "id": "OSE8famf9c3h",
        "outputId": "65d0ffa3-6f4f-4a5d-c607-26ffd64367c0"
      },
      "outputs": [
        {
          "data": {
            "text/plain": [
              "array([0.0, 1.0, 0.0, 0.0, 0.0, 0.0, 0.0, 0.0, 0.0, 0.332,\n",
              "       0.16289592760180993, 0.7760204674962204, 0.0, 0.28781512605042014,\n",
              "       1.0], dtype=object)"
            ]
          },
          "execution_count": 80,
          "metadata": {},
          "output_type": "execute_result"
        }
      ],
      "source": [
        "X_train[0]"
      ]
    },
    {
      "cell_type": "code",
      "execution_count": 81,
      "metadata": {
        "colab": {
          "base_uri": "https://localhost:8080/"
        },
        "id": "dfSQ2IjN9c3h",
        "outputId": "784cae62-3bd9-4482-c0b5-7890037beca5"
      },
      "outputs": [
        {
          "data": {
            "text/plain": [
              "array([0.0, 0.0, 1.0, 0.0, 0.0, 0.0, 0.0, 0.0, 0.0, 0.284,\n",
              "       0.5294117647058824, 0.18478892894522617, 0.0, 0.22478991596638653,\n",
              "       0.741], dtype=object)"
            ]
          },
          "execution_count": 81,
          "metadata": {},
          "output_type": "execute_result"
        }
      ],
      "source": [
        "X_test[0]"
      ]
    },
    {
      "cell_type": "code",
      "execution_count": 82,
      "metadata": {
        "colab": {
          "base_uri": "https://localhost:8080/"
        },
        "id": "bYwC59k99c3h",
        "outputId": "493b5446-17bb-42db-a63e-c74a6e5ed952"
      },
      "outputs": [
        {
          "data": {
            "text/plain": [
              "(15,)"
            ]
          },
          "execution_count": 82,
          "metadata": {},
          "output_type": "execute_result"
        }
      ],
      "source": [
        "X_train[0].shape"
      ]
    },
    {
      "cell_type": "markdown",
      "metadata": {},
      "source": [
        "<h1>ANN model </h1>\n"
      ]
    },
    {
      "cell_type": "code",
      "execution_count": 83,
      "metadata": {
        "id": "bt6Goepy9c3h"
      },
      "outputs": [],
      "source": [
        "\"\"\" Model \"\"\"\n",
        "model = keras.Sequential(\n",
        "    [\n",
        "        keras.layers.Dense(15, activation=keras.activations.relu),\n",
        "        keras.layers.Dense(8, activation=keras.activations.relu),\n",
        "        keras.layers.Dense(4, activation=keras.activations.relu),\n",
        "        keras.layers.Dense(2, activation=keras.activations.relu),\n",
        "        keras.layers.Dense(1),\n",
        "    ]\n",
        ")"
      ]
    },
    {
      "cell_type": "code",
      "execution_count": 84,
      "metadata": {
        "id": "Jw83hsOg9c3h"
      },
      "outputs": [],
      "source": [
        "model.compile(\n",
        "    optimizer=keras.optimizers.Adam(),\n",
        "    loss=keras.losses.mean_squared_error,\n",
        "    metrics=keras.metrics.mean_absolute_error,\n",
        ")"
      ]
    },
    {
      "cell_type": "code",
      "execution_count": 85,
      "metadata": {
        "id": "CmPdxKMY9c3i"
      },
      "outputs": [],
      "source": [
        "X_train = np.asarray(X_train).astype(\"float32\")\n",
        "y_train = np.asarray(y_train).astype(\"float32\")"
      ]
    },
    {
      "cell_type": "code",
      "execution_count": 86,
      "metadata": {
        "colab": {
          "base_uri": "https://localhost:8080/"
        },
        "id": "PRR_city9c3i",
        "outputId": "3a77d91f-dbb5-4743-f51f-a01b1c148207"
      },
      "outputs": [
        {
          "data": {
            "text/plain": [
              "array([0.        , 1.        , 0.        , 0.        , 0.        ,\n",
              "       0.        , 0.        , 0.        , 0.        , 0.332     ,\n",
              "       0.16289593, 0.77602047, 0.        , 0.28781512, 1.        ],\n",
              "      dtype=float32)"
            ]
          },
          "execution_count": 86,
          "metadata": {},
          "output_type": "execute_result"
        }
      ],
      "source": [
        "X_train[0]"
      ]
    },
    {
      "cell_type": "code",
      "execution_count": 87,
      "metadata": {
        "colab": {
          "base_uri": "https://localhost:8080/"
        },
        "id": "7LeFT5G_9c3i",
        "outputId": "81b15a0a-b223-4517-899a-650456e116aa"
      },
      "outputs": [
        {
          "name": "stdout",
          "output_type": "stream",
          "text": [
            "Epoch 1/15\n"
          ]
        },
        {
          "name": "stdout",
          "output_type": "stream",
          "text": [
            "102/102 [==============================] - 1s 969us/step - loss: 986.7140 - mean_absolute_error: 30.8725\n",
            "Epoch 2/15\n",
            "102/102 [==============================] - 0s 1ms/step - loss: 468.9381 - mean_absolute_error: 19.5445\n",
            "Epoch 3/15\n",
            "102/102 [==============================] - 0s 937us/step - loss: 69.6141 - mean_absolute_error: 7.3457\n",
            "Epoch 4/15\n",
            "102/102 [==============================] - 0s 1ms/step - loss: 57.8462 - mean_absolute_error: 6.6808\n",
            "Epoch 5/15\n",
            "102/102 [==============================] - 0s 915us/step - loss: 49.0444 - mean_absolute_error: 6.1255\n",
            "Epoch 6/15\n",
            "102/102 [==============================] - 0s 997us/step - loss: 41.2595 - mean_absolute_error: 5.5662\n",
            "Epoch 7/15\n",
            "102/102 [==============================] - 0s 959us/step - loss: 32.4546 - mean_absolute_error: 4.8793\n",
            "Epoch 8/15\n",
            "102/102 [==============================] - 0s 1ms/step - loss: 25.9632 - mean_absolute_error: 4.2463\n",
            "Epoch 9/15\n",
            "102/102 [==============================] - 0s 940us/step - loss: 21.6345 - mean_absolute_error: 3.8099\n",
            "Epoch 10/15\n",
            "102/102 [==============================] - 0s 1ms/step - loss: 19.0393 - mean_absolute_error: 3.5208\n",
            "Epoch 11/15\n",
            "102/102 [==============================] - 0s 959us/step - loss: 17.5146 - mean_absolute_error: 3.3590\n",
            "Epoch 12/15\n",
            "102/102 [==============================] - 0s 1ms/step - loss: 16.5540 - mean_absolute_error: 3.2598\n",
            "Epoch 13/15\n",
            "102/102 [==============================] - 0s 968us/step - loss: 16.0295 - mean_absolute_error: 3.2136\n",
            "Epoch 14/15\n",
            "102/102 [==============================] - 0s 1ms/step - loss: 15.5716 - mean_absolute_error: 3.1839\n",
            "Epoch 15/15\n",
            "102/102 [==============================] - 0s 934us/step - loss: 15.2391 - mean_absolute_error: 3.1393\n",
            "Model: \"sequential_1\"\n",
            "_________________________________________________________________\n",
            " Layer (type)                Output Shape              Param #   \n",
            "=================================================================\n",
            " dense_5 (Dense)             (None, 15)                240       \n",
            "                                                                 \n",
            " dense_6 (Dense)             (None, 8)                 128       \n",
            "                                                                 \n",
            " dense_7 (Dense)             (None, 4)                 36        \n",
            "                                                                 \n",
            " dense_8 (Dense)             (None, 2)                 10        \n",
            "                                                                 \n",
            " dense_9 (Dense)             (None, 1)                 3         \n",
            "                                                                 \n",
            "=================================================================\n",
            "Total params: 417 (1.63 KB)\n",
            "Trainable params: 417 (1.63 KB)\n",
            "Non-trainable params: 0 (0.00 Byte)\n",
            "_________________________________________________________________\n"
          ]
        }
      ],
      "source": [
        "history = model.fit(X_train, y_train, epochs=15)\n",
        "model.summary()"
      ]
    },
    {
      "cell_type": "code",
      "execution_count": 88,
      "metadata": {
        "colab": {
          "base_uri": "https://localhost:8080/",
          "height": 472
        },
        "id": "lwpk4EUcEX-8",
        "outputId": "007f05f1-42d2-4832-dcdf-94bf36ae64de"
      },
      "outputs": [
        {
          "data": {
            "image/png": "[encoded data removed]",
            "text/plain": [
              "<Figure size 640x480 with 1 Axes>"
            ]
          },
          "metadata": {},
          "output_type": "display_data"
        }
      ],
      "source": [
        "plt.plot(history.history[\"loss\"])\n",
        "plt.title(\"Training Loss\")\n",
        "plt.xlabel(\"Epoch\")\n",
        "plt.ylabel(\"Loss\")\n",
        "plt.show()"
      ]
    },
    {
      "cell_type": "code",
      "execution_count": 89,
      "metadata": {},
      "outputs": [],
      "source": [
        "X_test = np.asarray(X_test).astype(\"float32\")\n",
        "y_test = np.asarray(y_test).astype(\"float32\")"
      ]
    },
    {
      "cell_type": "code",
      "execution_count": 90,
      "metadata": {
        "colab": {
          "base_uri": "https://localhost:8080/"
        },
        "id": "0IMzm6N39c3i",
        "outputId": "c15bb31f-9137-4e2d-b563-03e037165d2d"
      },
      "outputs": [
        {
          "name": "stdout",
          "output_type": "stream",
          "text": [
            "34/34 [==============================] - 0s 801us/step\n"
          ]
        },
        {
          "data": {
            "text/plain": [
              "array([[31.544752],\n",
              "       [34.888287],\n",
              "       [26.874546],\n",
              "       ...,\n",
              "       [26.974762],\n",
              "       [38.599426],\n",
              "       [38.08196 ]], dtype=float32)"
            ]
          },
          "execution_count": 90,
          "metadata": {},
          "output_type": "execute_result"
        }
      ],
      "source": [
        "y_pred = model.predict(X_test).reshape(-1, 1)\n",
        "y_pred"
      ]
    },
    {
      "cell_type": "code",
      "execution_count": 91,
      "metadata": {
        "colab": {
          "base_uri": "https://localhost:8080/"
        },
        "id": "4ySlX7sl9c3i",
        "outputId": "546f3f03-24fe-4435-d565-b4562f52e8fd"
      },
      "outputs": [
        {
          "name": "stdout",
          "output_type": "stream",
          "text": [
            "3.1731641\n",
            "15.5348215\n"
          ]
        }
      ],
      "source": [
        "from sklearn.metrics import mean_absolute_error, mean_squared_error\n",
        "\n",
        "annMAR = mean_absolute_error(y_test, y_pred)\n",
        "annMSR = mean_squared_error(y_test, y_pred)\n",
        "print(annMAR)\n",
        "print(annMSR)"
      ]
    },
    {
      "cell_type": "code",
      "execution_count": 92,
      "metadata": {
        "id": "VmYntlrn9c3i"
      },
      "outputs": [],
      "source": [
        "to_predit = X_train[0].reshape(-1, X_train.shape[1])"
      ]
    },
    {
      "cell_type": "code",
      "execution_count": 93,
      "metadata": {
        "colab": {
          "base_uri": "https://localhost:8080/"
        },
        "id": "CTvMwxsp9c3i",
        "outputId": "fdd82cd3-16c2-40c0-8b83-14ab57d493aa"
      },
      "outputs": [
        {
          "name": "stdout",
          "output_type": "stream",
          "text": [
            "1/1 [==============================] - 0s 19ms/step\n"
          ]
        },
        {
          "data": {
            "text/plain": [
              "array([[34.48807]], dtype=float32)"
            ]
          },
          "execution_count": 93,
          "metadata": {},
          "output_type": "execute_result"
        }
      ],
      "source": [
        "model.predict(to_predit)"
      ]
    },
    {
      "cell_type": "markdown",
      "metadata": {},
      "source": [
        "<H1>MULTIPLE LINEAR REGRESSION </H1>\n"
      ]
    },
    {
      "cell_type": "code",
      "execution_count": 94,
      "metadata": {},
      "outputs": [
        {
          "data": {
            "text/html": [
              "<style>#sk-container-id-3 {color: black;}#sk-container-id-3 pre{padding: 0;}#sk-container-id-3 div.sk-toggleable {background-color: white;}#sk-container-id-3 label.sk-toggleable__label {cursor: pointer;display: block;width: 100%;margin-bottom: 0;padding: 0.3em;box-sizing: border-box;text-align: center;}#sk-container-id-3 label.sk-toggleable__label-arrow:before {content: \"▸\";float: left;margin-right: 0.25em;color: #696969;}#sk-container-id-3 label.sk-toggleable__label-arrow:hover:before {color: black;}#sk-container-id-3 div.sk-estimator:hover label.sk-toggleable__label-arrow:before {color: black;}#sk-container-id-3 div.sk-toggleable__content {max-height: 0;max-width: 0;overflow: hidden;text-align: left;background-color: #f0f8ff;}#sk-container-id-3 div.sk-toggleable__content pre {margin: 0.2em;color: black;border-radius: 0.25em;background-color: #f0f8ff;}#sk-container-id-3 input.sk-toggleable__control:checked~div.sk-toggleable__content {max-height: 200px;max-width: 100%;overflow: auto;}#sk-container-id-3 input.sk-toggleable__control:checked~label.sk-toggleable__label-arrow:before {content: \"▾\";}#sk-container-id-3 div.sk-estimator input.sk-toggleable__control:checked~label.sk-toggleable__label {background-color: #d4ebff;}#sk-container-id-3 div.sk-label input.sk-toggleable__control:checked~label.sk-toggleable__label {background-color: #d4ebff;}#sk-container-id-3 input.sk-hidden--visually {border: 0;clip: rect(1px 1px 1px 1px);clip: rect(1px, 1px, 1px, 1px);height: 1px;margin: -1px;overflow: hidden;padding: 0;position: absolute;width: 1px;}#sk-container-id-3 div.sk-estimator {font-family: monospace;background-color: #f0f8ff;border: 1px dotted black;border-radius: 0.25em;box-sizing: border-box;margin-bottom: 0.5em;}#sk-container-id-3 div.sk-estimator:hover {background-color: #d4ebff;}#sk-container-id-3 div.sk-parallel-item::after {content: \"\";width: 100%;border-bottom: 1px solid gray;flex-grow: 1;}#sk-container-id-3 div.sk-label:hover label.sk-toggleable__label {background-color: #d4ebff;}#sk-container-id-3 div.sk-serial::before {content: \"\";position: absolute;border-left: 1px solid gray;box-sizing: border-box;top: 0;bottom: 0;left: 50%;z-index: 0;}#sk-container-id-3 div.sk-serial {display: flex;flex-direction: column;align-items: center;background-color: white;padding-right: 0.2em;padding-left: 0.2em;position: relative;}#sk-container-id-3 div.sk-item {position: relative;z-index: 1;}#sk-container-id-3 div.sk-parallel {display: flex;align-items: stretch;justify-content: center;background-color: white;position: relative;}#sk-container-id-3 div.sk-item::before, #sk-container-id-3 div.sk-parallel-item::before {content: \"\";position: absolute;border-left: 1px solid gray;box-sizing: border-box;top: 0;bottom: 0;left: 50%;z-index: -1;}#sk-container-id-3 div.sk-parallel-item {display: flex;flex-direction: column;z-index: 1;position: relative;background-color: white;}#sk-container-id-3 div.sk-parallel-item:first-child::after {align-self: flex-end;width: 50%;}#sk-container-id-3 div.sk-parallel-item:last-child::after {align-self: flex-start;width: 50%;}#sk-container-id-3 div.sk-parallel-item:only-child::after {width: 0;}#sk-container-id-3 div.sk-dashed-wrapped {border: 1px dashed gray;margin: 0 0.4em 0.5em 0.4em;box-sizing: border-box;padding-bottom: 0.4em;background-color: white;}#sk-container-id-3 div.sk-label label {font-family: monospace;font-weight: bold;display: inline-block;line-height: 1.2em;}#sk-container-id-3 div.sk-label-container {text-align: center;}#sk-container-id-3 div.sk-container {/* jupyter's `normalize.less` sets `[hidden] { display: none; }` but bootstrap.min.css set `[hidden] { display: none !important; }` so we also need the `!important` here to be able to override the default hidden behavior on the sphinx rendered scikit-learn.org. See: https://github.com/scikit-learn/scikit-learn/issues/21755 */display: inline-block !important;position: relative;}#sk-container-id-3 div.sk-text-repr-fallback {display: none;}</style><div id=\"sk-container-id-3\" class=\"sk-top-container\"><div class=\"sk-text-repr-fallback\"><pre>LinearRegression()</pre><b>In a Jupyter environment, please rerun this cell to show the HTML representation or trust the notebook. <br />On GitHub, the HTML representation is unable to render, please try loading this page with nbviewer.org.</b></div><div class=\"sk-container\" hidden><div class=\"sk-item\"><div class=\"sk-estimator sk-toggleable\"><input class=\"sk-toggleable__control sk-hidden--visually\" id=\"sk-estimator-id-3\" type=\"checkbox\" checked><label for=\"sk-estimator-id-3\" class=\"sk-toggleable__label sk-toggleable__label-arrow\">LinearRegression</label><div class=\"sk-toggleable__content\"><pre>LinearRegression()</pre></div></div></div></div></div>"
            ],
            "text/plain": [
              "LinearRegression()"
            ]
          },
          "execution_count": 94,
          "metadata": {},
          "output_type": "execute_result"
        }
      ],
      "source": [
        "from sklearn.linear_model import LinearRegression\n",
        "\n",
        "mlrModel = LinearRegression()\n",
        "mlrModel.fit(X_train, y_train)"
      ]
    },
    {
      "cell_type": "code",
      "execution_count": 95,
      "metadata": {},
      "outputs": [],
      "source": [
        "mlr_ypred = mlrModel.predict(X_test)"
      ]
    },
    {
      "cell_type": "code",
      "execution_count": 96,
      "metadata": {},
      "outputs": [
        {
          "name": "stdout",
          "output_type": "stream",
          "text": [
            "2.9240415\n",
            "12.928233\n"
          ]
        }
      ],
      "source": [
        "mlr_MAR = mean_absolute_error(y_test, mlr_ypred)\n",
        "mlr_MSR = mean_squared_error(y_test, mlr_ypred)\n",
        "print(mlr_MAR)\n",
        "print(mlr_MSR)"
      ]
    },
    {
      "cell_type": "markdown",
      "metadata": {},
      "source": [
        "<h1>DECISION TREE REGRESSION </H1>\n"
      ]
    },
    {
      "cell_type": "code",
      "execution_count": 97,
      "metadata": {},
      "outputs": [],
      "source": [
        "from sklearn.tree import DecisionTreeRegressor"
      ]
    },
    {
      "cell_type": "code",
      "execution_count": 98,
      "metadata": {},
      "outputs": [
        {
          "data": {
            "text/html": [
              "<style>#sk-container-id-4 {color: black;}#sk-container-id-4 pre{padding: 0;}#sk-container-id-4 div.sk-toggleable {background-color: white;}#sk-container-id-4 label.sk-toggleable__label {cursor: pointer;display: block;width: 100%;margin-bottom: 0;padding: 0.3em;box-sizing: border-box;text-align: center;}#sk-container-id-4 label.sk-toggleable__label-arrow:before {content: \"▸\";float: left;margin-right: 0.25em;color: #696969;}#sk-container-id-4 label.sk-toggleable__label-arrow:hover:before {color: black;}#sk-container-id-4 div.sk-estimator:hover label.sk-toggleable__label-arrow:before {color: black;}#sk-container-id-4 div.sk-toggleable__content {max-height: 0;max-width: 0;overflow: hidden;text-align: left;background-color: #f0f8ff;}#sk-container-id-4 div.sk-toggleable__content pre {margin: 0.2em;color: black;border-radius: 0.25em;background-color: #f0f8ff;}#sk-container-id-4 input.sk-toggleable__control:checked~div.sk-toggleable__content {max-height: 200px;max-width: 100%;overflow: auto;}#sk-container-id-4 input.sk-toggleable__control:checked~label.sk-toggleable__label-arrow:before {content: \"▾\";}#sk-container-id-4 div.sk-estimator input.sk-toggleable__control:checked~label.sk-toggleable__label {background-color: #d4ebff;}#sk-container-id-4 div.sk-label input.sk-toggleable__control:checked~label.sk-toggleable__label {background-color: #d4ebff;}#sk-container-id-4 input.sk-hidden--visually {border: 0;clip: rect(1px 1px 1px 1px);clip: rect(1px, 1px, 1px, 1px);height: 1px;margin: -1px;overflow: hidden;padding: 0;position: absolute;width: 1px;}#sk-container-id-4 div.sk-estimator {font-family: monospace;background-color: #f0f8ff;border: 1px dotted black;border-radius: 0.25em;box-sizing: border-box;margin-bottom: 0.5em;}#sk-container-id-4 div.sk-estimator:hover {background-color: #d4ebff;}#sk-container-id-4 div.sk-parallel-item::after {content: \"\";width: 100%;border-bottom: 1px solid gray;flex-grow: 1;}#sk-container-id-4 div.sk-label:hover label.sk-toggleable__label {background-color: #d4ebff;}#sk-container-id-4 div.sk-serial::before {content: \"\";position: absolute;border-left: 1px solid gray;box-sizing: border-box;top: 0;bottom: 0;left: 50%;z-index: 0;}#sk-container-id-4 div.sk-serial {display: flex;flex-direction: column;align-items: center;background-color: white;padding-right: 0.2em;padding-left: 0.2em;position: relative;}#sk-container-id-4 div.sk-item {position: relative;z-index: 1;}#sk-container-id-4 div.sk-parallel {display: flex;align-items: stretch;justify-content: center;background-color: white;position: relative;}#sk-container-id-4 div.sk-item::before, #sk-container-id-4 div.sk-parallel-item::before {content: \"\";position: absolute;border-left: 1px solid gray;box-sizing: border-box;top: 0;bottom: 0;left: 50%;z-index: -1;}#sk-container-id-4 div.sk-parallel-item {display: flex;flex-direction: column;z-index: 1;position: relative;background-color: white;}#sk-container-id-4 div.sk-parallel-item:first-child::after {align-self: flex-end;width: 50%;}#sk-container-id-4 div.sk-parallel-item:last-child::after {align-self: flex-start;width: 50%;}#sk-container-id-4 div.sk-parallel-item:only-child::after {width: 0;}#sk-container-id-4 div.sk-dashed-wrapped {border: 1px dashed gray;margin: 0 0.4em 0.5em 0.4em;box-sizing: border-box;padding-bottom: 0.4em;background-color: white;}#sk-container-id-4 div.sk-label label {font-family: monospace;font-weight: bold;display: inline-block;line-height: 1.2em;}#sk-container-id-4 div.sk-label-container {text-align: center;}#sk-container-id-4 div.sk-container {/* jupyter's `normalize.less` sets `[hidden] { display: none; }` but bootstrap.min.css set `[hidden] { display: none !important; }` so we also need the `!important` here to be able to override the default hidden behavior on the sphinx rendered scikit-learn.org. See: https://github.com/scikit-learn/scikit-learn/issues/21755 */display: inline-block !important;position: relative;}#sk-container-id-4 div.sk-text-repr-fallback {display: none;}</style><div id=\"sk-container-id-4\" class=\"sk-top-container\"><div class=\"sk-text-repr-fallback\"><pre>DecisionTreeRegressor(random_state=0)</pre><b>In a Jupyter environment, please rerun this cell to show the HTML representation or trust the notebook. <br />On GitHub, the HTML representation is unable to render, please try loading this page with nbviewer.org.</b></div><div class=\"sk-container\" hidden><div class=\"sk-item\"><div class=\"sk-estimator sk-toggleable\"><input class=\"sk-toggleable__control sk-hidden--visually\" id=\"sk-estimator-id-4\" type=\"checkbox\" checked><label for=\"sk-estimator-id-4\" class=\"sk-toggleable__label sk-toggleable__label-arrow\">DecisionTreeRegressor</label><div class=\"sk-toggleable__content\"><pre>DecisionTreeRegressor(random_state=0)</pre></div></div></div></div></div>"
            ],
            "text/plain": [
              "DecisionTreeRegressor(random_state=0)"
            ]
          },
          "execution_count": 98,
          "metadata": {},
          "output_type": "execute_result"
        }
      ],
      "source": [
        "dtr = DecisionTreeRegressor(random_state=0)\n",
        "dtr.fit(X_train, y_train)"
      ]
    },
    {
      "cell_type": "code",
      "execution_count": 99,
      "metadata": {},
      "outputs": [
        {
          "data": {
            "text/plain": [
              "array([0.        , 1.        , 0.        , 0.        , 0.        ,\n",
              "       0.        , 0.        , 0.        , 0.        , 0.332     ,\n",
              "       0.16289593, 0.77602047, 0.        , 0.28781512, 1.        ],\n",
              "      dtype=float32)"
            ]
          },
          "execution_count": 99,
          "metadata": {},
          "output_type": "execute_result"
        }
      ],
      "source": [
        "X_train[0]"
      ]
    },
    {
      "cell_type": "code",
      "execution_count": 100,
      "metadata": {},
      "outputs": [],
      "source": [
        "dtr_ypred = dtr.predict(X_test)"
      ]
    },
    {
      "cell_type": "code",
      "execution_count": 101,
      "metadata": {},
      "outputs": [
        {
          "data": {
            "text/plain": [
              "array([32.29999924, 41.09999847, 27.79999924, ..., 21.79999924,\n",
              "       34.5       , 35.40000153])"
            ]
          },
          "execution_count": 101,
          "metadata": {},
          "output_type": "execute_result"
        }
      ],
      "source": [
        "dtr_ypred"
      ]
    },
    {
      "cell_type": "code",
      "execution_count": 102,
      "metadata": {},
      "outputs": [
        {
          "name": "stdout",
          "output_type": "stream",
          "text": [
            "1.7883056584423198\n",
            "10.849437966322013\n"
          ]
        }
      ],
      "source": [
        "from sklearn.metrics import mean_absolute_error, mean_squared_error\n",
        "\n",
        "print(mean_absolute_error(y_test, dtr_ypred))\n",
        "print(mean_squared_error(y_test, dtr_ypred))"
      ]
    },
    {
      "cell_type": "code",
      "execution_count": 103,
      "metadata": {},
      "outputs": [],
      "source": [
        "comp = np.concatenate(\n",
        "    (\n",
        "        y_test.reshape(len(y_test), 1),\n",
        "        mlr_ypred.reshape(len(y_pred), 1),\n",
        "        y_pred.reshape(len(y_pred), 1),\n",
        "        dtr_ypred.reshape(len(y_pred), 1),\n",
        "    ),\n",
        "    1,\n",
        ")"
      ]
    },
    {
      "cell_type": "code",
      "execution_count": 104,
      "metadata": {},
      "outputs": [],
      "source": [
        "comparison = pd.DataFrame(\n",
        "    comp, columns=[\"ytest\", \"mlr_ypred\", \"ann_ypred\", \"dtr_ypred\"]\n",
        ").to_csv(\"model comparison.csv\")"
      ]
    },
    {
      "cell_type": "code",
      "execution_count": 105,
      "metadata": {},
      "outputs": [],
      "source": [
        "import joblib"
      ]
    },
    {
      "cell_type": "code",
      "execution_count": 106,
      "metadata": {},
      "outputs": [
        {
          "data": {
            "text/plain": [
              "['final_model/dtr.bin']"
            ]
          },
          "execution_count": 106,
          "metadata": {},
          "output_type": "execute_result"
        }
      ],
      "source": [
        "joblib.dump(dtr, filename=\"final_model/dtr.bin\")"
      ]
    },
    {
      "cell_type": "code",
      "execution_count": 108,
      "metadata": {},
      "outputs": [
        {
          "data": {
            "text/plain": [
              "<matplotlib.collections.PathCollection at 0x23e6e78d8d0>"
            ]
          },
          "execution_count": 108,
          "metadata": {},
          "output_type": "execute_result"
        },
        {
          "data": {
            "image/png": "[encoded data removed]",
            "text/plain": [
              "<Figure size 640x480 with 1 Axes>"
            ]
          },
          "metadata": {},
          "output_type": "display_data"
        }
      ],
      "source": [
        "plt.scatter(y_test, y_test, color=\"green\")\n",
        "plt.scatter(y_test, y_pred, color=\"red\")"
      ]
    },
    {
      "cell_type": "markdown",
      "metadata": {},
      "source": [
        "<h1>SVR</h1>"
      ]
    },
    {
      "cell_type": "code",
      "execution_count": 109,
      "metadata": {},
      "outputs": [
        {
          "data": {
            "text/html": [
              "<style>#sk-container-id-5 {color: black;}#sk-container-id-5 pre{padding: 0;}#sk-container-id-5 div.sk-toggleable {background-color: white;}#sk-container-id-5 label.sk-toggleable__label {cursor: pointer;display: block;width: 100%;margin-bottom: 0;padding: 0.3em;box-sizing: border-box;text-align: center;}#sk-container-id-5 label.sk-toggleable__label-arrow:before {content: \"▸\";float: left;margin-right: 0.25em;color: #696969;}#sk-container-id-5 label.sk-toggleable__label-arrow:hover:before {color: black;}#sk-container-id-5 div.sk-estimator:hover label.sk-toggleable__label-arrow:before {color: black;}#sk-container-id-5 div.sk-toggleable__content {max-height: 0;max-width: 0;overflow: hidden;text-align: left;background-color: #f0f8ff;}#sk-container-id-5 div.sk-toggleable__content pre {margin: 0.2em;color: black;border-radius: 0.25em;background-color: #f0f8ff;}#sk-container-id-5 input.sk-toggleable__control:checked~div.sk-toggleable__content {max-height: 200px;max-width: 100%;overflow: auto;}#sk-container-id-5 input.sk-toggleable__control:checked~label.sk-toggleable__label-arrow:before {content: \"▾\";}#sk-container-id-5 div.sk-estimator input.sk-toggleable__control:checked~label.sk-toggleable__label {background-color: #d4ebff;}#sk-container-id-5 div.sk-label input.sk-toggleable__control:checked~label.sk-toggleable__label {background-color: #d4ebff;}#sk-container-id-5 input.sk-hidden--visually {border: 0;clip: rect(1px 1px 1px 1px);clip: rect(1px, 1px, 1px, 1px);height: 1px;margin: -1px;overflow: hidden;padding: 0;position: absolute;width: 1px;}#sk-container-id-5 div.sk-estimator {font-family: monospace;background-color: #f0f8ff;border: 1px dotted black;border-radius: 0.25em;box-sizing: border-box;margin-bottom: 0.5em;}#sk-container-id-5 div.sk-estimator:hover {background-color: #d4ebff;}#sk-container-id-5 div.sk-parallel-item::after {content: \"\";width: 100%;border-bottom: 1px solid gray;flex-grow: 1;}#sk-container-id-5 div.sk-label:hover label.sk-toggleable__label {background-color: #d4ebff;}#sk-container-id-5 div.sk-serial::before {content: \"\";position: absolute;border-left: 1px solid gray;box-sizing: border-box;top: 0;bottom: 0;left: 50%;z-index: 0;}#sk-container-id-5 div.sk-serial {display: flex;flex-direction: column;align-items: center;background-color: white;padding-right: 0.2em;padding-left: 0.2em;position: relative;}#sk-container-id-5 div.sk-item {position: relative;z-index: 1;}#sk-container-id-5 div.sk-parallel {display: flex;align-items: stretch;justify-content: center;background-color: white;position: relative;}#sk-container-id-5 div.sk-item::before, #sk-container-id-5 div.sk-parallel-item::before {content: \"\";position: absolute;border-left: 1px solid gray;box-sizing: border-box;top: 0;bottom: 0;left: 50%;z-index: -1;}#sk-container-id-5 div.sk-parallel-item {display: flex;flex-direction: column;z-index: 1;position: relative;background-color: white;}#sk-container-id-5 div.sk-parallel-item:first-child::after {align-self: flex-end;width: 50%;}#sk-container-id-5 div.sk-parallel-item:last-child::after {align-self: flex-start;width: 50%;}#sk-container-id-5 div.sk-parallel-item:only-child::after {width: 0;}#sk-container-id-5 div.sk-dashed-wrapped {border: 1px dashed gray;margin: 0 0.4em 0.5em 0.4em;box-sizing: border-box;padding-bottom: 0.4em;background-color: white;}#sk-container-id-5 div.sk-label label {font-family: monospace;font-weight: bold;display: inline-block;line-height: 1.2em;}#sk-container-id-5 div.sk-label-container {text-align: center;}#sk-container-id-5 div.sk-container {/* jupyter's `normalize.less` sets `[hidden] { display: none; }` but bootstrap.min.css set `[hidden] { display: none !important; }` so we also need the `!important` here to be able to override the default hidden behavior on the sphinx rendered scikit-learn.org. See: https://github.com/scikit-learn/scikit-learn/issues/21755 */display: inline-block !important;position: relative;}#sk-container-id-5 div.sk-text-repr-fallback {display: none;}</style><div id=\"sk-container-id-5\" class=\"sk-top-container\"><div class=\"sk-text-repr-fallback\"><pre>SVR()</pre><b>In a Jupyter environment, please rerun this cell to show the HTML representation or trust the notebook. <br />On GitHub, the HTML representation is unable to render, please try loading this page with nbviewer.org.</b></div><div class=\"sk-container\" hidden><div class=\"sk-item\"><div class=\"sk-estimator sk-toggleable\"><input class=\"sk-toggleable__control sk-hidden--visually\" id=\"sk-estimator-id-5\" type=\"checkbox\" checked><label for=\"sk-estimator-id-5\" class=\"sk-toggleable__label sk-toggleable__label-arrow\">SVR</label><div class=\"sk-toggleable__content\"><pre>SVR()</pre></div></div></div></div></div>"
            ],
            "text/plain": [
              "SVR()"
            ]
          },
          "execution_count": 109,
          "metadata": {},
          "output_type": "execute_result"
        }
      ],
      "source": [
        "from sklearn.svm import SVR\n",
        "\n",
        "regressor = SVR(kernel=\"rbf\")\n",
        "regressor.fit(X_train, y_train)"
      ]
    },
    {
      "cell_type": "code",
      "execution_count": 111,
      "metadata": {},
      "outputs": [],
      "source": [
        "svr_ypred = regressor.predict(X_test)"
      ]
    },
    {
      "cell_type": "code",
      "execution_count": 112,
      "metadata": {},
      "outputs": [
        {
          "data": {
            "text/plain": [
              "2.4475969739607235"
            ]
          },
          "execution_count": 112,
          "metadata": {},
          "output_type": "execute_result"
        }
      ],
      "source": [
        "mean_absolute_error(y_test, svr_ypred)"
      ]
    },
    {
      "cell_type": "code",
      "execution_count": 113,
      "metadata": {},
      "outputs": [
        {
          "data": {
            "text/plain": [
              "11.561017547228465"
            ]
          },
          "execution_count": 113,
          "metadata": {},
          "output_type": "execute_result"
        }
      ],
      "source": [
        "mean_squared_error(y_test, svr_ypred)"
      ]
    },
    {
      "cell_type": "code",
      "execution_count": 117,
      "metadata": {},
      "outputs": [
        {
          "data": {
            "text/html": [
              "<style>#sk-container-id-7 {color: black;}#sk-container-id-7 pre{padding: 0;}#sk-container-id-7 div.sk-toggleable {background-color: white;}#sk-container-id-7 label.sk-toggleable__label {cursor: pointer;display: block;width: 100%;margin-bottom: 0;padding: 0.3em;box-sizing: border-box;text-align: center;}#sk-container-id-7 label.sk-toggleable__label-arrow:before {content: \"▸\";float: left;margin-right: 0.25em;color: #696969;}#sk-container-id-7 label.sk-toggleable__label-arrow:hover:before {color: black;}#sk-container-id-7 div.sk-estimator:hover label.sk-toggleable__label-arrow:before {color: black;}#sk-container-id-7 div.sk-toggleable__content {max-height: 0;max-width: 0;overflow: hidden;text-align: left;background-color: #f0f8ff;}#sk-container-id-7 div.sk-toggleable__content pre {margin: 0.2em;color: black;border-radius: 0.25em;background-color: #f0f8ff;}#sk-container-id-7 input.sk-toggleable__control:checked~div.sk-toggleable__content {max-height: 200px;max-width: 100%;overflow: auto;}#sk-container-id-7 input.sk-toggleable__control:checked~label.sk-toggleable__label-arrow:before {content: \"▾\";}#sk-container-id-7 div.sk-estimator input.sk-toggleable__control:checked~label.sk-toggleable__label {background-color: #d4ebff;}#sk-container-id-7 div.sk-label input.sk-toggleable__control:checked~label.sk-toggleable__label {background-color: #d4ebff;}#sk-container-id-7 input.sk-hidden--visually {border: 0;clip: rect(1px 1px 1px 1px);clip: rect(1px, 1px, 1px, 1px);height: 1px;margin: -1px;overflow: hidden;padding: 0;position: absolute;width: 1px;}#sk-container-id-7 div.sk-estimator {font-family: monospace;background-color: #f0f8ff;border: 1px dotted black;border-radius: 0.25em;box-sizing: border-box;margin-bottom: 0.5em;}#sk-container-id-7 div.sk-estimator:hover {background-color: #d4ebff;}#sk-container-id-7 div.sk-parallel-item::after {content: \"\";width: 100%;border-bottom: 1px solid gray;flex-grow: 1;}#sk-container-id-7 div.sk-label:hover label.sk-toggleable__label {background-color: #d4ebff;}#sk-container-id-7 div.sk-serial::before {content: \"\";position: absolute;border-left: 1px solid gray;box-sizing: border-box;top: 0;bottom: 0;left: 50%;z-index: 0;}#sk-container-id-7 div.sk-serial {display: flex;flex-direction: column;align-items: center;background-color: white;padding-right: 0.2em;padding-left: 0.2em;position: relative;}#sk-container-id-7 div.sk-item {position: relative;z-index: 1;}#sk-container-id-7 div.sk-parallel {display: flex;align-items: stretch;justify-content: center;background-color: white;position: relative;}#sk-container-id-7 div.sk-item::before, #sk-container-id-7 div.sk-parallel-item::before {content: \"\";position: absolute;border-left: 1px solid gray;box-sizing: border-box;top: 0;bottom: 0;left: 50%;z-index: -1;}#sk-container-id-7 div.sk-parallel-item {display: flex;flex-direction: column;z-index: 1;position: relative;background-color: white;}#sk-container-id-7 div.sk-parallel-item:first-child::after {align-self: flex-end;width: 50%;}#sk-container-id-7 div.sk-parallel-item:last-child::after {align-self: flex-start;width: 50%;}#sk-container-id-7 div.sk-parallel-item:only-child::after {width: 0;}#sk-container-id-7 div.sk-dashed-wrapped {border: 1px dashed gray;margin: 0 0.4em 0.5em 0.4em;box-sizing: border-box;padding-bottom: 0.4em;background-color: white;}#sk-container-id-7 div.sk-label label {font-family: monospace;font-weight: bold;display: inline-block;line-height: 1.2em;}#sk-container-id-7 div.sk-label-container {text-align: center;}#sk-container-id-7 div.sk-container {/* jupyter's `normalize.less` sets `[hidden] { display: none; }` but bootstrap.min.css set `[hidden] { display: none !important; }` so we also need the `!important` here to be able to override the default hidden behavior on the sphinx rendered scikit-learn.org. See: https://github.com/scikit-learn/scikit-learn/issues/21755 */display: inline-block !important;position: relative;}#sk-container-id-7 div.sk-text-repr-fallback {display: none;}</style><div id=\"sk-container-id-7\" class=\"sk-top-container\"><div class=\"sk-text-repr-fallback\"><pre>RandomForestRegressor(n_estimators=10, random_state=0)</pre><b>In a Jupyter environment, please rerun this cell to show the HTML representation or trust the notebook. <br />On GitHub, the HTML representation is unable to render, please try loading this page with nbviewer.org.</b></div><div class=\"sk-container\" hidden><div class=\"sk-item\"><div class=\"sk-estimator sk-toggleable\"><input class=\"sk-toggleable__control sk-hidden--visually\" id=\"sk-estimator-id-7\" type=\"checkbox\" checked><label for=\"sk-estimator-id-7\" class=\"sk-toggleable__label sk-toggleable__label-arrow\">RandomForestRegressor</label><div class=\"sk-toggleable__content\"><pre>RandomForestRegressor(n_estimators=10, random_state=0)</pre></div></div></div></div></div>"
            ],
            "text/plain": [
              "RandomForestRegressor(n_estimators=10, random_state=0)"
            ]
          },
          "execution_count": 117,
          "metadata": {},
          "output_type": "execute_result"
        }
      ],
      "source": [
        "from sklearn.ensemble import RandomForestRegressor\n",
        "\n",
        "rfr = RandomForestRegressor(n_estimators=10, random_state=0)\n",
        "rfr.fit(X_train, y_train)"
      ]
    },
    {
      "cell_type": "code",
      "execution_count": 118,
      "metadata": {},
      "outputs": [],
      "source": [
        "rfr_ypred = rfr.predict(X_test)"
      ]
    },
    {
      "cell_type": "code",
      "execution_count": 119,
      "metadata": {},
      "outputs": [
        {
          "data": {
            "text/plain": [
              "1.6493646553208157"
            ]
          },
          "execution_count": 119,
          "metadata": {},
          "output_type": "execute_result"
        }
      ],
      "source": [
        "mean_absolute_error(y_test, rfr_ypred)"
      ]
    },
    {
      "cell_type": "code",
      "execution_count": 120,
      "metadata": {},
      "outputs": [
        {
          "data": {
            "text/plain": [
              "6.517215190126854"
            ]
          },
          "execution_count": 120,
          "metadata": {},
          "output_type": "execute_result"
        }
      ],
      "source": [
        "mean_squared_error(y_test, rfr_ypred)"
      ]
    },
    {
      "cell_type": "code",
      "execution_count": 122,
      "metadata": {},
      "outputs": [],
      "source": [
        "comp = np.concatenate(\n",
        "    (\n",
        "        y_test.reshape(len(y_test), 1),\n",
        "        rfr_ypred.reshape(len(y_test), 1),\n",
        "        dtr_ypred.reshape(len(y_pred), 1),\n",
        "        mlr_ypred.reshape(len(y_pred), 1),\n",
        "        y_pred.reshape(len(y_pred), 1),\n",
        "        svr_ypred.reshape(len(y_pred), 1),\n",
        "    ),\n",
        "    1,\n",
        ")\n",
        "\n",
        "comparison = pd.DataFrame(\n",
        "    comp, columns=[\"ytest\", \"rfr\", \"dtr_ypred\",\n",
        "                   \"mlr_ypred\", \"ann_ypred\", \"SVR\"]\n",
        ").to_csv(\"model comparison.csv\")"
      ]
    },
    {
      "cell_type": "code",
      "execution_count": null,
      "metadata": {},
      "outputs": [],
      "source": []
    }
  ],
  "metadata": {
    "accelerator": "GPU",
    "colab": {
      "gpuType": "T4",
      "provenance": []
    },
    "kernelspec": {
      "display_name": "Python 3",
      "name": "python3"
    },
    "language_info": {
      "codemirror_mode": {
        "name": "ipython",
        "version": 3
      },
      "file_extension": ".py",
      "mimetype": "text/x-python",
      "name": "python",
      "nbconvert_exporter": "python",
      "pygments_lexer": "ipython3",
      "version": "3.11.6"
    }
  },
  "nbformat": 4,
  "nbformat_minor": 0
}
