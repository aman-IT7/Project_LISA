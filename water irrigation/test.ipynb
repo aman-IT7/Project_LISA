{
 "cells": [
  {
   "cell_type": "code",
   "execution_count": 1,
   "metadata": {},
   "outputs": [],
   "source": [
    "import numpy as np\n",
    "import pandas as pd\n",
    "import matplotlib.pyplot as plt\n",
    "import tensorflow as tf\n",
    "from tensorflow import keras\n",
    "import sklearn as sk\n",
    "from sklearn.compose import ColumnTransformer\n",
    "from sklearn.preprocessing import OneHotEncoder\n",
    "from sklearn.preprocessing import MinMaxScaler\n",
    "from sklearn.pipeline import Pipeline"
   ]
  },
  {
   "cell_type": "code",
   "execution_count": 2,
   "metadata": {},
   "outputs": [],
   "source": [
    "dataset = pd.read_csv(\"storage_dataset/prototype_final_dataset.csv\")\n",
    "dataset.drop(\n",
    "    [\n",
    "        \"Date\",\n",
    "        \"SM_2\",\n",
    "        \"SM_8\",\n",
    "        \"SM_20\",\n",
    "        \"SM_40\",\n",
    "        \"ST_2\",\n",
    "        \"ST_8\",\n",
    "        \"ST_20\",\n",
    "        \"ST_40\",\n",
    "        \"solarenergy\",\n",
    "        \"precipprob\",\n",
    "        \"preciptype\",\n",
    "        \"snow\",\n",
    "        \"snowdepth\",\n",
    "        \"windgust\",\n",
    "        \"winddir\",\n",
    "        \"sealevelpressure\",\n",
    "        \"visibility\",\n",
    "        \"solarenergy\",\n",
    "        \"uvindex\",\n",
    "        \"severerisk\",\n",
    "        \"icon\",\n",
    "        \"stations\",\n",
    "        \"dew\",\n",
    "        \"solarradiation\",\n",
    "        \"Time\",\n",
    "        # \"cloudcover\",\n",
    "        \"feelslike\",\n",
    "        # \"windspeed\",\n",
    "    ],\n",
    "    inplace=True,\n",
    "    axis=1,\n",
    ")\n",
    "dataset = dataset.dropna()\n",
    "X_train = dataset.iloc[:, 1:].values\n",
    "y_train = dataset.iloc[:, 0].values"
   ]
  },
  {
   "cell_type": "code",
   "execution_count": 3,
   "metadata": {},
   "outputs": [],
   "source": [
    "\"\"\" Model \"\"\"\n",
    "model = keras.Sequential(\n",
    "    [\n",
    "        keras.layers.Dense(15, activation=keras.activations.relu),\n",
    "        keras.layers.Dense(12, activation=keras.activations.relu),\n",
    "        keras.layers.Dense(8, activation=keras.activations.relu),\n",
    "        keras.layers.Dense(4, activation=keras.activations.relu),\n",
    "        keras.layers.Dense(2, activation=keras.activations.relu),\n",
    "        keras.layers.Dense(1),\n",
    "    ]\n",
    ")\n",
    "\n",
    "model.compile(\n",
    "    optimizer=keras.optimizers.Adam(),\n",
    "    loss=keras.losses.mean_squared_error,\n",
    "    metrics=keras.metrics.mean_absolute_error,\n",
    ")"
   ]
  },
  {
   "cell_type": "code",
   "execution_count": 4,
   "metadata": {},
   "outputs": [
    {
     "ename": "ValueError",
     "evalue": "The first argument to `Layer.call` must always be passed.",
     "output_type": "error",
     "traceback": [
      "\u001b[1;31m---------------------------------------------------------------------------\u001b[0m",
      "\u001b[1;31mValueError\u001b[0m                                Traceback (most recent call last)",
      "\u001b[1;32mc:\\Users\\ganes\\OneDrive\\Documents\\GitHub\\Project_LISA\\water irrigation\\test.ipynb Cell 4\u001b[0m line \u001b[0;36m1\n\u001b[0;32m      <a href='vscode-notebook-cell:/c%3A/Users/ganes/OneDrive/Documents/GitHub/Project_LISA/water%20irrigation/test.ipynb#W0sZmlsZQ%3D%3D?line=0'>1</a>\u001b[0m preprocessor \u001b[39m=\u001b[39m ColumnTransformer(\n\u001b[0;32m      <a href='vscode-notebook-cell:/c%3A/Users/ganes/OneDrive/Documents/GitHub/Project_LISA/water%20irrigation/test.ipynb#W0sZmlsZQ%3D%3D?line=1'>2</a>\u001b[0m     transformers\u001b[39m=\u001b[39m[\n\u001b[0;32m      <a href='vscode-notebook-cell:/c%3A/Users/ganes/OneDrive/Documents/GitHub/Project_LISA/water%20irrigation/test.ipynb#W0sZmlsZQ%3D%3D?line=2'>3</a>\u001b[0m         (\u001b[39m\"\u001b[39m\u001b[39mencoder\u001b[39m\u001b[39m\"\u001b[39m, OneHotEncoder(), [\u001b[39m-\u001b[39m\u001b[39m1\u001b[39m]),  \u001b[39m# Categorical column\u001b[39;00m\n\u001b[1;32m   (...)\u001b[0m\n\u001b[0;32m     <a href='vscode-notebook-cell:/c%3A/Users/ganes/OneDrive/Documents/GitHub/Project_LISA/water%20irrigation/test.ipynb#W0sZmlsZQ%3D%3D?line=9'>10</a>\u001b[0m     remainder\u001b[39m=\u001b[39m\u001b[39m\"\u001b[39m\u001b[39mpassthrough\u001b[39m\u001b[39m\"\u001b[39m,\n\u001b[0;32m     <a href='vscode-notebook-cell:/c%3A/Users/ganes/OneDrive/Documents/GitHub/Project_LISA/water%20irrigation/test.ipynb#W0sZmlsZQ%3D%3D?line=10'>11</a>\u001b[0m )\n\u001b[0;32m     <a href='vscode-notebook-cell:/c%3A/Users/ganes/OneDrive/Documents/GitHub/Project_LISA/water%20irrigation/test.ipynb#W0sZmlsZQ%3D%3D?line=12'>13</a>\u001b[0m \u001b[39m# Define the pipeline with the preprocessor and the model\u001b[39;00m\n\u001b[0;32m     <a href='vscode-notebook-cell:/c%3A/Users/ganes/OneDrive/Documents/GitHub/Project_LISA/water%20irrigation/test.ipynb#W0sZmlsZQ%3D%3D?line=13'>14</a>\u001b[0m pipeline \u001b[39m=\u001b[39m Pipeline(\n\u001b[0;32m     <a href='vscode-notebook-cell:/c%3A/Users/ganes/OneDrive/Documents/GitHub/Project_LISA/water%20irrigation/test.ipynb#W0sZmlsZQ%3D%3D?line=14'>15</a>\u001b[0m     [\n\u001b[0;32m     <a href='vscode-notebook-cell:/c%3A/Users/ganes/OneDrive/Documents/GitHub/Project_LISA/water%20irrigation/test.ipynb#W0sZmlsZQ%3D%3D?line=15'>16</a>\u001b[0m         (\u001b[39m\"\u001b[39m\u001b[39mpreprocessor\u001b[39m\u001b[39m\"\u001b[39m, preprocessor),\n\u001b[0;32m     <a href='vscode-notebook-cell:/c%3A/Users/ganes/OneDrive/Documents/GitHub/Project_LISA/water%20irrigation/test.ipynb#W0sZmlsZQ%3D%3D?line=16'>17</a>\u001b[0m         (\n\u001b[0;32m     <a href='vscode-notebook-cell:/c%3A/Users/ganes/OneDrive/Documents/GitHub/Project_LISA/water%20irrigation/test.ipynb#W0sZmlsZQ%3D%3D?line=17'>18</a>\u001b[0m             \u001b[39m\"\u001b[39m\u001b[39mmodel\u001b[39m\u001b[39m\"\u001b[39m,\n\u001b[1;32m---> <a href='vscode-notebook-cell:/c%3A/Users/ganes/OneDrive/Documents/GitHub/Project_LISA/water%20irrigation/test.ipynb#W0sZmlsZQ%3D%3D?line=18'>19</a>\u001b[0m             model(),\n\u001b[0;32m     <a href='vscode-notebook-cell:/c%3A/Users/ganes/OneDrive/Documents/GitHub/Project_LISA/water%20irrigation/test.ipynb#W0sZmlsZQ%3D%3D?line=19'>20</a>\u001b[0m         ),  \u001b[39m# Example neural network model, modify as needed\u001b[39;00m\n\u001b[0;32m     <a href='vscode-notebook-cell:/c%3A/Users/ganes/OneDrive/Documents/GitHub/Project_LISA/water%20irrigation/test.ipynb#W0sZmlsZQ%3D%3D?line=20'>21</a>\u001b[0m     ]\n\u001b[0;32m     <a href='vscode-notebook-cell:/c%3A/Users/ganes/OneDrive/Documents/GitHub/Project_LISA/water%20irrigation/test.ipynb#W0sZmlsZQ%3D%3D?line=21'>22</a>\u001b[0m )\n",
      "File \u001b[1;32mc:\\Users\\ganes\\AppData\\Local\\Programs\\Python\\Python311\\Lib\\site-packages\\keras\\src\\utils\\traceback_utils.py:70\u001b[0m, in \u001b[0;36mfilter_traceback.<locals>.error_handler\u001b[1;34m(*args, **kwargs)\u001b[0m\n\u001b[0;32m     67\u001b[0m     filtered_tb \u001b[39m=\u001b[39m _process_traceback_frames(e\u001b[39m.\u001b[39m__traceback__)\n\u001b[0;32m     68\u001b[0m     \u001b[39m# To get the full stack trace, call:\u001b[39;00m\n\u001b[0;32m     69\u001b[0m     \u001b[39m# `tf.debugging.disable_traceback_filtering()`\u001b[39;00m\n\u001b[1;32m---> 70\u001b[0m     \u001b[39mraise\u001b[39;00m e\u001b[39m.\u001b[39mwith_traceback(filtered_tb) \u001b[39mfrom\u001b[39;00m \u001b[39mNone\u001b[39;00m\n\u001b[0;32m     71\u001b[0m \u001b[39mfinally\u001b[39;00m:\n\u001b[0;32m     72\u001b[0m     \u001b[39mdel\u001b[39;00m filtered_tb\n",
      "File \u001b[1;32mc:\\Users\\ganes\\AppData\\Local\\Programs\\Python\\Python311\\Lib\\site-packages\\keras\\src\\utils\\layer_utils.py:970\u001b[0m, in \u001b[0;36mCallFunctionSpec.split_out_first_arg\u001b[1;34m(self, args, kwargs)\u001b[0m\n\u001b[0;32m    968\u001b[0m     inputs \u001b[39m=\u001b[39m kwargs\u001b[39m.\u001b[39mpop(\u001b[39mself\u001b[39m\u001b[39m.\u001b[39m_arg_names[\u001b[39m0\u001b[39m])\n\u001b[0;32m    969\u001b[0m \u001b[39melse\u001b[39;00m:\n\u001b[1;32m--> 970\u001b[0m     \u001b[39mraise\u001b[39;00m \u001b[39mValueError\u001b[39;00m(\n\u001b[0;32m    971\u001b[0m         \u001b[39m\"\u001b[39m\u001b[39mThe first argument to `Layer.call` must always be passed.\u001b[39m\u001b[39m\"\u001b[39m\n\u001b[0;32m    972\u001b[0m     )\n\u001b[0;32m    973\u001b[0m \u001b[39mreturn\u001b[39;00m inputs, args, kwargs\n",
      "\u001b[1;31mValueError\u001b[0m: The first argument to `Layer.call` must always be passed."
     ]
    }
   ],
   "source": [
    "preprocessor = ColumnTransformer(\n",
    "    transformers=[\n",
    "        (\"encoder\", OneHotEncoder(), [-1]),  # Categorical column\n",
    "        (\n",
    "            \"scaler\",\n",
    "            MinMaxScaler(),\n",
    "            slice(8, None),\n",
    "        ),  # Numeric columns starting from index 8\n",
    "    ],\n",
    "    remainder=\"passthrough\",\n",
    ")\n",
    "\n",
    "# Define the pipeline with the preprocessor and the model\n",
    "pipeline = Pipeline(\n",
    "    [\n",
    "        (\"preprocessor\", preprocessor),\n",
    "        (\n",
    "            \"model\",\n",
    "            model(),\n",
    "        ),  # Example neural network model, modify as needed\n",
    "    ]\n",
    ")"
   ]
  },
  {
   "cell_type": "code",
   "execution_count": null,
   "metadata": {},
   "outputs": [],
   "source": [
    "X_train = np.asarray(X_train).astype(\"float32\")\n",
    "y_train = np.asarray(y_train).astype(\"float32\")"
   ]
  }
 ],
 "metadata": {
  "kernelspec": {
   "display_name": "Python 3",
   "language": "python",
   "name": "python3"
  },
  "language_info": {
   "codemirror_mode": {
    "name": "ipython",
    "version": 3
   },
   "file_extension": ".py",
   "mimetype": "text/x-python",
   "name": "python",
   "nbconvert_exporter": "python",
   "pygments_lexer": "ipython3",
   "version": "3.11.6"
  }
 },
 "nbformat": 4,
 "nbformat_minor": 2
}
