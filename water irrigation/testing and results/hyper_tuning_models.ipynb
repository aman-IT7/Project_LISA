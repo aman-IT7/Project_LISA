{
 "cells": [
  {
   "cell_type": "code",
   "execution_count": 1,
   "metadata": {},
   "outputs": [
    {
     "name": "stdout",
     "output_type": "stream",
     "text": [
      "WARNING:tensorflow:From c:\\Users\\ganes\\AppData\\Local\\Programs\\Python\\Python311\\Lib\\site-packages\\keras\\src\\losses.py:2976: The name tf.losses.sparse_softmax_cross_entropy is deprecated. Please use tf.compat.v1.losses.sparse_softmax_cross_entropy instead.\n",
      "\n"
     ]
    }
   ],
   "source": [
    "import numpy as np\n",
    "import pandas as pd\n",
    "import matplotlib.pyplot as plt\n",
    "from sklearn.model_selection import train_test_split\n",
    "import keras\n",
    "from keras.callbacks import EarlyStopping\n",
    "from sklearn.metrics import mean_absolute_error, mean_squared_error"
   ]
  },
  {
   "cell_type": "code",
   "execution_count": 2,
   "metadata": {},
   "outputs": [],
   "source": [
    "from sklearn.preprocessing import MinMaxScaler\n",
    "from sklearn.preprocessing import OneHotEncoder\n",
    "from sklearn.compose import ColumnTransformer\n",
    "\n",
    "dataset = pd.read_csv(\n",
    "    \"C:/Users/ganes/OneDrive/Documents/GitHub/Project_LISA/water irrigation/datasets/2022_soil_weather_upgraded_data.csv\"\n",
    ")\n",
    "\n",
    "dataset = dataset.dropna()\n",
    "\n",
    "\n",
    "dataset.drop(\n",
    "    [\n",
    "        \"Date\",\n",
    "        \"Time\",\n",
    "    ],\n",
    "    axis=1,\n",
    "    inplace=True,\n",
    ")\n",
    "\n",
    "X = dataset.iloc[:, 1:].values\n",
    "y = dataset.iloc[:, 0].values\n",
    "\n",
    "\"\"\" taking care of categorical data in conditions column \"\"\"\n",
    "ct = ColumnTransformer(\n",
    "    transformers=[(\"encoder\", OneHotEncoder(), [-1])], remainder=\"passthrough\"\n",
    ")\n",
    "X = np.array(ct.fit_transform(X))\n",
    "X_train, X_test, y_train, y_test = train_test_split(\n",
    "    X, y, test_size=0.15, random_state=0\n",
    ")\n",
    "\n",
    "\"\"\" Scaling data \"\"\"\n",
    "sc = MinMaxScaler()\n",
    "X_train[:, 9:] = sc.fit_transform(X_train[:, 9:])\n",
    "X_test[:, 9:] = sc.transform(X_test[:, 9:])\n",
    "\n",
    "X_train = np.asarray(X_train).astype(np.float32)\n",
    "y_train = np.asarray(y_train).astype(np.float32)\n",
    "X_test = np.asarray(X_train).astype(np.float32)\n",
    "y_test = np.asarray(y_train).astype(np.float32)"
   ]
  },
  {
   "cell_type": "code",
   "execution_count": 3,
   "metadata": {},
   "outputs": [
    {
     "data": {
      "text/plain": [
       "array([0.        , 0.        , 1.        , 0.        , 0.        ,\n",
       "       0.        , 0.        , 0.        , 0.        , 0.00358423,\n",
       "       0.90459365, 0.9559387 , 0.4968922 , 0.        , 0.19302325,\n",
       "       0.852     ], dtype=float32)"
      ]
     },
     "execution_count": 3,
     "metadata": {},
     "output_type": "execute_result"
    }
   ],
   "source": [
    "X_train[0]"
   ]
  },
  {
   "cell_type": "code",
   "execution_count": 4,
   "metadata": {},
   "outputs": [
    {
     "name": "stdout",
     "output_type": "stream",
     "text": [
      "WARNING:tensorflow:From c:\\Users\\ganes\\AppData\\Local\\Programs\\Python\\Python311\\Lib\\site-packages\\keras\\src\\backend.py:873: The name tf.get_default_graph is deprecated. Please use tf.compat.v1.get_default_graph instead.\n",
      "\n",
      "Epoch 1/100\n",
      "WARNING:tensorflow:From c:\\Users\\ganes\\AppData\\Local\\Programs\\Python\\Python311\\Lib\\site-packages\\keras\\src\\utils\\tf_utils.py:492: The name tf.ragged.RaggedTensorValue is deprecated. Please use tf.compat.v1.ragged.RaggedTensorValue instead.\n",
      "\n",
      "WARNING:tensorflow:From c:\\Users\\ganes\\AppData\\Local\\Programs\\Python\\Python311\\Lib\\site-packages\\keras\\src\\engine\\base_layer_utils.py:384: The name tf.executing_eagerly_outside_functions is deprecated. Please use tf.compat.v1.executing_eagerly_outside_functions instead.\n",
      "\n",
      "233/233 [==============================] - 2s 2ms/step - loss: 292.5963 - mean_absolute_error: 12.5798 - val_loss: 14.3569 - val_mean_absolute_error: 3.1659\n",
      "Epoch 2/100\n",
      "233/233 [==============================] - 0s 2ms/step - loss: 4.9405 - mean_absolute_error: 1.6372 - val_loss: 2.0150 - val_mean_absolute_error: 0.9560\n",
      "Epoch 3/100\n",
      "233/233 [==============================] - 0s 2ms/step - loss: 1.5532 - mean_absolute_error: 0.7581 - val_loss: 1.2681 - val_mean_absolute_error: 0.6030\n",
      "Epoch 4/100\n",
      "233/233 [==============================] - 0s 2ms/step - loss: 1.2294 - mean_absolute_error: 0.5702 - val_loss: 1.1575 - val_mean_absolute_error: 0.5329\n",
      "Epoch 5/100\n",
      "233/233 [==============================] - 0s 2ms/step - loss: 1.1402 - mean_absolute_error: 0.5005 - val_loss: 1.1691 - val_mean_absolute_error: 0.5098\n",
      "Epoch 6/100\n",
      "233/233 [==============================] - 0s 2ms/step - loss: 1.1239 - mean_absolute_error: 0.5005 - val_loss: 1.0759 - val_mean_absolute_error: 0.4347\n",
      "Epoch 7/100\n",
      "233/233 [==============================] - 0s 2ms/step - loss: 1.1127 - mean_absolute_error: 0.4729 - val_loss: 1.0664 - val_mean_absolute_error: 0.4284\n",
      "Epoch 8/100\n",
      "233/233 [==============================] - 0s 2ms/step - loss: 1.0823 - mean_absolute_error: 0.4614 - val_loss: 1.0703 - val_mean_absolute_error: 0.4766\n",
      "Epoch 9/100\n",
      "233/233 [==============================] - 0s 2ms/step - loss: 1.1031 - mean_absolute_error: 0.4870 - val_loss: 1.0198 - val_mean_absolute_error: 0.3951\n",
      "Epoch 10/100\n",
      "233/233 [==============================] - 0s 2ms/step - loss: 1.0805 - mean_absolute_error: 0.4625 - val_loss: 1.0274 - val_mean_absolute_error: 0.4384\n",
      "Epoch 11/100\n",
      "233/233 [==============================] - 0s 2ms/step - loss: 1.0938 - mean_absolute_error: 0.4685 - val_loss: 1.1236 - val_mean_absolute_error: 0.5461\n",
      "Epoch 12/100\n",
      "233/233 [==============================] - 0s 2ms/step - loss: 1.0634 - mean_absolute_error: 0.4555 - val_loss: 1.0465 - val_mean_absolute_error: 0.4735\n",
      "Epoch 13/100\n",
      "233/233 [==============================] - 0s 2ms/step - loss: 1.0971 - mean_absolute_error: 0.4982 - val_loss: 1.0802 - val_mean_absolute_error: 0.4544\n",
      "Epoch 14/100\n",
      "233/233 [==============================] - 0s 2ms/step - loss: 1.0974 - mean_absolute_error: 0.4897 - val_loss: 1.0214 - val_mean_absolute_error: 0.4042\n",
      "Model: \"sequential\"\n",
      "_________________________________________________________________\n",
      " Layer (type)                Output Shape              Param #   \n",
      "=================================================================\n",
      " dense (Dense)               (None, 64)                1088      \n",
      "                                                                 \n",
      " dense_1 (Dense)             (None, 32)                2080      \n",
      "                                                                 \n",
      " dense_2 (Dense)             (None, 16)                528       \n",
      "                                                                 \n",
      " dense_3 (Dense)             (None, 8)                 136       \n",
      "                                                                 \n",
      " dense_4 (Dense)             (None, 4)                 36        \n",
      "                                                                 \n",
      " dense_5 (Dense)             (None, 2)                 10        \n",
      "                                                                 \n",
      " dense_6 (Dense)             (None, 1)                 3         \n",
      "                                                                 \n",
      "=================================================================\n",
      "Total params: 3881 (15.16 KB)\n",
      "Trainable params: 3881 (15.16 KB)\n",
      "Non-trainable params: 0 (0.00 Byte)\n",
      "_________________________________________________________________\n"
     ]
    },
    {
     "data": {
      "image/png": "[encoded data removed]",
      "text/plain": [
       "<Figure size 640x480 with 1 Axes>"
      ]
     },
     "metadata": {},
     "output_type": "display_data"
    }
   ],
   "source": [
    "\"\"\" Model \"\"\"\n",
    "ANN_model = keras.Sequential(\n",
    "    [\n",
    "        keras.layers.Dense(64, activation=\"relu\"),\n",
    "        keras.layers.Dense(32, activation=\"relu\"),\n",
    "        keras.layers.Dense(16, activation=\"relu\"),\n",
    "        keras.layers.Dense(8, activation=\"relu\"),\n",
    "        keras.layers.Dense(4, activation=\"relu\"),\n",
    "        keras.layers.Dense(2, activation=\"relu\"),\n",
    "        keras.layers.Dense(1),\n",
    "    ]\n",
    ")\n",
    "\n",
    "ANN_model.compile(\n",
    "    optimizer=keras.optimizers.Adam(),\n",
    "    loss=keras.losses.mean_squared_error,\n",
    "    metrics=keras.metrics.mean_absolute_error,\n",
    ")\n",
    "early_stopping = EarlyStopping(patience=5)\n",
    "history = ANN_model.fit(\n",
    "    X_train,\n",
    "    y_train,\n",
    "    epochs=100,\n",
    "    validation_data=(X_test, y_test),\n",
    "    callbacks=[early_stopping],\n",
    ")\n",
    "\n",
    "ANN_model.summary()\n",
    "\n",
    "plt.plot(history.history[\"loss\"])\n",
    "plt.title(\"Training Loss\")\n",
    "plt.xlabel(\"Epoch\")\n",
    "plt.ylabel(\"Loss\")\n",
    "plt.show()"
   ]
  },
  {
   "cell_type": "code",
   "execution_count": 5,
   "metadata": {},
   "outputs": [
    {
     "name": "stdout",
     "output_type": "stream",
     "text": [
      "233/233 [==============================] - 0s 651us/step\n"
     ]
    }
   ],
   "source": [
    "ann_ypred = ANN_model.predict(X_test)"
   ]
  },
  {
   "cell_type": "code",
   "execution_count": 10,
   "metadata": {},
   "outputs": [
    {
     "name": "stdout",
     "output_type": "stream",
     "text": [
      "MSE: 1.1022829\n",
      "R2: 0.9612087406630606\n",
      "MAE: 0.42236853\n"
     ]
    }
   ],
   "source": [
    "from sklearn.metrics import mean_squared_error, r2_score, mean_absolute_error\n",
    "from sklearn.linear_model import LinearRegression\n",
    "from sklearn.model_selection import GridSearchCV\n",
    "from sklearn.linear_model import Ridge, Lasso\n",
    "model = LinearRegression()\n",
    "model.fit(X_train, y_train)\n",
    "\n",
    "\n",
    "model_ridge = Ridge(alpha=0.1)  # Adjust alpha for regularization strength\n",
    "model_ridge.fit(X_train, y_train)\n",
    "\n",
    "\n",
    "param_grid = {\"alpha\": [0.01, 0.1, 1, 10]}  # Example grid for Ridge alpha\n",
    "# 5-fold cross-validation\n",
    "grid_search = GridSearchCV(Ridge(), param_grid, cv=5)\n",
    "grid_search.fit(X_train, y_train)\n",
    "\n",
    "# 5. Evaluate Performance\n",
    "# Assess the model's performance on both training and testing sets using metrics like R-squared, MSE, MAE\n",
    "\n",
    "y_pred = model.predict(X_test)  # Or use the model from grid search\n",
    "mse = mean_squared_error(y_test, y_pred)\n",
    "r2 = r2_score(y_test, y_pred)\n",
    "mae = mean_absolute_error(y_test, y_pred)\n",
    "print(\"MSE:\", mse)\n",
    "print(\"R2:\", r2)\n",
    "print(\"MAE:\", mae)"
   ]
  },
  {
   "cell_type": "code",
   "execution_count": 11,
   "metadata": {},
   "outputs": [
    {
     "name": "stdout",
     "output_type": "stream",
     "text": [
      "SVR rbf MAE: 0.33551342243170035, MSE: 1.1439453120052412\n",
      "SVR linear MAE: 0.35127640272657107, MSE: 1.2088198820227516\n",
      "SVR poly MAE: 0.3232046721063491, MSE: 1.010839768863369\n"
     ]
    }
   ],
   "source": [
    "from sklearn.svm import SVR\n",
    "\n",
    "# Try different kernels\n",
    "svr_models = [\n",
    "    SVR(kernel=\"rbf\", C=10, gamma=0.1),\n",
    "    SVR(kernel=\"linear\", C=10),\n",
    "    SVR(kernel=\"poly\", C=10, degree=3),\n",
    "]\n",
    "\n",
    "# Fine-tune hyperparameters\n",
    "for model in svr_models:\n",
    "    model.fit(X_train, y_train)\n",
    "\n",
    "    svr_ypred = model.predict(X_test)\n",
    "\n",
    "    svr_mae = mean_absolute_error(y_test, svr_ypred)\n",
    "    svr_mse = mean_squared_error(y_test, svr_ypred)\n",
    "\n",
    "    print(f\"SVR {model.kernel} MAE: {svr_mae}, MSE: {svr_mse}\")"
   ]
  },
  {
   "cell_type": "code",
   "execution_count": 12,
   "metadata": {},
   "outputs": [
    {
     "name": "stdout",
     "output_type": "stream",
     "text": [
      "MLR MAE: 0.42236853\n",
      "MLR MSE: 1.1022829\n",
      "MLR with Poly Features MAE: 0.37091634\n",
      "MLR with Poly Features MSE: 0.8918633\n"
     ]
    }
   ],
   "source": [
    "from sklearn.preprocessing import PolynomialFeatures\n",
    "from sklearn.linear_model import LinearRegression\n",
    "\n",
    "# Feature selection using L1 regularization\n",
    "mlr_model = LinearRegression()\n",
    "mlr_model.fit(X_train, y_train)\n",
    "\n",
    "mlr_ypred = mlr_model.predict(X_test)\n",
    "\n",
    "mlr_mae = mean_absolute_error(y_test, mlr_ypred)\n",
    "mlr_mse = mean_squared_error(y_test, mlr_ypred)\n",
    "print(\"MLR MAE:\", mlr_mae)\n",
    "print(\"MLR MSE:\", mlr_mse)\n",
    "\n",
    "# Consider adding polynomial features\n",
    "\n",
    "poly_features = PolynomialFeatures(degree=2)\n",
    "X_train_poly = poly_features.fit_transform(X_train)\n",
    "X_test_poly = poly_features.transform(X_test)\n",
    "\n",
    "mlr_model_poly = LinearRegression()\n",
    "mlr_model_poly.fit(X_train_poly, y_train)\n",
    "\n",
    "mlr_poly_ypred = mlr_model_poly.predict(X_test_poly)\n",
    "\n",
    "mlr_poly_mae = mean_absolute_error(y_test, mlr_poly_ypred)\n",
    "mlr_poly_mse = mean_squared_error(y_test, mlr_poly_ypred)\n",
    "print(\"MLR with Poly Features MAE:\", mlr_poly_mae)\n",
    "print(\"MLR with Poly Features MSE:\", mlr_poly_mse)"
   ]
  },
  {
   "cell_type": "code",
   "execution_count": null,
   "metadata": {},
   "outputs": [],
   "source": [
    "plt.figure(figsize=(15, 4))\n",
    "\n",
    "plt.subplot(141)\n",
    "plt.scatter(y_test[:150], y_test[:150], color=\"red\")\n",
    "plt.scatter(y_test[:150], ann_ypred[:150], color=\"green\")\n",
    "plt.title(\"ANN_model\")\n",
    "\n",
    "plt.subplot(142)\n",
    "plt.scatter(y_test[:150], y_test[:150], color=\"red\")\n",
    "plt.scatter(y_test[:150], dtr_ypred[:150], color=\"green\")\n",
    "plt.title(\"dtr_model\")\n",
    "\n",
    "plt.subplot(143)\n",
    "plt.scatter(y_test[:150], y_test[:150], color=\"red\")\n",
    "plt.scatter(y_test[:150], svr_ypred[:150], color=\"green\")\n",
    "plt.title(\"svr_models\")\n",
    "\n",
    "plt.subplot(144)\n",
    "plt.scatter(y_test[:150], y_test[:150], color=\"red\")\n",
    "plt.scatter(y_test[:150], mlr_ypred[:150], color=\"green\")\n",
    "plt.title(\"mlr_model\")"
   ]
  },
  {
   "cell_type": "code",
   "execution_count": 14,
   "metadata": {},
   "outputs": [
    {
     "name": "stdout",
     "output_type": "stream",
     "text": [
      "MSE: 0.0\n"
     ]
    }
   ],
   "source": [
    "from sklearn.model_selection import GridSearchCV\n",
    "from sklearn.tree import DecisionTreeRegressor\n",
    "\n",
    "regressor = DecisionTreeRegressor()\n",
    "regressor.fit(X_train, y_train)\n",
    "\n",
    "# Make predictions and evaluate\n",
    "y_pred = regressor.predict(X_test)\n",
    "mse = mean_squared_error(y_test, y_pred)\n",
    "print(\"MSE:\", mse)\n",
    "\n",
    "\n",
    "param_grid = {\n",
    "    \"max_depth\": [3, 5, 7, 10],\n",
    "    \"min_samples_split\": [2, 5, 10],\n",
    "    \"min_samples_leaf\": [1, 2, 4],\n",
    "    \"criterion\": [\"squared_error\", \"absolute_error\"],\n",
    "}\n",
    "\n",
    "grid_search = GridSearchCV(DecisionTreeRegressor(), param_grid, cv=5)\n",
    "grid_search.fit(X_train, y_train)\n",
    "\n",
    "best_model = grid_search.best_estimator_"
   ]
  },
  {
   "cell_type": "code",
   "execution_count": 15,
   "metadata": {},
   "outputs": [
    {
     "name": "stdout",
     "output_type": "stream",
     "text": [
      "DecisionTreeRegressor(max_depth=7, min_samples_leaf=4, min_samples_split=10)\n"
     ]
    }
   ],
   "source": [
    "print(best_model)"
   ]
  },
  {
   "cell_type": "code",
   "execution_count": 17,
   "metadata": {},
   "outputs": [
    {
     "name": "stdout",
     "output_type": "stream",
     "text": [
      "mean absolute error =  0.35348076428786024\n",
      "mean Squared error =  0.7238082922452308\n",
      "r2 score =  0.9745279205304441\n"
     ]
    }
   ],
   "source": [
    "dtr_model = DecisionTreeRegressor(max_depth=7, min_samples_leaf=4, min_samples_split=10)\n",
    "dtr_model.fit(X_train, y_train)\n",
    "dtr_ypred = dtr_model.predict(X_test).reshape(-1, 1)\n",
    "\n",
    "dtr_mae = mean_absolute_error(y_test, dtr_ypred)\n",
    "dtr_mse = mean_squared_error(y_test, dtr_ypred)\n",
    "dtr_r2 = r2_score(y_test, dtr_ypred)\n",
    "print(\"mean absolute error = \", dtr_mae)\n",
    "print(\"mean Squared error = \", dtr_mse)\n",
    "print(\"r2 score = \", dtr_r2)"
   ]
  },
  {
   "cell_type": "code",
   "execution_count": null,
   "metadata": {},
   "outputs": [],
   "source": []
  }
 ],
 "metadata": {
  "kernelspec": {
   "display_name": "Python 3",
   "language": "python",
   "name": "python3"
  },
  "language_info": {
   "codemirror_mode": {
    "name": "ipython",
    "version": 3
   },
   "file_extension": ".py",
   "mimetype": "text/x-python",
   "name": "python",
   "nbconvert_exporter": "python",
   "pygments_lexer": "ipython3",
   "version": "3.11.6"
  }
 },
 "nbformat": 4,
 "nbformat_minor": 2
}
